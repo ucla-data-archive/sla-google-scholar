{
 "cells": [
  {
   "cell_type": "code",
   "execution_count": 441,
   "metadata": {},
   "outputs": [],
   "source": [
    "#!pip install selenium\n",
    "#!pip install bs4\n",
    "#!pip install fnmatch"
   ]
  },
  {
   "cell_type": "code",
   "execution_count": 438,
   "metadata": {},
   "outputs": [],
   "source": [
    "import requests\n",
    "from bs4 import BeautifulSoup\n",
    "from selenium import webdriver\n",
    "from selenium.common.exceptions import InvalidElementStateException\n",
    "import time\n",
    "import pprint\n",
    "import re\n",
    "import csv\n",
    "import fnmatch\n",
    "import os"
   ]
  },
  {
   "cell_type": "code",
   "execution_count": 167,
   "metadata": {
    "collapsed": true
   },
   "outputs": [],
   "source": [
    "BASE_URL = 'https://scholar.google.com/citations'"
   ]
  },
  {
   "cell_type": "code",
   "execution_count": 442,
   "metadata": {},
   "outputs": [],
   "source": [
    "def get_users(): \n",
    "    \n",
    "    #links from spreadsheet, next time we can grab from wixs in future\n",
    "    sla_authors = ['https://scholar.google.com/citations?user=v9rIqPQAAAAJ&hl=en',\n",
    "    'https://scholar.google.com/citations?hl=en&user=igIKOZcAAAAJ&view_op=list_works&sortby=pubdate',\n",
    "    'https://scholar.google.com/scholar?hl=en&as_sdt=0%2C5&q=timothy+malloy+ucla&btnG=',\n",
    "    'https://scholar.google.com/citations?user=gkygJ18AAAAJ&hl=en&oi=ao',\n",
    "    'https://scholar.google.com/citations?user=1AG9uzsAAAAJ&hl=en',\n",
    "    'https://scholar.google.com/citations?user=Rl5xhgwAAAAJ&hl=en&oi=ao',\n",
    "    'https://scholar.google.com/citations?user=AfHMFccAAAAJ&hl=en&oi=ao',\n",
    "    'https://scholar.google.com/citations?user=VXvek_AAAAAJ&hl=en&oi=sra',\n",
    "    'https://scholar.google.com/citations?user=9CC9gHoAAAAJ&hl=en&oi=ao',\n",
    "    'https://scholar.google.com/citations?user=rOvEiAYAAAAJ&hl=en',\n",
    "    'https://scholar.google.com/citations?user=GVYNtNsAAAAJ&hl=en',\n",
    "    'https://scholar.google.com/scholar?hl=en&as_sdt=0%2C5&q=CW+Wong+ucla&btnG=',\n",
    "    'https://scholar.google.com/citations?user=ceCfTvcAAAAJ&hl=en&oi=ao',\n",
    "    'https://scholar.google.com/citations?user=kvSIKM8AAAAJ&hl=en&oi=ao']\n",
    "\n",
    "    user_id_regex = re.compile(\"user=(.{12})&\")\n",
    "\n",
    "    user_id = [m.group(1) for a in sla_authors for m in [user_id_regex.search(a)] if m]\n",
    "    #[au in au for sla_authors]\n",
    "\n",
    "    #print(user_id)\n",
    "    return user_id"
   ]
  },
  {
   "cell_type": "code",
   "execution_count": 455,
   "metadata": {
    "collapsed": true
   },
   "outputs": [],
   "source": [
    "def get_full_user_page(user):\n",
    "    \"\"\"\n",
    "    Will click to show all of the articles.\n",
    "    \n",
    "    :param user: an ID for a google scholar user\n",
    "    :returns: returns a list of articles\n",
    "    \n",
    "    \"\"\"\n",
    "    \n",
    "    url = BASE_URL + \"?user=\" + user\n",
    "    \n",
    "    driver.get(url)\n",
    "\n",
    "    pages_remaining = True\n",
    "\n",
    "    while pages_remaining:\n",
    "\n",
    "        try:\n",
    "            #Checks if there are more pages with links\n",
    "            driver.find_element_by_id('gsc_bpf_more').click()         \n",
    "            time.sleep(5)\n",
    "            #print('pages_remaining ', pages_remaining)\n",
    "        except InvalidElementStateException:\n",
    "            gscholar_citations = driver.page_source\n",
    "            pages_remaining = False\n",
    "            #print('pages_remaining ', pages_remaining)\n",
    "    \n",
    "    #driver.quit()\n",
    "    \n",
    "    return gscholar_citations\n"
   ]
  },
  {
   "cell_type": "code",
   "execution_count": 444,
   "metadata": {
    "collapsed": true
   },
   "outputs": [],
   "source": [
    "def get_author_citations_links(page):\n",
    "    \"\"\"\n",
    "    Will take a google sholar profile page and convert to BeautifulSoup object, \n",
    "    then extract the author & citation links. Then returns as a list. \n",
    "    \n",
    "    :param page: a google scholar author page\n",
    "    :returns: returns a list that contains the name of the author and the citation links\n",
    "    \n",
    "    \"\"\"\n",
    "    #make a soup object\n",
    "    gscholar_soup = BeautifulSoup(page, 'lxml')\n",
    "    \n",
    "   \n",
    "    author = gscholar_soup.find(id=\"gsc_prf_in\").get_text()\n",
    "    #author_cite_links.append(author)\n",
    "    citation_links = [link['data-href'] for link in gscholar_soup.select(\"a.gsc_a_at\")]\n",
    "    \n",
    "    #get the IDs from the author_cite_lists \n",
    "    citation_id_regex = re.compile(\"citation_for_view=(.{25})\")\n",
    "    citation_ids = [m.group(1) for c in citation_links for m in [citation_id_regex.search(c)] if m]\n",
    "    \n",
    "    return author, citation_ids"
   ]
  },
  {
   "cell_type": "code",
   "execution_count": 457,
   "metadata": {},
   "outputs": [],
   "source": [
    "def get_citations(author, cids):\n",
    "    \"\"\"\n",
    "    Takes a list that contains the author and her citation page links. Opens and scrapes\n",
    "    citation pages and builds a dictionary of the author and citations. Returns the dict.\n",
    "    \n",
    "    :param links: a list containing author and another list of citation pages.\n",
    "    :returns: returns a dictionary with the author and their citations.\n",
    "    \"\"\"\n",
    "        \n",
    "    author_bib = []\n",
    "    \n",
    "    for l in cids: \n",
    "        print(l)\n",
    "        #citation_for_view=igIKOZcAAAAJ:tntj4plCNvAC\n",
    "        search_params = {'view_op': 'view_citation',\n",
    "                         'h1': 'en',\n",
    "                         'citation_for_view':l}\n",
    "        cite_page = requests.get(BASE_URL, params=search_params)\n",
    "        #print(cite_page.url)\n",
    "        cpage_soup = BeautifulSoup(cite_page.text, 'lxml')\n",
    "        #link & title = a gsc_vcd_title_link\n",
    "        #authors = div gsc_vcd_value\n",
    "        #date = div gsc_vcd_value\n",
    "        #need to filter out patents and filter in by a group of words\n",
    "        if cpage_soup.select_one('div#gsc_ocd_view').text in ['Investors', 'Conference']:\n",
    "            continue \n",
    "        else:\n",
    "            citation = {}\n",
    "            citation['title'] = cpage_soup.select_one(\"a.gsc_vcd_title_link\").text\n",
    "            citation['url'] = cpage_soup.select_one(\"a.gsc_vcd_title_link\")['href']\n",
    "            citation['sla_author'] = author\n",
    "            citation['compact_authors'] = cpage_soup.select('div.gsc_vcd_merged_snippet div')[1].text.replace(u'\\xa0', u'')\n",
    "            citation['authors'] = cpage_soup.select('div.gsc_vcd_value')[0].text\n",
    "            citation['date'] = cpage_soup.select('div.gsc_vcd_value')[1].text\n",
    "            citation['publication'] = cpage_soup.select('div.gsc_vcd_value')[2].text\n",
    "        \n",
    "        time.sleep(3)\n",
    "\n",
    "        author_bib.append(citation)\n",
    "    return author_bib"
   ]
  },
  {
   "cell_type": "code",
   "execution_count": 446,
   "metadata": {},
   "outputs": [],
   "source": [
    "def write_out_csv(citations):\n",
    "    '''Takes a list of dictionaries and writes out as a csv file'''\n",
    "    \n",
    "    filename = \"sla_bib.csv\"\n",
    "    \n",
    "    if os.path.exists(filename):\n",
    "        append_write = 'a' # append if already exists\n",
    "    else:\n",
    "        append_write = 'w' # make a new file if not\n",
    "    \n",
    "    with open('sla-bibliographies.csv', append_write) as sb:\n",
    "\n",
    "        writer = csv.DictWriter(csvfile, fieldnames=fieldnames)\n",
    "        writer.writeheader()\n",
    "        \n",
    "        for d in cites:\n",
    "            writer.writerow(d)"
   ]
  },
  {
   "cell_type": "markdown",
   "metadata": {},
   "source": [
    "### run the code below\n",
    "1. start webdriver, it will stay active till you driver.quit() \n",
    "  * TODO: run headless \n",
    "2. run loop that will grab uids from list"
   ]
  },
  {
   "cell_type": "code",
   "execution_count": 461,
   "metadata": {},
   "outputs": [],
   "source": [
    "driver = webdriver.Firefox()"
   ]
  },
  {
   "cell_type": "code",
   "execution_count": null,
   "metadata": {},
   "outputs": [
    {
     "name": "stdout",
     "output_type": "stream",
     "text": [
      "v9rIqPQAAAAJ\n",
      "v9rIqPQAAAAJ:u5HHmVD_uO8C\n",
      "v9rIqPQAAAAJ:u-x6o8ySG0sC\n",
      "v9rIqPQAAAAJ:d1gkVwhDpl0C\n",
      "v9rIqPQAAAAJ:9yKSN-GCB0IC\n",
      "v9rIqPQAAAAJ:2osOgNQ5qMEC\n",
      "v9rIqPQAAAAJ:UeHWp8X0CEIC\n",
      "v9rIqPQAAAAJ:qjMakFHDy7sC\n",
      "v9rIqPQAAAAJ:LkGwnXOMwfcC\n",
      "v9rIqPQAAAAJ:IjCSPb-OGe4C\n",
      "v9rIqPQAAAAJ:zYLM7Y9cAGgC\n",
      "v9rIqPQAAAAJ:Y0pCki6q_DkC\n",
      "v9rIqPQAAAAJ:Tyk-4Ss8FVUC\n",
      "v9rIqPQAAAAJ:W7OEmFMy1HYC\n",
      "v9rIqPQAAAAJ:YsMSGLbcyi4C\n",
      "v9rIqPQAAAAJ:eQOLeE2rZwMC\n",
      "v9rIqPQAAAAJ:lmc2jWPfTJgC\n",
      "v9rIqPQAAAAJ:WF5omc3nYNoC\n",
      "v9rIqPQAAAAJ:3fE2CSJIrl8C\n",
      "v9rIqPQAAAAJ:0EnyYjriUFMC\n",
      "v9rIqPQAAAAJ:ufrVoPGSRksC\n",
      "v9rIqPQAAAAJ:_FxGoFyzp5QC\n",
      "v9rIqPQAAAAJ:Se3iqnhoufwC\n",
      "v9rIqPQAAAAJ:UebtZRa9Y70C\n",
      "v9rIqPQAAAAJ:roLk4NBRz8UC\n",
      "v9rIqPQAAAAJ:5nxA0vEk-isC\n",
      "v9rIqPQAAAAJ:hqOjcs7Dif8C\n",
      "v9rIqPQAAAAJ:pqnbT2bcN3wC\n",
      "v9rIqPQAAAAJ:MXK_kJrjxJIC\n",
      "v9rIqPQAAAAJ:8k81kl-MbHgC\n",
      "v9rIqPQAAAAJ:kNdYIx-mwKoC\n",
      "v9rIqPQAAAAJ:Zph67rFs4hoC\n",
      "v9rIqPQAAAAJ:KlAtU1dfN6UC\n",
      "v9rIqPQAAAAJ:YOwf2qJgpHMC\n",
      "v9rIqPQAAAAJ:4TOpqqG69KYC\n",
      "v9rIqPQAAAAJ:URolC5Kub84C\n",
      "v9rIqPQAAAAJ:_kc_bZDykSQC\n",
      "v9rIqPQAAAAJ:ULOm3_A8WrAC\n",
      "v9rIqPQAAAAJ:zLWjf1WUPmwC\n",
      "v9rIqPQAAAAJ:qxL8FJ1GzNcC\n",
      "v9rIqPQAAAAJ:epqYDVWIO7EC\n",
      "v9rIqPQAAAAJ:ldfaerwXgEUC\n",
      "v9rIqPQAAAAJ:isC4tDSrTZIC\n",
      "v9rIqPQAAAAJ:ZeXyd9-uunAC\n",
      "v9rIqPQAAAAJ:M3ejUd6NZC8C\n",
      "v9rIqPQAAAAJ:IWHjjKOFINEC\n",
      "v9rIqPQAAAAJ:BqipwSGYUEgC\n",
      "v9rIqPQAAAAJ:mVmsd5A6BfQC\n",
      "v9rIqPQAAAAJ:Wp0gIr-vW9MC\n",
      "v9rIqPQAAAAJ:4DMP91E08xMC\n",
      "v9rIqPQAAAAJ:aqlVkmm33-oC\n",
      "v9rIqPQAAAAJ:dhFuZR0502QC\n",
      "v9rIqPQAAAAJ:JV2RwH3_ST0C\n",
      "v9rIqPQAAAAJ:_Qo2XoVZTnwC\n",
      "v9rIqPQAAAAJ:R3hNpaxXUhUC\n",
      "v9rIqPQAAAAJ:r0BpntZqJG4C\n",
      "v9rIqPQAAAAJ:9ZlFYXVOiuMC\n",
      "v9rIqPQAAAAJ:QIV2ME_5wuYC\n",
      "v9rIqPQAAAAJ:L8Ckcad2t8MC\n",
      "v9rIqPQAAAAJ:hFOr9nPyWt4C\n",
      "v9rIqPQAAAAJ:mB3voiENLucC\n",
      "v9rIqPQAAAAJ:EYYDruWGBe4C\n",
      "v9rIqPQAAAAJ:7PzlFSSx8tAC\n",
      "v9rIqPQAAAAJ:TQgYirikUcIC\n",
      "v9rIqPQAAAAJ:HDshCWvjkbEC\n",
      "v9rIqPQAAAAJ:-f6ydRqryjwC\n",
      "v9rIqPQAAAAJ:qUcmZB5y_30C\n",
      "v9rIqPQAAAAJ:blknAaTinKkC\n",
      "v9rIqPQAAAAJ:TFP_iSt0sucC\n",
      "v9rIqPQAAAAJ:BUYA1_V_uYcC\n",
      "v9rIqPQAAAAJ:4MWp96NkSFoC\n",
      "v9rIqPQAAAAJ:e5wmG9Sq2KIC\n",
      "v9rIqPQAAAAJ:NaGl4SEjCO4C\n",
      "v9rIqPQAAAAJ:j3f4tGmQtD8C\n",
      "v9rIqPQAAAAJ:O3NaXMp0MMsC\n",
      "v9rIqPQAAAAJ:RYcK_YlVTxYC\n",
      "v9rIqPQAAAAJ:k_IJM867U9cC\n",
      "v9rIqPQAAAAJ:bEWYMUwI8FkC\n",
      "v9rIqPQAAAAJ:RHpTSmoSYBkC\n",
      "v9rIqPQAAAAJ:4JMBOYKVnBMC\n",
      "v9rIqPQAAAAJ:hMod-77fHWUC\n",
      "v9rIqPQAAAAJ:70eg2SAEIzsC\n",
      "v9rIqPQAAAAJ:iH-uZ7U-co4C\n",
      "v9rIqPQAAAAJ:M3NEmzRMIkIC\n",
      "v9rIqPQAAAAJ:NMxIlDl6LWMC\n",
      "v9rIqPQAAAAJ:kuK5TVdYjLIC\n",
      "v9rIqPQAAAAJ:YFjsv_pBGBYC\n",
      "v9rIqPQAAAAJ:maZDTaKrznsC\n",
      "v9rIqPQAAAAJ:GnPB-g6toBAC\n",
      "v9rIqPQAAAAJ:lSLTfruPkqcC\n",
      "v9rIqPQAAAAJ:ns9cj8rnVeAC\n",
      "v9rIqPQAAAAJ:xtRiw3GOFMkC\n",
      "v9rIqPQAAAAJ:RGFaLdJalmkC\n",
      "v9rIqPQAAAAJ:vV6vV6tmYwMC\n",
      "v9rIqPQAAAAJ:2P1L_qKh6hAC\n",
      "v9rIqPQAAAAJ:35N4QoGY0k4C\n",
      "v9rIqPQAAAAJ:J_g5lzvAfSwC\n",
      "v9rIqPQAAAAJ:WbkHhVStYXYC\n",
      "v9rIqPQAAAAJ:g5m5HwL7SMYC\n",
      "v9rIqPQAAAAJ:M05iB0D1s5AC\n",
      "v9rIqPQAAAAJ:SeFeTyx0c_EC\n",
      "v9rIqPQAAAAJ:TIZ-Mc8IlK0C\n",
      "v9rIqPQAAAAJ:VL0QpB8kHFEC\n",
      "v9rIqPQAAAAJ:LPZeul_q3PIC\n",
      "v9rIqPQAAAAJ:u_35RYKgDlwC\n",
      "v9rIqPQAAAAJ:cFHS6HbyZ2cC\n",
      "v9rIqPQAAAAJ:HoB7MX3m0LUC\n",
      "v9rIqPQAAAAJ:fPk4N6BV_jEC\n",
      "v9rIqPQAAAAJ:yD5IFk8b50cC\n",
      "v9rIqPQAAAAJ:pyW8ca7W8N0C\n",
      "v9rIqPQAAAAJ:ZHo1McVdvXMC\n",
      "v9rIqPQAAAAJ:KUbvn5osdkgC\n",
      "v9rIqPQAAAAJ:dfsIfKJdRG4C\n",
      "v9rIqPQAAAAJ:geHnlv5EZngC\n",
      "v9rIqPQAAAAJ:Tiz5es2fbqcC\n",
      "v9rIqPQAAAAJ:_xSYboBqXhAC\n",
      "v9rIqPQAAAAJ:D03iK_w7-QYC\n",
      "v9rIqPQAAAAJ:a0OBvERweLwC\n",
      "v9rIqPQAAAAJ:tYavs44e6CUC\n",
      "v9rIqPQAAAAJ:4OULZ7Gr8RgC\n",
      "v9rIqPQAAAAJ:3s1wT3WcHBgC\n",
      "v9rIqPQAAAAJ:zA6iFVUQeVQC\n",
      "v9rIqPQAAAAJ:uc_IGeMz5qoC\n",
      "v9rIqPQAAAAJ:hMsQuOkrut0C\n",
      "v9rIqPQAAAAJ:738O_yMBCRsC\n",
      "v9rIqPQAAAAJ:nb7KW1ujOQ8C\n",
      "v9rIqPQAAAAJ:f2IySw72cVMC\n",
      "v9rIqPQAAAAJ:CHSYGLWDkRkC\n",
      "v9rIqPQAAAAJ:b0M2c_1WBrUC\n",
      "v9rIqPQAAAAJ:EUQCXRtRnyEC\n",
      "v9rIqPQAAAAJ:rO6llkc54NcC\n",
      "v9rIqPQAAAAJ:bFI3QPDXJZMC\n",
      "v9rIqPQAAAAJ:XiSMed-E-HIC\n",
      "v9rIqPQAAAAJ:N5tVd3kTz84C\n",
      "v9rIqPQAAAAJ:p2g8aNsByqUC\n",
      "v9rIqPQAAAAJ:SP6oXDckpogC\n",
      "v9rIqPQAAAAJ:l7t_Zn2s7bgC\n",
      "v9rIqPQAAAAJ:4fKUyHm3Qg0C\n",
      "v9rIqPQAAAAJ:NhqRSupF_l8C\n",
      "v9rIqPQAAAAJ:abG-DnoFyZgC\n",
      "v9rIqPQAAAAJ:1sJd4Hv_s6UC\n",
      "v9rIqPQAAAAJ:UxriW0iASnsC\n",
      "v9rIqPQAAAAJ:KxtntwgDAa4C\n",
      "v9rIqPQAAAAJ:P5F9QuxV20EC\n",
      "v9rIqPQAAAAJ:dshw04ExmUIC\n",
      "v9rIqPQAAAAJ:uWQEDVKXjbEC\n",
      "v9rIqPQAAAAJ:Y5dfb0dijaUC\n",
      "v9rIqPQAAAAJ:BrmTIyaxlBUC\n",
      "v9rIqPQAAAAJ:OU6Ihb5iCvQC\n",
      "v9rIqPQAAAAJ:K3LRdlH-MEoC\n",
      "v9rIqPQAAAAJ:sSrBHYA8nusC\n",
      "v9rIqPQAAAAJ:uWiczbcajpAC\n",
      "v9rIqPQAAAAJ:u9iWguZQMMsC\n",
      "v9rIqPQAAAAJ:8AbLer7MMksC\n",
      "v9rIqPQAAAAJ:L7CI7m0gUJcC\n",
      "v9rIqPQAAAAJ:dQ2og3OwTAUC\n",
      "v9rIqPQAAAAJ:08ZZubdj9fEC\n",
      "v9rIqPQAAAAJ:mvPsJ3kp5DgC\n",
      "v9rIqPQAAAAJ:VOx2b1Wkg3QC\n",
      "v9rIqPQAAAAJ:tS2w5q8j5-wC\n",
      "v9rIqPQAAAAJ:vRqMK49ujn8C\n",
      "v9rIqPQAAAAJ:vDijr-p_gm4C\n",
      "v9rIqPQAAAAJ:EkHepimYqZsC\n",
      "v9rIqPQAAAAJ:tOudhMTPpwUC\n",
      "v9rIqPQAAAAJ:B3FOqHPlNUQC\n",
      "v9rIqPQAAAAJ:fQNAKQ3IYiAC\n",
      "v9rIqPQAAAAJ:HE397vMXCloC\n",
      "v9rIqPQAAAAJ:UHK10RUVsp4C\n",
      "v9rIqPQAAAAJ:wbdj-CoPYUoC\n"
     ]
    }
   ],
   "source": [
    "for uid in get_users()[:2]:\n",
    "    print(uid)\n",
    "    page = get_full_user_page(uid)\n",
    "    #show_all_articles on profile page\n",
    "    author, citation_ids = get_author_citations_links(page)\n",
    "    citations = get_citations(author, citation_ids)\n",
    "    write_out_csv(citations)"
   ]
  },
  {
   "cell_type": "code",
   "execution_count": 460,
   "metadata": {
    "collapsed": true
   },
   "outputs": [],
   "source": [
    "driver.quit()"
   ]
  },
  {
   "cell_type": "code",
   "execution_count": 432,
   "metadata": {},
   "outputs": [],
   "source": [
    "cites = get_citations(author, citation_list[:10])"
   ]
  },
  {
   "cell_type": "code",
   "execution_count": 209,
   "metadata": {},
   "outputs": [],
   "source": [
    "author, citation_list = get_author_citations_links(page)"
   ]
  },
  {
   "cell_type": "code",
   "execution_count": 312,
   "metadata": {},
   "outputs": [],
   "source": [
    "keywords_to_include = ['renewable energy', 'electric vehicles', 'battery', 'energy storage', 'EV', 'solar power',\n",
    "'urban', 'North America', 'avian', 'biodiversity', 'environment', 'climate', 'solar energy', 'thermal energy', \n",
    "'electronics', 'photonics', 'batteries', 'solar', 'energy', 'urban*', 'development'] \n",
    "\n",
    "include_words = '''los angeles, california, environment, water\n",
    "renewable, energy, algal, biofuels, biomass, fuel\n",
    "climate, california, biodiversity, north america*, native\n",
    "avian, biodiversity, environment, climate\n",
    "transportation networks, ZEV, zero emission vehicles, public transit\n",
    "thermal, battery, storage, energy, solar, wind\n",
    "solar, film, transparent, power, energy, photovoltaic\n",
    "aerosols, air pollution, ultrafine particles, air quality, PM2.5, PM10, ambient'''"
   ]
  },
  {
   "cell_type": "code",
   "execution_count": 433,
   "metadata": {
    "collapsed": true
   },
   "outputs": [
    {
     "data": {
      "text/plain": [
       "[{'authors': 'N Shyamsundar, Rajit Gadh',\n",
       "  'compact_authors': 'N Shyamsundar, R Gadh- Computer-aided design, 2001',\n",
       "  'date': '2001/8/1',\n",
       "  'publication': 'Computer-aided design',\n",
       "  'sla_author': 'Rajit Gadh',\n",
       "  'title': 'Internet-based collaborative product design with assembly features and virtual design spaces',\n",
       "  'url': 'https://www.sciencedirect.com/science/article/pii/S0010448501000690'},\n",
       " {'authors': 'N Shyamsundar, Rajit Gadh',\n",
       "  'compact_authors': 'N Shyamsundar, R Gadh- Computer-Aided Design, 2002',\n",
       "  'date': '2002/9/1',\n",
       "  'publication': 'Computer-Aided Design',\n",
       "  'sla_author': 'Rajit Gadh',\n",
       "  'title': 'Collaborative virtual prototyping of product assemblies over the Internet',\n",
       "  'url': 'https://www.sciencedirect.com/science/article/pii/S0010448501002044'},\n",
       " {'authors': 'Rajit Gadh, Tushar H Dani',\n",
       "  'compact_authors': 'R Gadh, TH Dani- US Patent 6,629,065, 2003',\n",
       "  'date': '2003/9/30',\n",
       "  'publication': 'US',\n",
       "  'sla_author': 'Rajit Gadh',\n",
       "  'title': 'Methods and apparata for rapid computer-aided design of objects in virtual reality and other environments',\n",
       "  'url': 'https://patents.google.com/patent/US6629065B1/en'},\n",
       " {'authors': 'Harish Ramamurthy, BS Prabhu, Rajit Gadh, Asad M Madni',\n",
       "  'compact_authors': 'H Ramamurthy, BS Prabhu, R Gadh, AM Madni- IEEE sensors journal, 2007',\n",
       "  'date': '2007/5',\n",
       "  'publication': 'IEEE sensors journal',\n",
       "  'sla_author': 'Rajit Gadh',\n",
       "  'title': 'Wireless industrial monitoring and control using a smart sensor platform',\n",
       "  'url': 'http://ieeexplore.ieee.org/abstract/document/4154692/'},\n",
       " {'authors': 'BS Prabhu, Xiaoyong Su, Harish Ramamurthy, Chi-Cheng Chu, Rajit Gadh',\n",
       "  'compact_authors': 'BS Prabhu, X Su, H Ramamurthy, CC Chu, R Gadh- Mobile, wireless, and sensor networks: Technology…, 2006',\n",
       "  'date': '2006/3/31',\n",
       "  'publication': 'Mobile, wireless, and sensor networks: Technology, applications, and future directions',\n",
       "  'sla_author': 'Rajit Gadh',\n",
       "  'title': 'WinRFID: a middleware for the enablement of radiofrequency identification (RFID)-based applications',\n",
       "  'url': 'http://books.google.com/books?hl=en&lr=&id=Ag4R8mEIYMoC&oi=fnd&pg=PA313&dq=info:40dLJaTySt0J:scholar.google.com&ots=17KEmTHzJL&sig=-XKJ36gT_ETSJOCiE-ewJRSdD7M'},\n",
       " {'authors': 'Li Zhekun, Rajit Gadh, BS Prabhu',\n",
       "  'compact_authors': 'L Zhekun, R Gadh, BS Prabhu- …Conferences and Computers and Information in…, 2004',\n",
       "  'date': '2004/1/1',\n",
       "  'publication': 'ASME 2004 International Design Engineering Technical Conferences and Computers and Information in Engineering Conference',\n",
       "  'sla_author': 'Rajit Gadh',\n",
       "  'title': 'Applications of RFID technology and smart parts in manufacturing',\n",
       "  'url': 'http://proceedings.asmedigitalcollection.asme.org/proceeding.aspx?articleid=1651593'},\n",
       " {'authors': 'Chi-Cheng P Chu, Tushar H Dani, Rajit Gadh',\n",
       "  'compact_authors': 'CCP Chu, TH Dani, R Gadh- Computer-Aided Design, 1997',\n",
       "  'date': '1997/10/1',\n",
       "  'publication': 'Computer-Aided Design',\n",
       "  'sla_author': 'Rajit Gadh',\n",
       "  'title': 'Multi-sensory user interface for a virtual-reality-based computeraided design system',\n",
       "  'url': 'https://www.sciencedirect.com/science/article/pii/S0010448597000213'},\n",
       " {'authors': 'Wenbo Shi, Xiaorong Xie, Chi-Cheng Chu, Rajit Gadh',\n",
       "  'compact_authors': 'W Shi, X Xie, CC Chu, R Gadh- IEEE Transactions on Smart Grid, 2015',\n",
       "  'date': '2015/5',\n",
       "  'publication': 'IEEE Transactions on Smart Grid',\n",
       "  'sla_author': 'Rajit Gadh',\n",
       "  'title': 'Distributed optimal energy management in microgrids',\n",
       "  'url': 'http://ieeexplore.ieee.org/abstract/document/6980137/'},\n",
       " {'authors': 'Tushar H Dani, Rajit Gadh',\n",
       "  'compact_authors': 'TH Dani, R Gadh- Computer-Aided Design, 1997',\n",
       "  'date': '1997/8/1',\n",
       "  'publication': 'Computer-Aided Design',\n",
       "  'sla_author': 'Rajit Gadh',\n",
       "  'title': 'Creation of concept shape designs via a virtual reality interface',\n",
       "  'url': 'https://www.sciencedirect.com/science/article/pii/S0010448596000917'},\n",
       " {'authors': 'SC-Y Lu, M Shpitalni, Rajit Gadh',\n",
       "  'compact_authors': 'SCY Lu, M Shpitalni, R Gadh- CIRP Annals, 1999',\n",
       "  'date': '1999/1/1',\n",
       "  'publication': 'CIRP Annals',\n",
       "  'sla_author': 'Rajit Gadh',\n",
       "  'title': 'Virtual and augmented reality technologies for product realization',\n",
       "  'url': 'https://www.sciencedirect.com/science/article/pii/S0007850607632296'}]"
      ]
     },
     "execution_count": 433,
     "metadata": {},
     "output_type": "execute_result"
    }
   ],
   "source": [
    "cites"
   ]
  },
  {
   "cell_type": "code",
   "execution_count": 434,
   "metadata": {},
   "outputs": [],
   "source": [
    "fieldnames = list(cites[0].keys())\n",
    "with open('cites-test.csv', 'w', newline='') as csvfile:\n",
    "    #fieldnames = ['first_name', 'last_name']\n",
    "    writer = csv.DictWriter(csvfile, fieldnames=fieldnames)\n",
    "\n",
    "    writer.writeheader()\n",
    "    for d in cites:\n",
    "        writer.writerow(d)"
   ]
  },
  {
   "cell_type": "code",
   "execution_count": 435,
   "metadata": {
    "collapsed": true
   },
   "outputs": [
    {
     "name": "stdout",
     "output_type": "stream",
     "text": [
      "compact_authors,title,publication,date,sla_author,url,authors\r",
      "\r\n",
      "\"N Shyamsundar, R Gadh- Computer-aided design, 2001\",Internet-based collaborative product design with assembly features and virtual design spaces,Computer-aided design,2001/8/1,Rajit Gadh,https://www.sciencedirect.com/science/article/pii/S0010448501000690,\"N Shyamsundar, Rajit Gadh\"\r",
      "\r\n",
      "\"N Shyamsundar, R Gadh- Computer-Aided Design, 2002\",Collaborative virtual prototyping of product assemblies over the Internet,Computer-Aided Design,2002/9/1,Rajit Gadh,https://www.sciencedirect.com/science/article/pii/S0010448501002044,\"N Shyamsundar, Rajit Gadh\"\r",
      "\r\n",
      "\"R Gadh, TH Dani- US Patent 6,629,065, 2003\",Methods and apparata for rapid computer-aided design of objects in virtual reality and other environments,US,2003/9/30,Rajit Gadh,https://patents.google.com/patent/US6629065B1/en,\"Rajit Gadh, Tushar H Dani\"\r",
      "\r\n",
      "\"H Ramamurthy, BS Prabhu, R Gadh, AM Madni- IEEE sensors journal, 2007\",Wireless industrial monitoring and control using a smart sensor platform,IEEE sensors journal,2007/5,Rajit Gadh,http://ieeexplore.ieee.org/abstract/document/4154692/,\"Harish Ramamurthy, BS Prabhu, Rajit Gadh, Asad M Madni\"\r",
      "\r\n",
      "\"BS Prabhu, X Su, H Ramamurthy, CC Chu, R Gadh- Mobile, wireless, and sensor networks: Technology…, 2006\",WinRFID: a middleware for the enablement of radiofrequency identification (RFID)-based applications,\"Mobile, wireless, and sensor networks: Technology, applications, and future directions\",2006/3/31,Rajit Gadh,http://books.google.com/books?hl=en&lr=&id=Ag4R8mEIYMoC&oi=fnd&pg=PA313&dq=info:40dLJaTySt0J:scholar.google.com&ots=17KEmTHzJL&sig=-XKJ36gT_ETSJOCiE-ewJRSdD7M,\"BS Prabhu, Xiaoyong Su, Harish Ramamurthy, Chi-Cheng Chu, Rajit Gadh\"\r",
      "\r\n",
      "\"L Zhekun, R Gadh, BS Prabhu- …Conferences and Computers and Information in…, 2004\",Applications of RFID technology and smart parts in manufacturing,ASME 2004 International Design Engineering Technical Conferences and Computers and Information in Engineering Conference,2004/1/1,Rajit Gadh,http://proceedings.asmedigitalcollection.asme.org/proceeding.aspx?articleid=1651593,\"Li Zhekun, Rajit Gadh, BS Prabhu\"\r",
      "\r\n",
      "\"CCP Chu, TH Dani, R Gadh- Computer-Aided Design, 1997\",Multi-sensory user interface for a virtual-reality-based computeraided design system,Computer-Aided Design,1997/10/1,Rajit Gadh,https://www.sciencedirect.com/science/article/pii/S0010448597000213,\"Chi-Cheng P Chu, Tushar H Dani, Rajit Gadh\"\r",
      "\r\n",
      "\"W Shi, X Xie, CC Chu, R Gadh- IEEE Transactions on Smart Grid, 2015\",Distributed optimal energy management in microgrids,IEEE Transactions on Smart Grid,2015/5,Rajit Gadh,http://ieeexplore.ieee.org/abstract/document/6980137/,\"Wenbo Shi, Xiaorong Xie, Chi-Cheng Chu, Rajit Gadh\"\r",
      "\r\n",
      "\"TH Dani, R Gadh- Computer-Aided Design, 1997\",Creation of concept shape designs via a virtual reality interface,Computer-Aided Design,1997/8/1,Rajit Gadh,https://www.sciencedirect.com/science/article/pii/S0010448596000917,\"Tushar H Dani, Rajit Gadh\"\r",
      "\r\n",
      "\"SCY Lu, M Shpitalni, R Gadh- CIRP Annals, 1999\",Virtual and augmented reality technologies for product realization,CIRP Annals,1999/1/1,Rajit Gadh,https://www.sciencedirect.com/science/article/pii/S0007850607632296,\"SC-Y Lu, M Shpitalni, Rajit Gadh\"\r",
      "\r\n"
     ]
    }
   ],
   "source": [
    "cat cites-test.csv"
   ]
  },
  {
   "cell_type": "code",
   "execution_count": null,
   "metadata": {
    "collapsed": true
   },
   "outputs": [],
   "source": []
  },
  {
   "cell_type": "code",
   "execution_count": 430,
   "metadata": {},
   "outputs": [
    {
     "name": "stdout",
     "output_type": "stream",
     "text": [
      "N Shyamsundar, Rajit Gadh 2001/8/1 Computer-aided design\n"
     ]
    }
   ],
   "source": [
    "authors = cpage_soup.select('div.gsc_vcd_value')[0].text\n",
    "date = cpage_soup.select('div.gsc_vcd_value')[1].text\n",
    "publication = cpage_soup.select('div.gsc_vcd_value')[2].text\n",
    "\n",
    "print(authors, date, publication)"
   ]
  },
  {
   "cell_type": "code",
   "execution_count": 213,
   "metadata": {
    "collapsed": true
   },
   "outputs": [],
   "source": [
    "import re\n",
    "regex = re.compile('th.s')\n",
    "l = ['this', 'is', 'just', 'a', 'test']"
   ]
  },
  {
   "cell_type": "code",
   "execution_count": 214,
   "metadata": {
    "collapsed": true
   },
   "outputs": [],
   "source": [
    "matches = [string for string in l if re.match(regex, string)]"
   ]
  },
  {
   "cell_type": "code",
   "execution_count": 215,
   "metadata": {},
   "outputs": [
    {
     "data": {
      "text/plain": [
       "['this']"
      ]
     },
     "execution_count": 215,
     "metadata": {},
     "output_type": "execute_result"
    }
   ],
   "source": [
    "matches"
   ]
  },
  {
   "cell_type": "code",
   "execution_count": 291,
   "metadata": {
    "collapsed": true
   },
   "outputs": [],
   "source": [
    "search_params = {'view_op': 'view_citation',\n",
    "                         'h1': 'en',\n",
    "                         'citation_for_view':'igIKOZcAAAAJ:tntj4plCNvAC'}\n",
    "cpage = requests.get(BASE_URL, params=search_params)"
   ]
  },
  {
   "cell_type": "code",
   "execution_count": 286,
   "metadata": {
    "collapsed": true
   },
   "outputs": [],
   "source": [
    "cpage = requests.get('https://scholar.google.com/citations?view_op=view_citation&hl=en&citation_for_view=igIKOZcAAAAJ:tntj4plCNvAC')"
   ]
  },
  {
   "cell_type": "code",
   "execution_count": 292,
   "metadata": {},
   "outputs": [
    {
     "data": {
      "text/plain": [
       "'https://scholar.google.com/citations?citation_for_view=igIKOZcAAAAJ%3Atntj4plCNvAC&view_op=view_citation&h1=en'"
      ]
     },
     "execution_count": 292,
     "metadata": {},
     "output_type": "execute_result"
    }
   ],
   "source": [
    "cpage.url"
   ]
  },
  {
   "cell_type": "code",
   "execution_count": 314,
   "metadata": {},
   "outputs": [],
   "source": [
    "c_page_soup = BeautifulSoup(cpage.text, 'lxml')"
   ]
  },
  {
   "cell_type": "code",
   "execution_count": 406,
   "metadata": {},
   "outputs": [],
   "source": [
    "if cpage_soup.select_one('div#gsc_ocd_view').text in ['Investor', 'Conference']:\n",
    "    print('yes')"
   ]
  },
  {
   "cell_type": "code",
   "execution_count": 315,
   "metadata": {},
   "outputs": [
    {
     "data": {
      "text/plain": [
       "'Ge/Si nanowire heterostructures as high-performance field-effect transistors'"
      ]
     },
     "execution_count": 315,
     "metadata": {},
     "output_type": "execute_result"
    }
   ],
   "source": [
    "c_page_soup.select('a.gsc_vcd_title_link')[0].text"
   ]
  },
  {
   "cell_type": "code",
   "execution_count": 295,
   "metadata": {},
   "outputs": [
    {
     "data": {
      "text/plain": [
       "'https://www.nature.com/articles/nature04796'"
      ]
     },
     "execution_count": 295,
     "metadata": {},
     "output_type": "execute_result"
    }
   ],
   "source": [
    "c_page_soup.select_one('a.gsc_vcd_title_link')['href']"
   ]
  },
  {
   "cell_type": "code",
   "execution_count": null,
   "metadata": {
    "collapsed": true
   },
   "outputs": [],
   "source": [
    "https://scholar.google.com/citations?view_op=view_citation&hl=en&user=igIKOZcAAAAJ&citation_for_view=igIKOZcAAAAJ:tntj4plCNvAC"
   ]
  },
  {
   "cell_type": "code",
   "execution_count": 343,
   "metadata": {},
   "outputs": [
    {
     "data": {
      "text/plain": [
       "'N Shyamsundar, R Gadh- Computer-aided design, 2001'"
      ]
     },
     "execution_count": 343,
     "metadata": {},
     "output_type": "execute_result"
    }
   ],
   "source": [
    "'N Shyamsundar, R Gadh\\xa0- Computer-aided design, 2001'.replace(u'\\xa0', u'')"
   ]
  },
  {
   "cell_type": "code",
   "execution_count": 351,
   "metadata": {
    "collapsed": true
   },
   "outputs": [],
   "source": [
    "bibdict = {'Authors': 'SC-Y Lu, M Shpitalni, Rajit Gadh',\n",
    "  'Issue': '2',\n",
    "  'Journal': 'CIRP Annals',\n",
    "  'Pages': '471-495',\n",
    "  'Publication date': '1999/1/1',\n",
    "  'Volume': '48',\n",
    "  'compact_authors': 'SCY Lu, M Shpitalni, R Gadh- CIRP Annals, 1999',\n",
    "  'sla_author': 'Rajit Gadh',\n",
    "  'title': 'Virtual and augmented reality technologies for product realization',\n",
    "  'url': 'https://www.sciencedirect.com/science/article/pii/S0007850607632296'}"
   ]
  },
  {
   "cell_type": "code",
   "execution_count": 357,
   "metadata": {
    "collapsed": true
   },
   "outputs": [],
   "source": [
    "w = csv.writer(open(\"output.csv\", \"w\"))\n",
    "for key, val in bibdict.items():\n",
    "    w.writerow([key, val])"
   ]
  },
  {
   "cell_type": "code",
   "execution_count": 358,
   "metadata": {},
   "outputs": [
    {
     "name": "stdout",
     "output_type": "stream",
     "text": [
      "README.md           geckodriver.log     practice.ipynb      sla-citations.ipynb\r\n",
      "example.html        output.csv          sla-authors.txt\r\n"
     ]
    }
   ],
   "source": [
    "!ls"
   ]
  },
  {
   "cell_type": "code",
   "execution_count": 359,
   "metadata": {},
   "outputs": [
    {
     "name": "stdout",
     "output_type": "stream",
     "text": [
      "url,https://www.sciencedirect.com/science/article/pii/S0007850607632296\r",
      "\r\n",
      "compact_authors,\"SCY Lu, M Shpitalni, R Gadh- CIRP Annals, 1999\"\r",
      "\r\n",
      "Publication date,1999/1/1\r",
      "\r\n",
      "Volume,48\r",
      "\r\n",
      "Issue,2\r",
      "\r\n",
      "sla_author,Rajit Gadh\r",
      "\r\n",
      "title,Virtual and augmented reality technologies for product realization\r",
      "\r\n",
      "Pages,471-495\r",
      "\r\n",
      "Authors,\"SC-Y Lu, M Shpitalni, Rajit Gadh\"\r",
      "\r\n",
      "Journal,CIRP Annals\r",
      "\r\n"
     ]
    }
   ],
   "source": [
    "!cat output.csv"
   ]
  },
  {
   "cell_type": "code",
   "execution_count": 356,
   "metadata": {},
   "outputs": [
    {
     "data": {
      "text/plain": [
       "dict"
      ]
     },
     "execution_count": 356,
     "metadata": {},
     "output_type": "execute_result"
    }
   ],
   "source": [
    "type(bibdict)"
   ]
  },
  {
   "cell_type": "code",
   "execution_count": 361,
   "metadata": {},
   "outputs": [
    {
     "name": "stdout",
     "output_type": "stream",
     "text": [
      "Object `tell` not found.\n"
     ]
    }
   ],
   "source": [
    "csv."
   ]
  },
  {
   "cell_type": "code",
   "execution_count": 362,
   "metadata": {
    "collapsed": true
   },
   "outputs": [],
   "source": [
    "import csv\n",
    "toCSV = [{'name':'bob','age':25,'weight':200},\n",
    "         {'name':'jim','age':31,'weight':180}]\n",
    "keys = toCSV[0].keys()"
   ]
  },
  {
   "cell_type": "code",
   "execution_count": 370,
   "metadata": {},
   "outputs": [
    {
     "data": {
      "text/plain": [
       "['weight', 'age', 'name']"
      ]
     },
     "execution_count": 370,
     "metadata": {},
     "output_type": "execute_result"
    }
   ],
   "source": [
    "list(keys)"
   ]
  }
 ],
 "metadata": {
  "kernelspec": {
   "display_name": "Python [conda env:anaconda3]",
   "language": "python",
   "name": "conda-env-anaconda3-py"
  },
  "language_info": {
   "codemirror_mode": {
    "name": "ipython",
    "version": 3
   },
   "file_extension": ".py",
   "mimetype": "text/x-python",
   "name": "python",
   "nbconvert_exporter": "python",
   "pygments_lexer": "ipython3",
   "version": "3.5.3"
  }
 },
 "nbformat": 4,
 "nbformat_minor": 2
}
