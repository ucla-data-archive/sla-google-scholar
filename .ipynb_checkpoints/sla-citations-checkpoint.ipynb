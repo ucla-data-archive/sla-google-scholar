{
 "cells": [
  {
   "cell_type": "code",
   "execution_count": 2,
   "metadata": {},
   "outputs": [
    {
     "name": "stdout",
     "output_type": "stream",
     "text": [
      "Interactive namespace is empty.\n"
     ]
    }
   ],
   "source": [
    "whos"
   ]
  },
  {
   "cell_type": "code",
   "execution_count": 441,
   "metadata": {
    "collapsed": true
   },
   "outputs": [],
   "source": [
    "#!pip install selenium\n",
    "#!pip install bs4\n",
    "#!pip install fnmatch"
   ]
  },
  {
   "cell_type": "code",
   "execution_count": 170,
   "metadata": {
    "collapsed": true
   },
   "outputs": [],
   "source": [
    "import requests\n",
    "from bs4 import BeautifulSoup\n",
    "from selenium import webdriver\n",
    "from selenium.common.exceptions import InvalidElementStateException\n",
    "import time\n",
    "import pprint\n",
    "import re\n",
    "import csv\n",
    "import fnmatch\n",
    "import os\n",
    "import numpy as np\n",
    "import pickle\n",
    "from random import choice\n",
    "from pprint import pprint"
   ]
  },
  {
   "cell_type": "code",
   "execution_count": 53,
   "metadata": {
    "collapsed": true
   },
   "outputs": [],
   "source": [
    "BASE_URL = 'https://scholar.google.com/citations'"
   ]
  },
  {
   "cell_type": "code",
   "execution_count": 2,
   "metadata": {
    "collapsed": true
   },
   "outputs": [],
   "source": [
    "desktop_agents = ['Mozilla/5.0 (Windows NT 6.1; WOW64) AppleWebKit/537.36 (KHTML, like Gecko) Chrome/54.0.2840.99 Safari/537.36',\n",
    "                 'Mozilla/5.0 (Windows NT 10.0; WOW64) AppleWebKit/537.36 (KHTML, like Gecko) Chrome/54.0.2840.99 Safari/537.36',\n",
    "                 'Mozilla/5.0 (Windows NT 10.0; Win64; x64) AppleWebKit/537.36 (KHTML, like Gecko) Chrome/54.0.2840.99 Safari/537.36',\n",
    "                 'Mozilla/5.0 (Macintosh; Intel Mac OS X 10_12_1) AppleWebKit/602.2.14 (KHTML, like Gecko) Version/10.0.1 Safari/602.2.14',\n",
    "                 'Mozilla/5.0 (Windows NT 10.0; WOW64) AppleWebKit/537.36 (KHTML, like Gecko) Chrome/54.0.2840.71 Safari/537.36',\n",
    "                 'Mozilla/5.0 (Macintosh; Intel Mac OS X 10_12_1) AppleWebKit/537.36 (KHTML, like Gecko) Chrome/54.0.2840.98 Safari/537.36',\n",
    "                 'Mozilla/5.0 (Macintosh; Intel Mac OS X 10_11_6) AppleWebKit/537.36 (KHTML, like Gecko) Chrome/54.0.2840.98 Safari/537.36',\n",
    "                 'Mozilla/5.0 (Windows NT 6.1; WOW64) AppleWebKit/537.36 (KHTML, like Gecko) Chrome/54.0.2840.71 Safari/537.36',\n",
    "                 'Mozilla/5.0 (Windows NT 6.1; Win64; x64) AppleWebKit/537.36 (KHTML, like Gecko) Chrome/54.0.2840.99 Safari/537.36',\n",
    "                 'Mozilla/5.0 (Windows NT 10.0; WOW64; rv:50.0) Gecko/20100101 Firefox/50.0']\n",
    " \n",
    "def random_headers():\n",
    "    return {'User-Agent': choice(desktop_agents),'Accept':'text/html,application/xhtml+xml,application/xml;q=0.9,image/webp,*/*;q=0.8'}\n",
    " "
   ]
  },
  {
   "cell_type": "code",
   "execution_count": 3,
   "metadata": {
    "collapsed": true
   },
   "outputs": [],
   "source": [
    "def get_users(): \n",
    "    \n",
    "    #links from spreadsheet, next time we can grab from wixs in future\n",
    "    sla_authors = ['https://scholar.google.com/citations?user=v9rIqPQAAAAJ&hl=en',\n",
    "    'https://scholar.google.com/citations?hl=en&user=igIKOZcAAAAJ&view_op=list_works&sortby=pubdate',\n",
    "    'https://scholar.google.com/scholar?hl=en&as_sdt=0%2C5&q=timothy+malloy+ucla&btnG=',\n",
    "    'https://scholar.google.com/citations?user=gkygJ18AAAAJ&hl=en&oi=ao',\n",
    "    'https://scholar.google.com/citations?user=1AG9uzsAAAAJ&hl=en',\n",
    "    'https://scholar.google.com/citations?user=Rl5xhgwAAAAJ&hl=en&oi=ao',\n",
    "    'https://scholar.google.com/citations?user=AfHMFccAAAAJ&hl=en&oi=ao',\n",
    "    'https://scholar.google.com/citations?user=VXvek_AAAAAJ&hl=en&oi=sra',\n",
    "    'https://scholar.google.com/citations?user=9CC9gHoAAAAJ&hl=en&oi=ao',\n",
    "    'https://scholar.google.com/citations?user=rOvEiAYAAAAJ&hl=en',\n",
    "    'https://scholar.google.com/citations?user=GVYNtNsAAAAJ&hl=en',\n",
    "    'https://scholar.google.com/scholar?hl=en&as_sdt=0%2C5&q=CW+Wong+ucla&btnG=',\n",
    "    'https://scholar.google.com/citations?user=ceCfTvcAAAAJ&hl=en&oi=ao',\n",
    "    'https://scholar.google.com/citations?user=kvSIKM8AAAAJ&hl=en&oi=ao']\n",
    "\n",
    "    user_id_regex = re.compile(\"user=(.{12})&\")\n",
    "\n",
    "    user_id = [m.group(1) for a in sla_authors for m in [user_id_regex.search(a)] if m]\n",
    "    #[au in au for sla_authors]\n",
    "\n",
    "    #print(user_id)\n",
    "    print(len(user_id))\n",
    "    \n",
    "    return user_id"
   ]
  },
  {
   "cell_type": "code",
   "execution_count": 4,
   "metadata": {
    "collapsed": true
   },
   "outputs": [],
   "source": [
    "def get_full_user_page(user):\n",
    "    \"\"\"\n",
    "    Will click to show all of the articles.\n",
    "    \n",
    "    :param user: an ID for a google scholar user\n",
    "    :returns: returns a list of articles\n",
    "    \n",
    "    \"\"\"\n",
    "    \n",
    "    url = BASE_URL + \"?user=\" + user\n",
    "    \n",
    "    driver.get(url)\n",
    "\n",
    "    pages_remaining = True\n",
    "\n",
    "    while pages_remaining:\n",
    "\n",
    "        try:\n",
    "            #Checks if there are more pages with links\n",
    "            driver.find_element_by_id('gsc_bpf_more').click()         \n",
    "            time.sleep((10-5)*np.random.random()+5) #from 5 to 30 seconds\n",
    "            #print('pages_remaining ', pages_remaining)\n",
    "        except InvalidElementStateException:\n",
    "            gscholar_citations = driver.page_source\n",
    "            pages_remaining = False\n",
    "            #print('pages_remaining ', pages_remaining)\n",
    "    \n",
    "    #driver.quit()s\n",
    "    \n",
    "    return gscholar_citations\n"
   ]
  },
  {
   "cell_type": "code",
   "execution_count": 5,
   "metadata": {
    "collapsed": true
   },
   "outputs": [],
   "source": [
    "def get_author_citations_links(page):\n",
    "    \"\"\"\n",
    "    Will take a google sholar profile page and convert to BeautifulSoup object, \n",
    "    then extract the author, uid, cid, title and citation page ID. \n",
    "    Then returns as list of dictionaries. \n",
    "    \n",
    "    :param page: a google scholar author page\n",
    "    :returns: returns a list of dicts that contain he author, uid, cid, \n",
    "    title and citation page ID\n",
    "    \"\"\"\n",
    "    #make a soup object\n",
    "    gscholar_soup = BeautifulSoup(page, 'lxml')\n",
    "    \n",
    "    citations = {}\n",
    "    author = gscholar_soup.find(id=\"gsc_prf_in\").get_text()\n",
    "    for cite in gscholar_soup.select('td.gsc_a_t:\n",
    "        citation = {}\n",
    "        citation['title'] = cite.find(id=\"\").get_text()\n",
    "        #get the IDs from the author_cite_lists \n",
    "        #TODO: need to alter below to extract pattern v9rIqPQAAAAJ:u5HHmVD_uO8C\n",
    "        #TODO: need to split on : v9rIqPQAAAAJ:u5HHmVD_uO8C and assign first part \n",
    "        # to uid and second to cid \n",
    "        citation_id_regex = re.compile(\"citation_for_view=(.{25})\")\n",
    "        citation_ids = [m.group(1) for c in citation_links for m in [citation_id_regex.search(c)] if m]\n",
    "\n",
    "        citation['uid'] = 'v9rIqPQAAAAJ'\n",
    "        citation['cid'] = 'u5HHmVD_uO8C'\n",
    "         #title and citation page ID        \n",
    "    \n",
    "    return citations"
   ]
  },
  {
   "cell_type": "code",
   "execution_count": 4,
   "metadata": {
    "collapsed": true
   },
   "outputs": [],
   "source": [
    "def get_external_publisher_link(author_cids):\n",
    "    \"\"\"\n",
    "    Takes a list that contains the author and her citation page links. Opens and scrapes\n",
    "    citation pages and builds a dictionary of the author and citations. Returns the dict.\n",
    "    \n",
    "    :param links: a list containing author and another list of citation pages.\n",
    "    :returns: returns a dictionary with the author and their citations.\n",
    "    \"\"\"\n",
    "    \n",
    "    #print(\"Author: \", author_cids[0][0], len(cids))\n",
    "    \n",
    "    author_bib = []\n",
    "    \n",
    "    for author, cid in author_cids: \n",
    "        for c in cid:\n",
    "            print(author,c)\n",
    "            #citation_for_view=igIKOZcAAAAJ:tntj4plCNvAC\n",
    "            search_params = {'view_op': 'view_citation',\n",
    "                             'h1': 'en',\n",
    "                             'citation_for_view':c}\n",
    "            cite_page = requests.get(BASE_URL, headers=random_headers(), params=search_params)\n",
    "            print(cite_page.url)\n",
    "            cpage_soup = BeautifulSoup(cite_page.text, 'lxml')\n",
    "            #if cpage_soup.select_one('div#gsc_ocd_view').text in ['Investors', 'Conference']:\n",
    "            #    continue \n",
    "            #else:\n",
    "            citation = {}\n",
    "            citation['title'] = cpage_soup.select('div.gsc_vcd_merged_snippet div a')[0].text\n",
    "            citation['url'] = cpage_soup.select('div.gsc_vcd_merged_snippet div a')[0]['href']\n",
    "            citation['sla_author'] = author\n",
    "            citation['compact_authors'] = cpage_soup.select('div.gsc_vcd_merged_snippet div')[1].text.replace(u'\\xa0', u'')\n",
    "            citation['authors'] = cpage_soup.select('div.gsc_vcd_value')[0].text\n",
    "            citation['date'] = cpage_soup.select('div.gsc_vcd_value')[1].text\n",
    "            citation['publication'] = cpage_soup.select('div.gsc_vcd_value')[2].text\n",
    "            \n",
    "            time.sleep((10-5)*np.random.random()+5) #from 5 to 30 seconds\n",
    "\n",
    "        time.sleep((10-5)*np.random.random()+5) #from 5 to 30 seconds\n",
    "\n",
    "        author_bib.append(citation)\n",
    "    return author_bib"
   ]
  },
  {
   "cell_type": "code",
   "execution_count": 580,
   "metadata": {},
   "outputs": [
    {
     "data": {
      "text/plain": [
       "'Internet-based collaborative product design with assembly features and virtual design spaces'"
      ]
     },
     "execution_count": 580,
     "metadata": {},
     "output_type": "execute_result"
    }
   ],
   "source": [
    "cpage_soup.select('div.gsc_vcd_merged_snippet div a')[0].text"
   ]
  },
  {
   "cell_type": "code",
   "execution_count": 13,
   "metadata": {
    "collapsed": true
   },
   "outputs": [],
   "source": [
    "def write_out_csv(citations):\n",
    "    '''Takes a list of dictionaries and writes out as a csv file'''\n",
    "    \n",
    "    filename = \"sla_bib.csv\"\n",
    "    \n",
    "    if os.path.exists(filename):\n",
    "        append_write = 'a' # append if already exists\n",
    "    else:\n",
    "        append_write = 'w' # make a new file if not\n",
    "    \n",
    "    with open('sla-bibliographies.csv', append_write) as sb:\n",
    "\n",
    "        writer = csv.DictWriter(csvfile, fieldnames=fieldnames)\n",
    "        writer.writeheader()\n",
    "        \n",
    "        for d in cites:\n",
    "            writer.writerow(d)"
   ]
  },
  {
   "cell_type": "markdown",
   "metadata": {},
   "source": [
    "### run the code below\n",
    "1. start webdriver, it will stay active till you driver.quit() \n",
    "  * TODO: run headless \n",
    "2. run loop that will grab uids from list"
   ]
  },
  {
   "cell_type": "code",
   "execution_count": 488,
   "metadata": {
    "collapsed": true
   },
   "outputs": [],
   "source": [
    "driver = webdriver.Firefox()"
   ]
  },
  {
   "cell_type": "code",
   "execution_count": 6,
   "metadata": {
    "collapsed": true
   },
   "outputs": [
    {
     "ename": "NameError",
     "evalue": "name 'get_users' is not defined",
     "output_type": "error",
     "traceback": [
      "\u001b[0;31m---------------------------------------------------------------------------\u001b[0m",
      "\u001b[0;31mNameError\u001b[0m                                 Traceback (most recent call last)",
      "\u001b[0;32m<ipython-input-6-01c4acb650dc>\u001b[0m in \u001b[0;36m<module>\u001b[0;34m()\u001b[0m\n\u001b[1;32m      1\u001b[0m \u001b[0mauthor_cids\u001b[0m \u001b[0;34m=\u001b[0m \u001b[0;34m[\u001b[0m\u001b[0;34m]\u001b[0m\u001b[0;34m\u001b[0m\u001b[0m\n\u001b[0;32m----> 2\u001b[0;31m \u001b[0;32mfor\u001b[0m \u001b[0muid\u001b[0m \u001b[0;32min\u001b[0m \u001b[0mget_users\u001b[0m\u001b[0;34m(\u001b[0m\u001b[0;34m)\u001b[0m\u001b[0;34m:\u001b[0m\u001b[0;34m\u001b[0m\u001b[0m\n\u001b[0m\u001b[1;32m      3\u001b[0m     \u001b[0mprint\u001b[0m\u001b[0;34m(\u001b[0m\u001b[0muid\u001b[0m\u001b[0;34m)\u001b[0m\u001b[0;34m\u001b[0m\u001b[0m\n\u001b[1;32m      4\u001b[0m     \u001b[0mpage\u001b[0m \u001b[0;34m=\u001b[0m \u001b[0mget_full_user_page\u001b[0m\u001b[0;34m(\u001b[0m\u001b[0muid\u001b[0m\u001b[0;34m)\u001b[0m\u001b[0;34m\u001b[0m\u001b[0m\n\u001b[1;32m      5\u001b[0m     \u001b[0;31m#show_all_articles on profile page\u001b[0m\u001b[0;34m\u001b[0m\u001b[0;34m\u001b[0m\u001b[0m\n",
      "\u001b[0;31mNameError\u001b[0m: name 'get_users' is not defined"
     ]
    }
   ],
   "source": [
    "author_cids = []\n",
    "for uid in get_users():  \n",
    "    print(uid)\n",
    "    page = get_full_user_page(uid)\n",
    "    #show_all_articles on profile page\n",
    "    author_citation_ids = get_author_citations_links(page)\n",
    "    #author_cids.append(author_citation_ids)\n",
    "    #write_out_csv(citations)"
   ]
  },
  {
   "cell_type": "code",
   "execution_count": 503,
   "metadata": {
    "collapsed": true
   },
   "outputs": [],
   "source": [
    "with open('outfile', 'wb') as fp:\n",
    "    pickle.dump(author_cids, fp)"
   ]
  },
  {
   "cell_type": "code",
   "execution_count": 3,
   "metadata": {
    "collapsed": true
   },
   "outputs": [
    {
     "name": "stdout",
     "output_type": "stream",
     "text": [
      "[('Rajit Gadh', ['v9rIqPQAAAAJ:u5HHmVD_uO8C', 'v9rIqPQAAAAJ:u-x6o8ySG0sC', 'v9rIqPQAAAAJ:d1gkVwhDpl0C', 'v9rIqPQAAAAJ:9yKSN-GCB0IC', 'v9rIqPQAAAAJ:2osOgNQ5qMEC', 'v9rIqPQAAAAJ:UeHWp8X0CEIC', 'v9rIqPQAAAAJ:qjMakFHDy7sC', 'v9rIqPQAAAAJ:LkGwnXOMwfcC', 'v9rIqPQAAAAJ:IjCSPb-OGe4C', 'v9rIqPQAAAAJ:zYLM7Y9cAGgC', 'v9rIqPQAAAAJ:Y0pCki6q_DkC', 'v9rIqPQAAAAJ:Tyk-4Ss8FVUC', 'v9rIqPQAAAAJ:W7OEmFMy1HYC', 'v9rIqPQAAAAJ:YsMSGLbcyi4C', 'v9rIqPQAAAAJ:eQOLeE2rZwMC', 'v9rIqPQAAAAJ:lmc2jWPfTJgC', 'v9rIqPQAAAAJ:WF5omc3nYNoC', 'v9rIqPQAAAAJ:3fE2CSJIrl8C', 'v9rIqPQAAAAJ:0EnyYjriUFMC', 'v9rIqPQAAAAJ:ufrVoPGSRksC', 'v9rIqPQAAAAJ:_FxGoFyzp5QC', 'v9rIqPQAAAAJ:Se3iqnhoufwC', 'v9rIqPQAAAAJ:UebtZRa9Y70C', 'v9rIqPQAAAAJ:roLk4NBRz8UC', 'v9rIqPQAAAAJ:5nxA0vEk-isC', 'v9rIqPQAAAAJ:hqOjcs7Dif8C', 'v9rIqPQAAAAJ:pqnbT2bcN3wC', 'v9rIqPQAAAAJ:MXK_kJrjxJIC', 'v9rIqPQAAAAJ:8k81kl-MbHgC', 'v9rIqPQAAAAJ:kNdYIx-mwKoC', 'v9rIqPQAAAAJ:Zph67rFs4hoC', 'v9rIqPQAAAAJ:KlAtU1dfN6UC', 'v9rIqPQAAAAJ:YOwf2qJgpHMC', 'v9rIqPQAAAAJ:4TOpqqG69KYC', 'v9rIqPQAAAAJ:URolC5Kub84C', 'v9rIqPQAAAAJ:_kc_bZDykSQC', 'v9rIqPQAAAAJ:ULOm3_A8WrAC', 'v9rIqPQAAAAJ:zLWjf1WUPmwC', 'v9rIqPQAAAAJ:qxL8FJ1GzNcC', 'v9rIqPQAAAAJ:epqYDVWIO7EC', 'v9rIqPQAAAAJ:ldfaerwXgEUC', 'v9rIqPQAAAAJ:isC4tDSrTZIC', 'v9rIqPQAAAAJ:ZeXyd9-uunAC', 'v9rIqPQAAAAJ:M3ejUd6NZC8C', 'v9rIqPQAAAAJ:IWHjjKOFINEC', 'v9rIqPQAAAAJ:BqipwSGYUEgC', 'v9rIqPQAAAAJ:mVmsd5A6BfQC', 'v9rIqPQAAAAJ:Wp0gIr-vW9MC', 'v9rIqPQAAAAJ:4DMP91E08xMC', 'v9rIqPQAAAAJ:aqlVkmm33-oC', 'v9rIqPQAAAAJ:dhFuZR0502QC', 'v9rIqPQAAAAJ:JV2RwH3_ST0C', 'v9rIqPQAAAAJ:_Qo2XoVZTnwC', 'v9rIqPQAAAAJ:R3hNpaxXUhUC', 'v9rIqPQAAAAJ:r0BpntZqJG4C', 'v9rIqPQAAAAJ:9ZlFYXVOiuMC', 'v9rIqPQAAAAJ:QIV2ME_5wuYC', 'v9rIqPQAAAAJ:L8Ckcad2t8MC', 'v9rIqPQAAAAJ:hFOr9nPyWt4C', 'v9rIqPQAAAAJ:mB3voiENLucC', 'v9rIqPQAAAAJ:EYYDruWGBe4C', 'v9rIqPQAAAAJ:7PzlFSSx8tAC', 'v9rIqPQAAAAJ:TQgYirikUcIC', 'v9rIqPQAAAAJ:HDshCWvjkbEC', 'v9rIqPQAAAAJ:-f6ydRqryjwC', 'v9rIqPQAAAAJ:qUcmZB5y_30C', 'v9rIqPQAAAAJ:blknAaTinKkC', 'v9rIqPQAAAAJ:TFP_iSt0sucC', 'v9rIqPQAAAAJ:BUYA1_V_uYcC', 'v9rIqPQAAAAJ:4MWp96NkSFoC', 'v9rIqPQAAAAJ:e5wmG9Sq2KIC', 'v9rIqPQAAAAJ:NaGl4SEjCO4C', 'v9rIqPQAAAAJ:j3f4tGmQtD8C', 'v9rIqPQAAAAJ:O3NaXMp0MMsC', 'v9rIqPQAAAAJ:RYcK_YlVTxYC', 'v9rIqPQAAAAJ:k_IJM867U9cC', 'v9rIqPQAAAAJ:bEWYMUwI8FkC', 'v9rIqPQAAAAJ:RHpTSmoSYBkC', 'v9rIqPQAAAAJ:4JMBOYKVnBMC', 'v9rIqPQAAAAJ:hMod-77fHWUC', 'v9rIqPQAAAAJ:70eg2SAEIzsC', 'v9rIqPQAAAAJ:iH-uZ7U-co4C', 'v9rIqPQAAAAJ:M3NEmzRMIkIC', 'v9rIqPQAAAAJ:NMxIlDl6LWMC', 'v9rIqPQAAAAJ:kuK5TVdYjLIC', 'v9rIqPQAAAAJ:YFjsv_pBGBYC', 'v9rIqPQAAAAJ:maZDTaKrznsC', 'v9rIqPQAAAAJ:GnPB-g6toBAC', 'v9rIqPQAAAAJ:lSLTfruPkqcC', 'v9rIqPQAAAAJ:ns9cj8rnVeAC', 'v9rIqPQAAAAJ:xtRiw3GOFMkC', 'v9rIqPQAAAAJ:RGFaLdJalmkC', 'v9rIqPQAAAAJ:vV6vV6tmYwMC', 'v9rIqPQAAAAJ:2P1L_qKh6hAC', 'v9rIqPQAAAAJ:35N4QoGY0k4C', 'v9rIqPQAAAAJ:J_g5lzvAfSwC', 'v9rIqPQAAAAJ:WbkHhVStYXYC', 'v9rIqPQAAAAJ:g5m5HwL7SMYC', 'v9rIqPQAAAAJ:M05iB0D1s5AC', 'v9rIqPQAAAAJ:SeFeTyx0c_EC', 'v9rIqPQAAAAJ:TIZ-Mc8IlK0C', 'v9rIqPQAAAAJ:VL0QpB8kHFEC', 'v9rIqPQAAAAJ:LPZeul_q3PIC', 'v9rIqPQAAAAJ:u_35RYKgDlwC', 'v9rIqPQAAAAJ:cFHS6HbyZ2cC', 'v9rIqPQAAAAJ:HoB7MX3m0LUC', 'v9rIqPQAAAAJ:fPk4N6BV_jEC', 'v9rIqPQAAAAJ:yD5IFk8b50cC', 'v9rIqPQAAAAJ:pyW8ca7W8N0C', 'v9rIqPQAAAAJ:ZHo1McVdvXMC', 'v9rIqPQAAAAJ:KUbvn5osdkgC', 'v9rIqPQAAAAJ:dfsIfKJdRG4C', 'v9rIqPQAAAAJ:geHnlv5EZngC', 'v9rIqPQAAAAJ:Tiz5es2fbqcC', 'v9rIqPQAAAAJ:_xSYboBqXhAC', 'v9rIqPQAAAAJ:D03iK_w7-QYC', 'v9rIqPQAAAAJ:a0OBvERweLwC', 'v9rIqPQAAAAJ:tYavs44e6CUC', 'v9rIqPQAAAAJ:4OULZ7Gr8RgC', 'v9rIqPQAAAAJ:3s1wT3WcHBgC', 'v9rIqPQAAAAJ:zA6iFVUQeVQC', 'v9rIqPQAAAAJ:uc_IGeMz5qoC', 'v9rIqPQAAAAJ:hMsQuOkrut0C', 'v9rIqPQAAAAJ:738O_yMBCRsC', 'v9rIqPQAAAAJ:nb7KW1ujOQ8C', 'v9rIqPQAAAAJ:f2IySw72cVMC', 'v9rIqPQAAAAJ:CHSYGLWDkRkC', 'v9rIqPQAAAAJ:b0M2c_1WBrUC', 'v9rIqPQAAAAJ:EUQCXRtRnyEC', 'v9rIqPQAAAAJ:rO6llkc54NcC', 'v9rIqPQAAAAJ:bFI3QPDXJZMC', 'v9rIqPQAAAAJ:XiSMed-E-HIC', 'v9rIqPQAAAAJ:N5tVd3kTz84C', 'v9rIqPQAAAAJ:p2g8aNsByqUC', 'v9rIqPQAAAAJ:SP6oXDckpogC', 'v9rIqPQAAAAJ:l7t_Zn2s7bgC', 'v9rIqPQAAAAJ:4fKUyHm3Qg0C', 'v9rIqPQAAAAJ:NhqRSupF_l8C', 'v9rIqPQAAAAJ:abG-DnoFyZgC', 'v9rIqPQAAAAJ:1sJd4Hv_s6UC', 'v9rIqPQAAAAJ:UxriW0iASnsC', 'v9rIqPQAAAAJ:KxtntwgDAa4C', 'v9rIqPQAAAAJ:P5F9QuxV20EC', 'v9rIqPQAAAAJ:dshw04ExmUIC', 'v9rIqPQAAAAJ:uWQEDVKXjbEC', 'v9rIqPQAAAAJ:Y5dfb0dijaUC', 'v9rIqPQAAAAJ:BrmTIyaxlBUC', 'v9rIqPQAAAAJ:OU6Ihb5iCvQC', 'v9rIqPQAAAAJ:K3LRdlH-MEoC', 'v9rIqPQAAAAJ:sSrBHYA8nusC', 'v9rIqPQAAAAJ:uWiczbcajpAC', 'v9rIqPQAAAAJ:u9iWguZQMMsC', 'v9rIqPQAAAAJ:8AbLer7MMksC', 'v9rIqPQAAAAJ:L7CI7m0gUJcC', 'v9rIqPQAAAAJ:dQ2og3OwTAUC', 'v9rIqPQAAAAJ:08ZZubdj9fEC', 'v9rIqPQAAAAJ:mvPsJ3kp5DgC', 'v9rIqPQAAAAJ:VOx2b1Wkg3QC', 'v9rIqPQAAAAJ:tS2w5q8j5-wC', 'v9rIqPQAAAAJ:vRqMK49ujn8C', 'v9rIqPQAAAAJ:vDijr-p_gm4C', 'v9rIqPQAAAAJ:EkHepimYqZsC', 'v9rIqPQAAAAJ:tOudhMTPpwUC', 'v9rIqPQAAAAJ:B3FOqHPlNUQC', 'v9rIqPQAAAAJ:fQNAKQ3IYiAC', 'v9rIqPQAAAAJ:HE397vMXCloC', 'v9rIqPQAAAAJ:UHK10RUVsp4C', 'v9rIqPQAAAAJ:wbdj-CoPYUoC', 'v9rIqPQAAAAJ:J-pR_7NvFogC', 'v9rIqPQAAAAJ:q3oQSFYPqjQC', 'v9rIqPQAAAAJ:V3AGJWp-ZtQC', 'v9rIqPQAAAAJ:eflP2zaiRacC', 'v9rIqPQAAAAJ:eJXPG6dFmWUC', 'v9rIqPQAAAAJ:1qzjygNMrQYC', 'v9rIqPQAAAAJ:BwyfMAYsbu0C', 'v9rIqPQAAAAJ:5Ul4iDaHHb8C', 'v9rIqPQAAAAJ:D_sINldO8mEC', 'v9rIqPQAAAAJ:kRWSkSYxWN8C', 'v9rIqPQAAAAJ:MLfJN-KU85MC', 'v9rIqPQAAAAJ:g3aElNc5_aQC', 'v9rIqPQAAAAJ:ILKRHgRFtOwC', 'v9rIqPQAAAAJ:p__nRnzSRKYC', 'v9rIqPQAAAAJ:_Ybze24A_UAC', 'v9rIqPQAAAAJ:35r97b3x0nAC', 'v9rIqPQAAAAJ:bnK-pcrLprsC', 'v9rIqPQAAAAJ:7T2F9Uy0os0C', 'v9rIqPQAAAAJ:b1wdh0AR-JQC', 'v9rIqPQAAAAJ:tzM49s52ZIMC', 'v9rIqPQAAAAJ:PELIpwtuRlgC', 'v9rIqPQAAAAJ:evX43VCCuoAC', 'v9rIqPQAAAAJ:j8SEvjWlNXcC', 'v9rIqPQAAAAJ:_Re3VWB3Y0AC', 'v9rIqPQAAAAJ:Fu2w8maKXqMC', 'v9rIqPQAAAAJ:dTyEYWd-f8wC', 'v9rIqPQAAAAJ:t6usbXjVLHcC', 'v9rIqPQAAAAJ:kzcrU_BdoSEC', 'v9rIqPQAAAAJ:W5xh706n7nkC', 'v9rIqPQAAAAJ:AXPGKjj_ei8C', 'v9rIqPQAAAAJ:WA5NYHcadZ8C', 'v9rIqPQAAAAJ:eMMeJKvmdy0C', 'v9rIqPQAAAAJ:XiVPGOgt02cC', 'v9rIqPQAAAAJ:gsN89kCJA0AC', 'v9rIqPQAAAAJ:JoZmwDi-zQgC', 'v9rIqPQAAAAJ:z_wVstp3MssC', 'v9rIqPQAAAAJ:_B80troHkn4C', 'v9rIqPQAAAAJ:0KyAp5RtaNEC', 'v9rIqPQAAAAJ:9Nmd_mFXekcC', 'v9rIqPQAAAAJ:ZuybSZzF8UAC', 'v9rIqPQAAAAJ:LI9QrySNdTsC', 'v9rIqPQAAAAJ:uLbwQdceFCQC', 'v9rIqPQAAAAJ:5awf1xo2G04C', 'v9rIqPQAAAAJ:SdhP9T11ey4C', 'v9rIqPQAAAAJ:LjlpjdlvIbIC', 'v9rIqPQAAAAJ:uJ-U7cs_P_0C', 'v9rIqPQAAAAJ:tuHXwOkdijsC', 'v9rIqPQAAAAJ:vbGhcppDl1QC', 'v9rIqPQAAAAJ:ipzZ9siozwsC', 'v9rIqPQAAAAJ:yB1At4FlUx8C', 'v9rIqPQAAAAJ:nrtMV_XWKgEC', 'v9rIqPQAAAAJ:XD-gHx7UXLsC', 'v9rIqPQAAAAJ:t7zJ5fGR-2UC', 'v9rIqPQAAAAJ:VLnqNzywnoUC', 'v9rIqPQAAAAJ:fEOibwPWpKIC', 'v9rIqPQAAAAJ:-_dYPAW6P2MC', 'v9rIqPQAAAAJ:JQOojiI6XY0C', 'v9rIqPQAAAAJ:hkOj_22Ku90C', 'v9rIqPQAAAAJ:PR6Y55bgFSsC', 'v9rIqPQAAAAJ:1yQoGdGgb4wC', 'v9rIqPQAAAAJ:WqliGbK-hY8C', 'v9rIqPQAAAAJ:eq2jaN3J8jMC', 'v9rIqPQAAAAJ:tkaPQYYpVKoC', 'v9rIqPQAAAAJ:olpn-zPbct0C', 'v9rIqPQAAAAJ:5ugPr518TE4C']), ('Yongjie Hu', ['igIKOZcAAAAJ:tntj4plCNvAC', 'igIKOZcAAAAJ:JLWRInN_eHMC', 'igIKOZcAAAAJ:-WH5uU-2cuwC', 'igIKOZcAAAAJ:gM-ZYMRJdBUC', 'igIKOZcAAAAJ:fiUsP84psekC', 'igIKOZcAAAAJ:YCMMmWrGWX0C', 'igIKOZcAAAAJ:L_YvGb4hwdAC', 'igIKOZcAAAAJ:PoEJn1poz0QC', 'igIKOZcAAAAJ:TciIZjdTqZoC', 'igIKOZcAAAAJ:IuYOVjjUQBMC', 'igIKOZcAAAAJ:VqEBHV59gIcC', 'igIKOZcAAAAJ:uL3q62Y73bEC', 'igIKOZcAAAAJ:sBSA6aAHrTwC', 'igIKOZcAAAAJ:K1TAGxA9IWwC', 'igIKOZcAAAAJ:gNsIjQZ6FscC', 'igIKOZcAAAAJ:Z5m8FVwuT1cC', 'igIKOZcAAAAJ:UwtWXOmdGqQC', 'igIKOZcAAAAJ:MJ-TmkugpmcC', 'igIKOZcAAAAJ:c5LcigzBm8MC', 'igIKOZcAAAAJ:BwyfMAYsbu0C', 'igIKOZcAAAAJ:FjJfEob-QowC', 'igIKOZcAAAAJ:mSnHxa73OtAC', 'igIKOZcAAAAJ:oQdNcxnU9dAC', 'igIKOZcAAAAJ:PDAgwb0ELvkC', 'igIKOZcAAAAJ:EYYDruWGBe4C', 'igIKOZcAAAAJ:jgBuDB5drN8C', 'igIKOZcAAAAJ:hzvVvKpMvx4C', 'igIKOZcAAAAJ:GtszHNlY0egC', 'igIKOZcAAAAJ:rEjdzzKT7SMC', 'igIKOZcAAAAJ:Zk83zdSX4-UC', 'igIKOZcAAAAJ:PoWvk5oyLR8C', 'igIKOZcAAAAJ:1DdUqAzPfXgC', 'igIKOZcAAAAJ:ZqE1mSdD_DYC', 'igIKOZcAAAAJ:gsN89kCJA0AC', 'igIKOZcAAAAJ:ILKRHgRFtOwC', 'igIKOZcAAAAJ:IrOsW1AMYYMC', 'igIKOZcAAAAJ:vDZJ-YLwNdEC', 'igIKOZcAAAAJ:LgRImbQfgY4C', 'igIKOZcAAAAJ:3DOefFFSZ7MC', 'igIKOZcAAAAJ:8ThBWkzwpf8C', 'igIKOZcAAAAJ:JO0bfRJr_gQC', 'igIKOZcAAAAJ:lmc2jWPfTJgC', 'igIKOZcAAAAJ:PyEswDtIyv0C', 'igIKOZcAAAAJ:GiYFt9mpioMC', 'igIKOZcAAAAJ:S16KYo8Pm5AC', 'igIKOZcAAAAJ:TIZ-Mc8IlK0C', 'igIKOZcAAAAJ:goOyc-W9OFwC', 'igIKOZcAAAAJ:MpfHP-DdYjUC', 'igIKOZcAAAAJ:2hrGa7H818QC', 'igIKOZcAAAAJ:z-B63o8J19IC', 'igIKOZcAAAAJ:eAlLMO4JVmQC', 'igIKOZcAAAAJ:e_rmSamDkqQC', 'igIKOZcAAAAJ:i2xiXl-TujoC', 'igIKOZcAAAAJ:ALROH1vI_8AC', 'igIKOZcAAAAJ:2tRrZ1ZAMYUC', 'igIKOZcAAAAJ:eP5N1itS6b0C', 'igIKOZcAAAAJ:43B52WW2E64C', 'igIKOZcAAAAJ:UnhBtiQKoKQC', 'igIKOZcAAAAJ:Eu_4uSHeUgAC', 'igIKOZcAAAAJ:_FM0Bhl9EiAC', 'igIKOZcAAAAJ:VaXvl8Fpj5cC', 'igIKOZcAAAAJ:RmQ8dt0hH3oC', 'igIKOZcAAAAJ:_axFR9aDTf0C', 'igIKOZcAAAAJ:SpbeaW3--B0C', 'igIKOZcAAAAJ:xtoqd-5pKcoC', 'igIKOZcAAAAJ:6b9k5MOVaqUC', 'igIKOZcAAAAJ:ZyBjE3zI-i8C', 'igIKOZcAAAAJ:SkU8VjQp03IC', 'igIKOZcAAAAJ:ZbQVaL1IMbQC', 'igIKOZcAAAAJ:AbS6eEh_b9AC', 'igIKOZcAAAAJ:041faMmbr2QC', 'igIKOZcAAAAJ:KXHmhzr5f2IC', 'igIKOZcAAAAJ:H_6PQ7K5Sg8C', 'igIKOZcAAAAJ:QzrXvYNrFw4C', 'igIKOZcAAAAJ:7DJsn6tmoAwC', 'igIKOZcAAAAJ:ifIdVpG6JtcC', 'igIKOZcAAAAJ:rQKKVauEoioC', 'igIKOZcAAAAJ:foquWX3nUaYC', 'igIKOZcAAAAJ:Nnq8S6OXqDYC', 'igIKOZcAAAAJ:SpPTWFSNUtQC', 'igIKOZcAAAAJ:a9-T7VOCCH8C', 'igIKOZcAAAAJ:0izLItjtcgwC', 'igIKOZcAAAAJ:Ug5p-4gJ2f0C', 'igIKOZcAAAAJ:gYAb_yFic6IC', 'igIKOZcAAAAJ:KTwcwpFFj4wC', 'igIKOZcAAAAJ:PLWDSxI5WzYC', 'igIKOZcAAAAJ:yIh087D13zsC', 'igIKOZcAAAAJ:oFWWKr2Zb18C', 'igIKOZcAAAAJ:3AIi9tQMIrsC', 'igIKOZcAAAAJ:VJOaslTFpLQC', 'igIKOZcAAAAJ:zBs93F57jOAC', 'igIKOZcAAAAJ:SZzxPo9m4nkC', 'igIKOZcAAAAJ:imad7qCvcD4C', 'igIKOZcAAAAJ:c4A-nLdbYHEC', 'igIKOZcAAAAJ:LimhlhUO2s4C', 'igIKOZcAAAAJ:RSvx26AYfG8C', 'igIKOZcAAAAJ:xpFxhiwfz1QC', 'igIKOZcAAAAJ:f14mYpCygl4C', 'igIKOZcAAAAJ:JTutsjMeBaAC', 'igIKOZcAAAAJ:hfzGNhXhx5MC', 'igIKOZcAAAAJ:oi2SiIJ9l4AC', 'igIKOZcAAAAJ:SO_TuQIDlSwC', 'igIKOZcAAAAJ:vzY-6mMDyDUC', 'igIKOZcAAAAJ:Y20HiHuZk70C', 'igIKOZcAAAAJ:Cn5sofW4b3YC', 'igIKOZcAAAAJ:vytXtR8tOLIC', 'igIKOZcAAAAJ:IfvCfoBprpQC', 'igIKOZcAAAAJ:2vOInSJYjVwC']), ('Juan Matute', ['gkygJ18AAAAJ:roLk4NBRz8UC', 'gkygJ18AAAAJ:u-x6o8ySG0sC', 'gkygJ18AAAAJ:UeHWp8X0CEIC', 'gkygJ18AAAAJ:d1gkVwhDpl0C', 'gkygJ18AAAAJ:_FxGoFyzp5QC', 'gkygJ18AAAAJ:qjMakFHDy7sC', 'gkygJ18AAAAJ:YsMSGLbcyi4C', 'gkygJ18AAAAJ:W7OEmFMy1HYC', 'gkygJ18AAAAJ:2osOgNQ5qMEC', 'gkygJ18AAAAJ:eQOLeE2rZwMC', 'gkygJ18AAAAJ:ufrVoPGSRksC', 'gkygJ18AAAAJ:9yKSN-GCB0IC', 'gkygJ18AAAAJ:WF5omc3nYNoC', 'gkygJ18AAAAJ:Tyk-4Ss8FVUC', 'gkygJ18AAAAJ:IjCSPb-OGe4C', 'gkygJ18AAAAJ:zYLM7Y9cAGgC', 'gkygJ18AAAAJ:Se3iqnhoufwC', 'gkygJ18AAAAJ:LkGwnXOMwfcC', 'gkygJ18AAAAJ:Y0pCki6q_DkC']), ('Laurent Pilon', ['1AG9uzsAAAAJ:UebtZRa9Y70C', '1AG9uzsAAAAJ:EUQCXRtRnyEC', '1AG9uzsAAAAJ:Tyk-4Ss8FVUC', '1AG9uzsAAAAJ:M3ejUd6NZC8C', '1AG9uzsAAAAJ:D03iK_w7-QYC', '1AG9uzsAAAAJ:NMxIlDl6LWMC', '1AG9uzsAAAAJ:4OULZ7Gr8RgC', '1AG9uzsAAAAJ:kNdYIx-mwKoC', '1AG9uzsAAAAJ:xtRiw3GOFMkC', '1AG9uzsAAAAJ:_Qo2XoVZTnwC', '1AG9uzsAAAAJ:zYLM7Y9cAGgC', '1AG9uzsAAAAJ:qUcmZB5y_30C', '1AG9uzsAAAAJ:dhFuZR0502QC', '1AG9uzsAAAAJ:a0OBvERweLwC', '1AG9uzsAAAAJ:_kc_bZDykSQC', '1AG9uzsAAAAJ:u9iWguZQMMsC', '1AG9uzsAAAAJ:4TOpqqG69KYC', '1AG9uzsAAAAJ:QIV2ME_5wuYC', '1AG9uzsAAAAJ:M3NEmzRMIkIC', '1AG9uzsAAAAJ:WbkHhVStYXYC', '1AG9uzsAAAAJ:YFjsv_pBGBYC', '1AG9uzsAAAAJ:maZDTaKrznsC', '1AG9uzsAAAAJ:2osOgNQ5qMEC', '1AG9uzsAAAAJ:vV6vV6tmYwMC', '1AG9uzsAAAAJ:HDshCWvjkbEC', '1AG9uzsAAAAJ:9vf0nzSNQJEC', '1AG9uzsAAAAJ:0EnyYjriUFMC', '1AG9uzsAAAAJ:Wp0gIr-vW9MC', '1AG9uzsAAAAJ:ZeXyd9-uunAC', '1AG9uzsAAAAJ:eMMeJKvmdy0C', '1AG9uzsAAAAJ:ye4kPcJQO24C', '1AG9uzsAAAAJ:XiSMed-E-HIC', '1AG9uzsAAAAJ:olpn-zPbct0C', '1AG9uzsAAAAJ:8AbLer7MMksC', '1AG9uzsAAAAJ:5nxA0vEk-isC', '1AG9uzsAAAAJ:k_IJM867U9cC', '1AG9uzsAAAAJ:5Ul4iDaHHb8C', '1AG9uzsAAAAJ:RGFaLdJalmkC', '1AG9uzsAAAAJ:kPzzr9KoCG0C', '1AG9uzsAAAAJ:5awf1xo2G04C', '1AG9uzsAAAAJ:4DMP91E08xMC', '1AG9uzsAAAAJ:AXPGKjj_ei8C', '1AG9uzsAAAAJ:yD5IFk8b50cC', '1AG9uzsAAAAJ:Zph67rFs4hoC', '1AG9uzsAAAAJ:-f6ydRqryjwC', '1AG9uzsAAAAJ:e5wmG9Sq2KIC', '1AG9uzsAAAAJ:pqnbT2bcN3wC', '1AG9uzsAAAAJ:fQNAKQ3IYiAC', '1AG9uzsAAAAJ:2PBQaVm3t-0C', '1AG9uzsAAAAJ:mSu_8wZzne8C', '1AG9uzsAAAAJ:9ZlFYXVOiuMC', '1AG9uzsAAAAJ:3fE2CSJIrl8C', '1AG9uzsAAAAJ:Zrzg8MEyHc4C', '1AG9uzsAAAAJ:SeFeTyx0c_EC', '1AG9uzsAAAAJ:L8Ckcad2t8MC', '1AG9uzsAAAAJ:KlAtU1dfN6UC', '1AG9uzsAAAAJ:J-pR_7NvFogC', '1AG9uzsAAAAJ:YOwf2qJgpHMC', '1AG9uzsAAAAJ:7PzlFSSx8tAC', '1AG9uzsAAAAJ:mVmsd5A6BfQC', '1AG9uzsAAAAJ:hC7cP41nSMkC', '1AG9uzsAAAAJ:JV2RwH3_ST0C', '1AG9uzsAAAAJ:TQgYirikUcIC', '1AG9uzsAAAAJ:R3hNpaxXUhUC', '1AG9uzsAAAAJ:MXK_kJrjxJIC', '1AG9uzsAAAAJ:WIzaTCs-0dQC', '1AG9uzsAAAAJ:UeHWp8X0CEIC', '1AG9uzsAAAAJ:RHpTSmoSYBkC', '1AG9uzsAAAAJ:dONrx3-W1TkC', '1AG9uzsAAAAJ:aqlVkmm33-oC', '1AG9uzsAAAAJ:ULOm3_A8WrAC', '1AG9uzsAAAAJ:08ZZubdj9fEC', '1AG9uzsAAAAJ:qxL8FJ1GzNcC', '1AG9uzsAAAAJ:KxtntwgDAa4C', '1AG9uzsAAAAJ:2P1L_qKh6hAC', '1AG9uzsAAAAJ:tS2w5q8j5-wC', '1AG9uzsAAAAJ:blknAaTinKkC', '1AG9uzsAAAAJ:lSLTfruPkqcC', '1AG9uzsAAAAJ:r0BpntZqJG4C', '1AG9uzsAAAAJ:r-XlWH_wwbwC', '1AG9uzsAAAAJ:Z4TH09HQ3SoC', '1AG9uzsAAAAJ:SdhP9T11ey4C', '1AG9uzsAAAAJ:B3FOqHPlNUQC', '1AG9uzsAAAAJ:tOudhMTPpwUC', '1AG9uzsAAAAJ:CY3uIpTmi-gC', '1AG9uzsAAAAJ:zDAX0LUT-dsC', '1AG9uzsAAAAJ:viTTOddtVMkC', '1AG9uzsAAAAJ:mB3voiENLucC', '1AG9uzsAAAAJ:IWHjjKOFINEC', '1AG9uzsAAAAJ:KIMFRoSX18MC', '1AG9uzsAAAAJ:cTLm0pkq19gC', '1AG9uzsAAAAJ:EsO17nB32j8C', '1AG9uzsAAAAJ:tkaPQYYpVKoC', '1AG9uzsAAAAJ:HoB7MX3m0LUC', '1AG9uzsAAAAJ:isC4tDSrTZIC', '1AG9uzsAAAAJ:l1jknz_x7mgC', '1AG9uzsAAAAJ:QoN_6baHBqgC', '1AG9uzsAAAAJ:m1aD9PlKDecC', '1AG9uzsAAAAJ:Qo9Q-PfIzZ0C', '1AG9uzsAAAAJ:Mojj43d5GZwC', '1AG9uzsAAAAJ:mvPsJ3kp5DgC', '1AG9uzsAAAAJ:dTyEYWd-f8wC', '1AG9uzsAAAAJ:4JMBOYKVnBMC', '1AG9uzsAAAAJ:bEWYMUwI8FkC', '1AG9uzsAAAAJ:c3oc_9pK2TEC', '1AG9uzsAAAAJ:HZAC7m4lW-wC', '1AG9uzsAAAAJ:D-3shSm-n1oC', '1AG9uzsAAAAJ:K8XpiWYAYk8C', '1AG9uzsAAAAJ:70eg2SAEIzsC', '1AG9uzsAAAAJ:hFOr9nPyWt4C', '1AG9uzsAAAAJ:WQTnNU6cpycC', '1AG9uzsAAAAJ:eq2jaN3J8jMC', '1AG9uzsAAAAJ:l7t_Zn2s7bgC', '1AG9uzsAAAAJ:aGxtzYPGyQEC', '1AG9uzsAAAAJ:CrVLTnlDqZQC', '1AG9uzsAAAAJ:OU6Ihb5iCvQC', '1AG9uzsAAAAJ:J_g5lzvAfSwC', '1AG9uzsAAAAJ:GnPB-g6toBAC', '1AG9uzsAAAAJ:NaGl4SEjCO4C', '1AG9uzsAAAAJ:g5m5HwL7SMYC', '1AG9uzsAAAAJ:j3f4tGmQtD8C', '1AG9uzsAAAAJ:QlYoQ0azr6kC', '1AG9uzsAAAAJ:F1-V36_CjEsC', '1AG9uzsAAAAJ:1qzjygNMrQYC', '1AG9uzsAAAAJ:iH-uZ7U-co4C', '1AG9uzsAAAAJ:hMod-77fHWUC', '1AG9uzsAAAAJ:Tiz5es2fbqcC', '1AG9uzsAAAAJ:TFP_iSt0sucC', '1AG9uzsAAAAJ:uXirmJe02n4C', '1AG9uzsAAAAJ:IMJZBBnUFLgC', '1AG9uzsAAAAJ:9tletLqOvukC', '1AG9uzsAAAAJ:M6kHaddf_34C', '1AG9uzsAAAAJ:9PbDelcLwNgC', '1AG9uzsAAAAJ:t1niNHmIXQYC', '1AG9uzsAAAAJ:BqipwSGYUEgC', '1AG9uzsAAAAJ:L2Pn6qttGKUC', '1AG9uzsAAAAJ:CmeMDzcFUg4C', '1AG9uzsAAAAJ:kMrClmKSQGwC', '1AG9uzsAAAAJ:7gg4mBK4JdgC', '1AG9uzsAAAAJ:zA6iFVUQeVQC', '1AG9uzsAAAAJ:k6hhvAYhr9EC', '1AG9uzsAAAAJ:noJvBAPgP0YC', '1AG9uzsAAAAJ:9xDRhSErrBIC', '1AG9uzsAAAAJ:LkGwnXOMwfcC', '1AG9uzsAAAAJ:5aszrCQfcYQC', '1AG9uzsAAAAJ:qu5FZ_za5owC', '1AG9uzsAAAAJ:tzPJaSocouwC', '1AG9uzsAAAAJ:t6hKUfryX1MC', '1AG9uzsAAAAJ:FSl0EHHYj-kC', '1AG9uzsAAAAJ:rEjdzzKT7SMC', '1AG9uzsAAAAJ:aKos2Y7kUz0C', '1AG9uzsAAAAJ:J2Md-p1DcKkC', '1AG9uzsAAAAJ:dnWPDgH667kC', '1AG9uzsAAAAJ:u_35RYKgDlwC', '1AG9uzsAAAAJ:UxriW0iASnsC', '1AG9uzsAAAAJ:27qsyVibG6YC', '1AG9uzsAAAAJ:ns9cj8rnVeAC', '1AG9uzsAAAAJ:RYcK_YlVTxYC', '1AG9uzsAAAAJ:O3NaXMp0MMsC', '1AG9uzsAAAAJ:f8T_-ThkUo0C', '1AG9uzsAAAAJ:Cv-mv52rCCkC', '1AG9uzsAAAAJ:dX-nQPao9noC', '1AG9uzsAAAAJ:CLQ-NLsb8zAC', '1AG9uzsAAAAJ:A_xf8jiGkywC', '1AG9uzsAAAAJ:sYWh8IhQ1GMC', '1AG9uzsAAAAJ:5y95FQUaxGgC', '1AG9uzsAAAAJ:6E5OHDUOeTQC', '1AG9uzsAAAAJ:QXQxek9En5IC', '1AG9uzsAAAAJ:8Wa-k36u3iwC', '1AG9uzsAAAAJ:Kb2XK_T5ZYAC', '1AG9uzsAAAAJ:HV_RJt6Pqn0C', '1AG9uzsAAAAJ:H-nlc5mcmJQC', '1AG9uzsAAAAJ:qxGx9raSUrEC', '1AG9uzsAAAAJ:ZHR7-34Bl2wC', '1AG9uzsAAAAJ:GwaQhVSQhKEC', '1AG9uzsAAAAJ:FVakaZBJmp0C', '1AG9uzsAAAAJ:pOP5Rf-i_loC', '1AG9uzsAAAAJ:f408LfHov48C', '1AG9uzsAAAAJ:0kxB6oEY0CcC', '1AG9uzsAAAAJ:d7BmB2BcYiwC', '1AG9uzsAAAAJ:Y3Sh7dCAXz0C', '1AG9uzsAAAAJ:u5HHmVD_uO8C', '1AG9uzsAAAAJ:q3SxJD15z-gC', '1AG9uzsAAAAJ:iRaVAuoZnuIC', '1AG9uzsAAAAJ:d1gkVwhDpl0C', '1AG9uzsAAAAJ:eQOLeE2rZwMC', '1AG9uzsAAAAJ:f2IySw72cVMC', '1AG9uzsAAAAJ:P9oYG7HA76QC', '1AG9uzsAAAAJ:Fx7lCCP36QIC', '1AG9uzsAAAAJ:osi8XriVlOYC', '1AG9uzsAAAAJ:2M7X9mGNJRgC']), ('Stephanie Pincetl', ['Rl5xhgwAAAAJ:u5HHmVD_uO8C', 'Rl5xhgwAAAAJ:u-x6o8ySG0sC', 'Rl5xhgwAAAAJ:d1gkVwhDpl0C', 'Rl5xhgwAAAAJ:zYLM7Y9cAGgC', 'Rl5xhgwAAAAJ:9yKSN-GCB0IC', 'Rl5xhgwAAAAJ:2osOgNQ5qMEC', 'Rl5xhgwAAAAJ:7PzlFSSx8tAC', 'Rl5xhgwAAAAJ:Y0pCki6q_DkC', 'Rl5xhgwAAAAJ:qjMakFHDy7sC', 'Rl5xhgwAAAAJ:IjCSPb-OGe4C', 'Rl5xhgwAAAAJ:UeHWp8X0CEIC', 'Rl5xhgwAAAAJ:W7OEmFMy1HYC', 'Rl5xhgwAAAAJ:Tyk-4Ss8FVUC', 'Rl5xhgwAAAAJ:hqOjcs7Dif8C', 'Rl5xhgwAAAAJ:_FxGoFyzp5QC', 'Rl5xhgwAAAAJ:ufrVoPGSRksC', 'Rl5xhgwAAAAJ:roLk4NBRz8UC', 'Rl5xhgwAAAAJ:R3hNpaxXUhUC', 'Rl5xhgwAAAAJ:YsMSGLbcyi4C', 'Rl5xhgwAAAAJ:eQOLeE2rZwMC', 'Rl5xhgwAAAAJ:WF5omc3nYNoC', 'Rl5xhgwAAAAJ:UebtZRa9Y70C', 'Rl5xhgwAAAAJ:LkGwnXOMwfcC', 'Rl5xhgwAAAAJ:Se3iqnhoufwC', 'Rl5xhgwAAAAJ:qxL8FJ1GzNcC', 'Rl5xhgwAAAAJ:j8SEvjWlNXcC', 'Rl5xhgwAAAAJ:5nxA0vEk-isC', 'Rl5xhgwAAAAJ:hFOr9nPyWt4C', 'Rl5xhgwAAAAJ:nb7KW1ujOQ8C', 'Rl5xhgwAAAAJ:qUcmZB5y_30C', 'Rl5xhgwAAAAJ:kNdYIx-mwKoC', 'Rl5xhgwAAAAJ:M3ejUd6NZC8C', 'Rl5xhgwAAAAJ:4TOpqqG69KYC', 'Rl5xhgwAAAAJ:ULOm3_A8WrAC', 'Rl5xhgwAAAAJ:BrmTIyaxlBUC', 'Rl5xhgwAAAAJ:YOwf2qJgpHMC', 'Rl5xhgwAAAAJ:KlAtU1dfN6UC', 'Rl5xhgwAAAAJ:8k81kl-MbHgC', 'Rl5xhgwAAAAJ:0EnyYjriUFMC', 'Rl5xhgwAAAAJ:9vf0nzSNQJEC', 'Rl5xhgwAAAAJ:Wp0gIr-vW9MC', 'Rl5xhgwAAAAJ:4DMP91E08xMC', 'Rl5xhgwAAAAJ:olpn-zPbct0C', 'Rl5xhgwAAAAJ:NMxIlDl6LWMC', 'Rl5xhgwAAAAJ:3fE2CSJIrl8C', 'Rl5xhgwAAAAJ:Zph67rFs4hoC', 'Rl5xhgwAAAAJ:_kc_bZDykSQC', 'Rl5xhgwAAAAJ:kRWSkSYxWN8C', 'Rl5xhgwAAAAJ:pyW8ca7W8N0C', 'Rl5xhgwAAAAJ:MXK_kJrjxJIC', 'Rl5xhgwAAAAJ:geHnlv5EZngC', 'Rl5xhgwAAAAJ:TFP_iSt0sucC', 'Rl5xhgwAAAAJ:l7t_Zn2s7bgC', 'Rl5xhgwAAAAJ:738O_yMBCRsC', 'Rl5xhgwAAAAJ:bFI3QPDXJZMC', 'Rl5xhgwAAAAJ:LPZeul_q3PIC', 'Rl5xhgwAAAAJ:r0BpntZqJG4C', 'Rl5xhgwAAAAJ:B3FOqHPlNUQC', 'Rl5xhgwAAAAJ:3s1wT3WcHBgC', 'Rl5xhgwAAAAJ:M05iB0D1s5AC', 'Rl5xhgwAAAAJ:ZeXyd9-uunAC', 'Rl5xhgwAAAAJ:dhFuZR0502QC', 'Rl5xhgwAAAAJ:L8Ckcad2t8MC', 'Rl5xhgwAAAAJ:mVmsd5A6BfQC', 'Rl5xhgwAAAAJ:hC7cP41nSMkC', 'Rl5xhgwAAAAJ:P5F9QuxV20EC', 'Rl5xhgwAAAAJ:Tiz5es2fbqcC', 'Rl5xhgwAAAAJ:1sJd4Hv_s6UC', 'Rl5xhgwAAAAJ:HDshCWvjkbEC', 'Rl5xhgwAAAAJ:9ZlFYXVOiuMC', 'Rl5xhgwAAAAJ:j3f4tGmQtD8C', 'Rl5xhgwAAAAJ:TQgYirikUcIC', 'Rl5xhgwAAAAJ:bEWYMUwI8FkC', 'Rl5xhgwAAAAJ:iH-uZ7U-co4C', 'Rl5xhgwAAAAJ:QIV2ME_5wuYC', 'Rl5xhgwAAAAJ:HE397vMXCloC', 'Rl5xhgwAAAAJ:CHSYGLWDkRkC', 'Rl5xhgwAAAAJ:-f6ydRqryjwC', 'Rl5xhgwAAAAJ:8AbLer7MMksC', 'Rl5xhgwAAAAJ:RHpTSmoSYBkC', 'Rl5xhgwAAAAJ:abG-DnoFyZgC', 'Rl5xhgwAAAAJ:_Qo2XoVZTnwC', 'Rl5xhgwAAAAJ:zA6iFVUQeVQC', 'Rl5xhgwAAAAJ:J-pR_7NvFogC', 'Rl5xhgwAAAAJ:eJXPG6dFmWUC', 'Rl5xhgwAAAAJ:evX43VCCuoAC', 'Rl5xhgwAAAAJ:uLbwQdceFCQC', 'Rl5xhgwAAAAJ:e5wmG9Sq2KIC', 'Rl5xhgwAAAAJ:4JMBOYKVnBMC', 'Rl5xhgwAAAAJ:JQOojiI6XY0C', 'Rl5xhgwAAAAJ:eflP2zaiRacC', 'Rl5xhgwAAAAJ:UxriW0iASnsC', 'Rl5xhgwAAAAJ:YFjsv_pBGBYC', 'Rl5xhgwAAAAJ:a0OBvERweLwC', 'Rl5xhgwAAAAJ:maZDTaKrznsC', 'Rl5xhgwAAAAJ:rO6llkc54NcC', 'Rl5xhgwAAAAJ:mB3voiENLucC', 'Rl5xhgwAAAAJ:SeFeTyx0c_EC', 'Rl5xhgwAAAAJ:-_dYPAW6P2MC', 'Rl5xhgwAAAAJ:nrtMV_XWKgEC', 'Rl5xhgwAAAAJ:LjlpjdlvIbIC', 'Rl5xhgwAAAAJ:dTyEYWd-f8wC', 'Rl5xhgwAAAAJ:eq2jaN3J8jMC', 'Rl5xhgwAAAAJ:SdhP9T11ey4C', 'Rl5xhgwAAAAJ:ZuybSZzF8UAC', 'Rl5xhgwAAAAJ:tkaPQYYpVKoC', 'Rl5xhgwAAAAJ:fEOibwPWpKIC', 'Rl5xhgwAAAAJ:f2IySw72cVMC', 'Rl5xhgwAAAAJ:D_sINldO8mEC', 'Rl5xhgwAAAAJ:K3LRdlH-MEoC', 'Rl5xhgwAAAAJ:Y5dfb0dijaUC', 'Rl5xhgwAAAAJ:tS2w5q8j5-wC', 'Rl5xhgwAAAAJ:VOx2b1Wkg3QC', 'Rl5xhgwAAAAJ:PELIpwtuRlgC', 'Rl5xhgwAAAAJ:_B80troHkn4C', 'Rl5xhgwAAAAJ:q3oQSFYPqjQC', 'Rl5xhgwAAAAJ:ns9cj8rnVeAC', 'Rl5xhgwAAAAJ:35N4QoGY0k4C', 'Rl5xhgwAAAAJ:_xSYboBqXhAC', 'Rl5xhgwAAAAJ:blknAaTinKkC', 'Rl5xhgwAAAAJ:xtRiw3GOFMkC', 'Rl5xhgwAAAAJ:4OULZ7Gr8RgC', 'Rl5xhgwAAAAJ:NaGl4SEjCO4C', 'Rl5xhgwAAAAJ:BqipwSGYUEgC', 'Rl5xhgwAAAAJ:ZHo1McVdvXMC', 'Rl5xhgwAAAAJ:JV2RwH3_ST0C', 'Rl5xhgwAAAAJ:dfsIfKJdRG4C', 'Rl5xhgwAAAAJ:Fu2w8maKXqMC', 'Rl5xhgwAAAAJ:2P1L_qKh6hAC', 'Rl5xhgwAAAAJ:J_g5lzvAfSwC', 'Rl5xhgwAAAAJ:fPk4N6BV_jEC', 'Rl5xhgwAAAAJ:O3NaXMp0MMsC', 'Rl5xhgwAAAAJ:b0M2c_1WBrUC', 'Rl5xhgwAAAAJ:RGFaLdJalmkC', 'Rl5xhgwAAAAJ:D03iK_w7-QYC', 'Rl5xhgwAAAAJ:vV6vV6tmYwMC', 'Rl5xhgwAAAAJ:hMod-77fHWUC', 'Rl5xhgwAAAAJ:eMMeJKvmdy0C', 'Rl5xhgwAAAAJ:08ZZubdj9fEC', 'Rl5xhgwAAAAJ:RYcK_YlVTxYC', 'Rl5xhgwAAAAJ:UHK10RUVsp4C', 'Rl5xhgwAAAAJ:OU6Ihb5iCvQC', 'Rl5xhgwAAAAJ:cFHS6HbyZ2cC', 'Rl5xhgwAAAAJ:WbkHhVStYXYC', 'Rl5xhgwAAAAJ:lSLTfruPkqcC', 'Rl5xhgwAAAAJ:u9iWguZQMMsC', 'Rl5xhgwAAAAJ:M3NEmzRMIkIC', 'Rl5xhgwAAAAJ:KxtntwgDAa4C', 'Rl5xhgwAAAAJ:u_35RYKgDlwC', 'Rl5xhgwAAAAJ:AXPGKjj_ei8C', 'Rl5xhgwAAAAJ:GnPB-g6toBAC', 'Rl5xhgwAAAAJ:35r97b3x0nAC', 'Rl5xhgwAAAAJ:pqnbT2bcN3wC', 'Rl5xhgwAAAAJ:g5m5HwL7SMYC', 'Rl5xhgwAAAAJ:WA5NYHcadZ8C', 'Rl5xhgwAAAAJ:mvPsJ3kp5DgC', 'Rl5xhgwAAAAJ:0KyAp5RtaNEC', 'Rl5xhgwAAAAJ:XD-gHx7UXLsC', 'Rl5xhgwAAAAJ:2KloaMYe4IUC', 'Rl5xhgwAAAAJ:_Re3VWB3Y0AC', 'Rl5xhgwAAAAJ:1qzjygNMrQYC', 'Rl5xhgwAAAAJ:vRqMK49ujn8C', 'Rl5xhgwAAAAJ:HoB7MX3m0LUC', 'Rl5xhgwAAAAJ:70eg2SAEIzsC', 'Rl5xhgwAAAAJ:k_IJM867U9cC']), ('Deepak Rajagopal', ['AfHMFccAAAAJ:k_IJM867U9cC', 'AfHMFccAAAAJ:u5HHmVD_uO8C', 'AfHMFccAAAAJ:4JMBOYKVnBMC', 'AfHMFccAAAAJ:UeHWp8X0CEIC', 'AfHMFccAAAAJ:9yKSN-GCB0IC', 'AfHMFccAAAAJ:O3NaXMp0MMsC', 'AfHMFccAAAAJ:r0BpntZqJG4C', 'AfHMFccAAAAJ:3fE2CSJIrl8C', 'AfHMFccAAAAJ:_FxGoFyzp5QC', 'AfHMFccAAAAJ:d1gkVwhDpl0C', 'AfHMFccAAAAJ:zYLM7Y9cAGgC', 'AfHMFccAAAAJ:IjCSPb-OGe4C', 'AfHMFccAAAAJ:W7OEmFMy1HYC', 'AfHMFccAAAAJ:Y0pCki6q_DkC', 'AfHMFccAAAAJ:LkGwnXOMwfcC', 'AfHMFccAAAAJ:qjMakFHDy7sC', 'AfHMFccAAAAJ:2osOgNQ5qMEC', 'AfHMFccAAAAJ:Tyk-4Ss8FVUC', 'AfHMFccAAAAJ:maZDTaKrznsC', 'AfHMFccAAAAJ:2P1L_qKh6hAC', 'AfHMFccAAAAJ:ULOm3_A8WrAC', 'AfHMFccAAAAJ:RHpTSmoSYBkC', 'AfHMFccAAAAJ:WF5omc3nYNoC', 'AfHMFccAAAAJ:ns9cj8rnVeAC', 'AfHMFccAAAAJ:ufrVoPGSRksC', 'AfHMFccAAAAJ:lSLTfruPkqcC', 'AfHMFccAAAAJ:RGFaLdJalmkC', 'AfHMFccAAAAJ:YsMSGLbcyi4C', 'AfHMFccAAAAJ:eQOLeE2rZwMC', 'AfHMFccAAAAJ:fF_gHTpLxhAC', 'AfHMFccAAAAJ:roLk4NBRz8UC', 'AfHMFccAAAAJ:HoB7MX3m0LUC', 'AfHMFccAAAAJ:1Aeql8wG3wEC', 'AfHMFccAAAAJ:vV6vV6tmYwMC', 'AfHMFccAAAAJ:8O4vDxvErlEC', 'AfHMFccAAAAJ:j3f4tGmQtD8C', 'AfHMFccAAAAJ:YOwf2qJgpHMC', 'AfHMFccAAAAJ:Se3iqnhoufwC', 'AfHMFccAAAAJ:DPO9WFcz7UcC', 'AfHMFccAAAAJ:LlXTz_FrCmAC', 'AfHMFccAAAAJ:SeFeTyx0c_EC', 'AfHMFccAAAAJ:tFzHCjejgA0C', 'AfHMFccAAAAJ:uWy0R8PweswC', 'AfHMFccAAAAJ:qxL8FJ1GzNcC', 'AfHMFccAAAAJ:qYOp8iumCsAC', 'AfHMFccAAAAJ:Kv9jytqXTosC', 'AfHMFccAAAAJ:WHBERAHVdrEC', 'AfHMFccAAAAJ:UebtZRa9Y70C', 'AfHMFccAAAAJ:5nxA0vEk-isC', 'AfHMFccAAAAJ:6IBXqrN-DEwC', 'AfHMFccAAAAJ:vkuYBMKU6wEC', 'AfHMFccAAAAJ:PklR0melJeUC', 'AfHMFccAAAAJ:10A3hb2jUxYC', 'AfHMFccAAAAJ:EsrhoZGmrkoC', 'AfHMFccAAAAJ:3WNXLiBY60kC', 'AfHMFccAAAAJ:dhFuZR0502QC', 'AfHMFccAAAAJ:0EnyYjriUFMC', 'AfHMFccAAAAJ:wgKq3sYidysC', 'AfHMFccAAAAJ:4DMP91E08xMC', 'AfHMFccAAAAJ:anDooRL1HQEC', 'AfHMFccAAAAJ:ZOYfmFL0FrgC', 'AfHMFccAAAAJ:CC3C2HR4nz8C', 'AfHMFccAAAAJ:9o6PfxSMcEIC', 'AfHMFccAAAAJ:aNch6Af-aFkC', 'AfHMFccAAAAJ:f2PrUAIjnKUC', 'AfHMFccAAAAJ:eIKNFFVQvJAC', 'AfHMFccAAAAJ:mB3voiENLucC', 'AfHMFccAAAAJ:Zbx7W2Xs4QsC', 'AfHMFccAAAAJ:CMPXdcK5v8EC', 'AfHMFccAAAAJ:Zph67rFs4hoC', 'AfHMFccAAAAJ:7PzlFSSx8tAC', 'AfHMFccAAAAJ:CLhUwle04lcC', 'AfHMFccAAAAJ:9ZlFYXVOiuMC', 'AfHMFccAAAAJ:_kc_bZDykSQC', 'AfHMFccAAAAJ:oYwriLWYh5YC', 'AfHMFccAAAAJ:WGv8Og3F3KgC', 'AfHMFccAAAAJ:hFOr9nPyWt4C', 'AfHMFccAAAAJ:bkKuixW_xMkC', 'AfHMFccAAAAJ:DwWRdx-KAo4C', 'AfHMFccAAAAJ:E2bRg1zSkIsC', 'AfHMFccAAAAJ:svGagg1hbZMC', 'AfHMFccAAAAJ:RJujIP1NYNUC', 'AfHMFccAAAAJ:MqTxh1vmwXEC', 'AfHMFccAAAAJ:g5m5HwL7SMYC']), ('H. Bradley Shaffer', ['VXvek_AAAAAJ:d1gkVwhDpl0C', 'VXvek_AAAAAJ:kNdYIx-mwKoC', 'VXvek_AAAAAJ:u-x6o8ySG0sC', 'VXvek_AAAAAJ:u5HHmVD_uO8C', 'VXvek_AAAAAJ:2osOgNQ5qMEC', 'VXvek_AAAAAJ:9yKSN-GCB0IC', 'VXvek_AAAAAJ:UHK10RUVsp4C', 'VXvek_AAAAAJ:qjMakFHDy7sC', 'VXvek_AAAAAJ:IjCSPb-OGe4C', 'VXvek_AAAAAJ:UeHWp8X0CEIC', 'VXvek_AAAAAJ:hqOjcs7Dif8C', 'VXvek_AAAAAJ:maZDTaKrznsC', 'VXvek_AAAAAJ:Y0pCki6q_DkC', 'VXvek_AAAAAJ:LkGwnXOMwfcC', 'VXvek_AAAAAJ:ufrVoPGSRksC', 'VXvek_AAAAAJ:eQOLeE2rZwMC', 'VXvek_AAAAAJ:zYLM7Y9cAGgC', 'VXvek_AAAAAJ:Tyk-4Ss8FVUC', 'VXvek_AAAAAJ:hFOr9nPyWt4C', 'VXvek_AAAAAJ:W7OEmFMy1HYC', 'VXvek_AAAAAJ:YsMSGLbcyi4C', 'VXvek_AAAAAJ:_FxGoFyzp5QC', 'VXvek_AAAAAJ:MXK_kJrjxJIC', 'VXvek_AAAAAJ:UebtZRa9Y70C', 'VXvek_AAAAAJ:WF5omc3nYNoC', 'VXvek_AAAAAJ:Se3iqnhoufwC', 'VXvek_AAAAAJ:YOwf2qJgpHMC', 'VXvek_AAAAAJ:Fu2w8maKXqMC', 'VXvek_AAAAAJ:roLk4NBRz8UC', 'VXvek_AAAAAJ:5nxA0vEk-isC', 'VXvek_AAAAAJ:0EnyYjriUFMC', 'VXvek_AAAAAJ:mVmsd5A6BfQC', 'VXvek_AAAAAJ:Zph67rFs4hoC', 'VXvek_AAAAAJ:qxL8FJ1GzNcC', 'VXvek_AAAAAJ:9ZlFYXVOiuMC', 'VXvek_AAAAAJ:8k81kl-MbHgC', 'VXvek_AAAAAJ:3fE2CSJIrl8C', 'VXvek_AAAAAJ:BqipwSGYUEgC', 'VXvek_AAAAAJ:dhFuZR0502QC', 'VXvek_AAAAAJ:ULOm3_A8WrAC', 'VXvek_AAAAAJ:aqlVkmm33-oC', 'VXvek_AAAAAJ:PR6Y55bgFSsC', 'VXvek_AAAAAJ:QIV2ME_5wuYC', 'VXvek_AAAAAJ:4DMP91E08xMC', 'VXvek_AAAAAJ:M3ejUd6NZC8C', 'VXvek_AAAAAJ:mB3voiENLucC', 'VXvek_AAAAAJ:ZeXyd9-uunAC', 'VXvek_AAAAAJ:KlAtU1dfN6UC', 'VXvek_AAAAAJ:-f6ydRqryjwC', 'VXvek_AAAAAJ:geHnlv5EZngC', 'VXvek_AAAAAJ:M3NEmzRMIkIC', 'VXvek_AAAAAJ:_kc_bZDykSQC', 'VXvek_AAAAAJ:4TOpqqG69KYC', 'VXvek_AAAAAJ:j3f4tGmQtD8C', 'VXvek_AAAAAJ:7PzlFSSx8tAC', 'VXvek_AAAAAJ:Wp0gIr-vW9MC', 'VXvek_AAAAAJ:qUcmZB5y_30C', 'VXvek_AAAAAJ:e5wmG9Sq2KIC', 'VXvek_AAAAAJ:L8Ckcad2t8MC', 'VXvek_AAAAAJ:R3hNpaxXUhUC', 'VXvek_AAAAAJ:IWHjjKOFINEC', 'VXvek_AAAAAJ:RHpTSmoSYBkC', 'VXvek_AAAAAJ:_Qo2XoVZTnwC', 'VXvek_AAAAAJ:TQgYirikUcIC', 'VXvek_AAAAAJ:kzcrU_BdoSEC', 'VXvek_AAAAAJ:hC7cP41nSMkC', 'VXvek_AAAAAJ:r0BpntZqJG4C', 'VXvek_AAAAAJ:1sJd4Hv_s6UC', 'VXvek_AAAAAJ:HDshCWvjkbEC', 'VXvek_AAAAAJ:k_IJM867U9cC', 'VXvek_AAAAAJ:5qfkUJPXOUwC', 'VXvek_AAAAAJ:isC4tDSrTZIC', 'VXvek_AAAAAJ:35N4QoGY0k4C', 'VXvek_AAAAAJ:eMMeJKvmdy0C', 'VXvek_AAAAAJ:iH-uZ7U-co4C', 'VXvek_AAAAAJ:vbGhcppDl1QC', 'VXvek_AAAAAJ:RGFaLdJalmkC', 'VXvek_AAAAAJ:bEWYMUwI8FkC', 'VXvek_AAAAAJ:rO6llkc54NcC', 'VXvek_AAAAAJ:JV2RwH3_ST0C', 'VXvek_AAAAAJ:4JMBOYKVnBMC', 'VXvek_AAAAAJ:ZuybSZzF8UAC', 'VXvek_AAAAAJ:TFP_iSt0sucC', 'VXvek_AAAAAJ:GnPB-g6toBAC', 'VXvek_AAAAAJ:blknAaTinKkC', 'VXvek_AAAAAJ:NaGl4SEjCO4C', 'VXvek_AAAAAJ:hMod-77fHWUC', 'VXvek_AAAAAJ:dQ2og3OwTAUC', 'VXvek_AAAAAJ:2P1L_qKh6hAC', 'VXvek_AAAAAJ:_axFR9aDTf0C', 'VXvek_AAAAAJ:lSLTfruPkqcC', 'VXvek_AAAAAJ:ye4kPcJQO24C', 'VXvek_AAAAAJ:70eg2SAEIzsC', 'VXvek_AAAAAJ:ns9cj8rnVeAC', 'VXvek_AAAAAJ:_Ybze24A_UAC', 'VXvek_AAAAAJ:g5m5HwL7SMYC', 'VXvek_AAAAAJ:M05iB0D1s5AC', 'VXvek_AAAAAJ:NMxIlDl6LWMC', 'VXvek_AAAAAJ:yD5IFk8b50cC', 'VXvek_AAAAAJ:4fKUyHm3Qg0C', 'VXvek_AAAAAJ:JoZmwDi-zQgC', 'VXvek_AAAAAJ:W5xh706n7nkC', 'VXvek_AAAAAJ:JQOojiI6XY0C', 'VXvek_AAAAAJ:YFjsv_pBGBYC', 'VXvek_AAAAAJ:4OULZ7Gr8RgC', 'VXvek_AAAAAJ:J_g5lzvAfSwC', 'VXvek_AAAAAJ:RYcK_YlVTxYC', 'VXvek_AAAAAJ:M7yex6snE4oC', 'VXvek_AAAAAJ:O3NaXMp0MMsC', 'VXvek_AAAAAJ:k8Z6L05lTy4C', 'VXvek_AAAAAJ:0KyAp5RtaNEC', 'VXvek_AAAAAJ:LjlpjdlvIbIC', 'VXvek_AAAAAJ:p__nRnzSRKYC', 'VXvek_AAAAAJ:pqnbT2bcN3wC', 'VXvek_AAAAAJ:TIZ-Mc8IlK0C', 'VXvek_AAAAAJ:z_wVstp3MssC', 'VXvek_AAAAAJ:ipzZ9siozwsC', 'VXvek_AAAAAJ:WA5NYHcadZ8C', 'VXvek_AAAAAJ:f2IySw72cVMC', 'VXvek_AAAAAJ:B3FOqHPlNUQC', 'VXvek_AAAAAJ:cFHS6HbyZ2cC', 'VXvek_AAAAAJ:vV6vV6tmYwMC', 'VXvek_AAAAAJ:g3aElNc5_aQC', 'VXvek_AAAAAJ:4MWp96NkSFoC', 'VXvek_AAAAAJ:_B80troHkn4C', 'VXvek_AAAAAJ:3s1wT3WcHBgC', 'VXvek_AAAAAJ:xtoqd-5pKcoC', 'VXvek_AAAAAJ:SP6oXDckpogC', 'VXvek_AAAAAJ:XiVPGOgt02cC', 'VXvek_AAAAAJ:SeFeTyx0c_EC', 'VXvek_AAAAAJ:ldfaerwXgEUC', 'VXvek_AAAAAJ:2KloaMYe4IUC', 'VXvek_AAAAAJ:HoB7MX3m0LUC', 'VXvek_AAAAAJ:VL0QpB8kHFEC', 'VXvek_AAAAAJ:CHSYGLWDkRkC', 'VXvek_AAAAAJ:fPk4N6BV_jEC', 'VXvek_AAAAAJ:dfsIfKJdRG4C', 'VXvek_AAAAAJ:L7CI7m0gUJcC', 'VXvek_AAAAAJ:yB1At4FlUx8C', 'VXvek_AAAAAJ:UxriW0iASnsC', 'VXvek_AAAAAJ:bFI3QPDXJZMC', 'VXvek_AAAAAJ:ZHo1McVdvXMC', 'VXvek_AAAAAJ:u_35RYKgDlwC', 'VXvek_AAAAAJ:zA6iFVUQeVQC', 'VXvek_AAAAAJ:t7zJ5fGR-2UC', 'VXvek_AAAAAJ:EkHepimYqZsC', 'VXvek_AAAAAJ:tKAzc9rXhukC', 'VXvek_AAAAAJ:i2xiXl-TujoC', 'VXvek_AAAAAJ:FPJr55Dyh1AC', 'VXvek_AAAAAJ:kz9GbA2Ns4gC', 'VXvek_AAAAAJ:PoWvk5oyLR8C', 'VXvek_AAAAAJ:LI9QrySNdTsC', 'VXvek_AAAAAJ:a0OBvERweLwC', 'VXvek_AAAAAJ:BUYA1_V_uYcC', 'VXvek_AAAAAJ:foquWX3nUaYC', 'VXvek_AAAAAJ:N5tVd3kTz84C', 'VXvek_AAAAAJ:D03iK_w7-QYC', 'VXvek_AAAAAJ:tzM49s52ZIMC', 'VXvek_AAAAAJ:pyW8ca7W8N0C', 'VXvek_AAAAAJ:kh2fBNsKQNwC', 'VXvek_AAAAAJ:PVjk1bu6vJQC', 'VXvek_AAAAAJ:gsN89kCJA0AC', 'VXvek_AAAAAJ:ruyezt5ZtCIC', 'VXvek_AAAAAJ:0N-VGjzr574C', 'VXvek_AAAAAJ:edDO8Oi4QzsC', 'VXvek_AAAAAJ:KUbvn5osdkgC', 'VXvek_AAAAAJ:Ri6SYOTghG4C', 'VXvek_AAAAAJ:S16KYo8Pm5AC', 'VXvek_AAAAAJ:5awf1xo2G04C', 'VXvek_AAAAAJ:86PQX7AUzd4C', 'VXvek_AAAAAJ:mvPsJ3kp5DgC', 'VXvek_AAAAAJ:rmuvC79q63oC', 'VXvek_AAAAAJ:AvfA0Oy_GE0C', 'VXvek_AAAAAJ:WZBGuue-350C', 'VXvek_AAAAAJ:epqYDVWIO7EC', 'VXvek_AAAAAJ:fQNAKQ3IYiAC', 'VXvek_AAAAAJ:e_rmSamDkqQC', 'VXvek_AAAAAJ:-FonjvnnhkoC', 'VXvek_AAAAAJ:XD-gHx7UXLsC', 'VXvek_AAAAAJ:K3LRdlH-MEoC', 'VXvek_AAAAAJ:EUQCXRtRnyEC', 'VXvek_AAAAAJ:lmc2jWPfTJgC', 'VXvek_AAAAAJ:D_sINldO8mEC', 'VXvek_AAAAAJ:dTyEYWd-f8wC', 'VXvek_AAAAAJ:EYYDruWGBe4C', 'VXvek_AAAAAJ:J-pR_7NvFogC', 'VXvek_AAAAAJ:sSrBHYA8nusC', 'VXvek_AAAAAJ:vRqMK49ujn8C', 'VXvek_AAAAAJ:tOudhMTPpwUC', 'VXvek_AAAAAJ:738O_yMBCRsC', 'VXvek_AAAAAJ:u9iWguZQMMsC', 'VXvek_AAAAAJ:bnK-pcrLprsC', 'VXvek_AAAAAJ:5ugPr518TE4C', 'VXvek_AAAAAJ:Z5m8FVwuT1cC', 'VXvek_AAAAAJ:eJXPG6dFmWUC', 'VXvek_AAAAAJ:P5F9QuxV20EC', 'VXvek_AAAAAJ:q3oQSFYPqjQC', 'VXvek_AAAAAJ:NhqRSupF_l8C', 'VXvek_AAAAAJ:t6usbXjVLHcC', 'VXvek_AAAAAJ:ZfRJV9d4-WMC', 'VXvek_AAAAAJ:1qzjygNMrQYC', 'VXvek_AAAAAJ:Dip1O2bNi0gC', 'VXvek_AAAAAJ:08ZZubdj9fEC', 'VXvek_AAAAAJ:Ug5p-4gJ2f0C', 'VXvek_AAAAAJ:_xSYboBqXhAC', 'VXvek_AAAAAJ:nb7KW1ujOQ8C', 'VXvek_AAAAAJ:KxtntwgDAa4C', 'VXvek_AAAAAJ:wbdj-CoPYUoC', 'VXvek_AAAAAJ:WbkHhVStYXYC', 'VXvek_AAAAAJ:dshw04ExmUIC', 'VXvek_AAAAAJ:HbR8gkJAVGIC', 'VXvek_AAAAAJ:XoXfffV-tXoC', 'VXvek_AAAAAJ:oNZyr7d5Mn4C', 'VXvek_AAAAAJ:5Ul4iDaHHb8C', 'VXvek_AAAAAJ:YohjEiUPhakC', 'VXvek_AAAAAJ:hCrLmN-GePgC', 'VXvek_AAAAAJ:ClCfbGk0d_YC', 'VXvek_AAAAAJ:ILKRHgRFtOwC', 'VXvek_AAAAAJ:kRWSkSYxWN8C', 'VXvek_AAAAAJ:BrmTIyaxlBUC', 'VXvek_AAAAAJ:l7t_Zn2s7bgC', 'VXvek_AAAAAJ:abG-DnoFyZgC']), ('Thomas B.  Smith', ['9CC9gHoAAAAJ:9vf0nzSNQJEC', '9CC9gHoAAAAJ:5awf1xo2G04C', '9CC9gHoAAAAJ:ye4kPcJQO24C', '9CC9gHoAAAAJ:WqliGbK-hY8C', '9CC9gHoAAAAJ:eq2jaN3J8jMC', '9CC9gHoAAAAJ:SdhP9T11ey4C', '9CC9gHoAAAAJ:5MTHONV0fEkC', '9CC9gHoAAAAJ:LjlpjdlvIbIC', '9CC9gHoAAAAJ:N5tVd3kTz84C', '9CC9gHoAAAAJ:VL0QpB8kHFEC', '9CC9gHoAAAAJ:ZuybSZzF8UAC', '9CC9gHoAAAAJ:BrOSOlqYqPUC', '9CC9gHoAAAAJ:hkOj_22Ku90C', '9CC9gHoAAAAJ:_B80troHkn4C', '9CC9gHoAAAAJ:1yQoGdGgb4wC', '9CC9gHoAAAAJ:CaZNVDsoPx4C', '9CC9gHoAAAAJ:PELIpwtuRlgC', '9CC9gHoAAAAJ:evX43VCCuoAC', '9CC9gHoAAAAJ:UHK10RUVsp4C', '9CC9gHoAAAAJ:nrtMV_XWKgEC', '9CC9gHoAAAAJ:PR6Y55bgFSsC', '9CC9gHoAAAAJ:dTyEYWd-f8wC', '9CC9gHoAAAAJ:dQ2og3OwTAUC', '9CC9gHoAAAAJ:b1wdh0AR-JQC', '9CC9gHoAAAAJ:kzcrU_BdoSEC', '9CC9gHoAAAAJ:W5xh706n7nkC', '9CC9gHoAAAAJ:S16KYo8Pm5AC', '9CC9gHoAAAAJ:uLbwQdceFCQC', '9CC9gHoAAAAJ:VLnqNzywnoUC', '9CC9gHoAAAAJ:t7zJ5fGR-2UC', '9CC9gHoAAAAJ:JQOojiI6XY0C', '9CC9gHoAAAAJ:35r97b3x0nAC', '9CC9gHoAAAAJ:yB1At4FlUx8C', '9CC9gHoAAAAJ:JoZmwDi-zQgC', '9CC9gHoAAAAJ:ZfRJV9d4-WMC', '9CC9gHoAAAAJ:Fu2w8maKXqMC', '9CC9gHoAAAAJ:_Re3VWB3Y0AC', '9CC9gHoAAAAJ:tKAzc9rXhukC', '9CC9gHoAAAAJ:tzM49s52ZIMC', '9CC9gHoAAAAJ:7T2F9Uy0os0C', '9CC9gHoAAAAJ:-_dYPAW6P2MC', '9CC9gHoAAAAJ:KaMxkj08jr0C', '9CC9gHoAAAAJ:NJ774b8OgUMC', '9CC9gHoAAAAJ:X0DADzN9RKwC', '9CC9gHoAAAAJ:g3aElNc5_aQC', '9CC9gHoAAAAJ:z_wVstp3MssC', '9CC9gHoAAAAJ:2KloaMYe4IUC', '9CC9gHoAAAAJ:hMsQuOkrut0C', '9CC9gHoAAAAJ:tuHXwOkdijsC', '9CC9gHoAAAAJ:_Ybze24A_UAC', '9CC9gHoAAAAJ:PoWvk5oyLR8C', '9CC9gHoAAAAJ:EYYDruWGBe4C', '9CC9gHoAAAAJ:EkHepimYqZsC', '9CC9gHoAAAAJ:vDijr-p_gm4C', '9CC9gHoAAAAJ:EPG8bYD4jVwC', '9CC9gHoAAAAJ:oNZyr7d5Mn4C', '9CC9gHoAAAAJ:86PQX7AUzd4C', '9CC9gHoAAAAJ:uJ-U7cs_P_0C', '9CC9gHoAAAAJ:fEOibwPWpKIC', '9CC9gHoAAAAJ:fFSKOagxvKUC', '9CC9gHoAAAAJ:oPLKW5k6eA4C', '9CC9gHoAAAAJ:zLWjf1WUPmwC', '9CC9gHoAAAAJ:j8SEvjWlNXcC', '9CC9gHoAAAAJ:rmuvC79q63oC', '9CC9gHoAAAAJ:Dip1O2bNi0gC', '9CC9gHoAAAAJ:p__nRnzSRKYC', '9CC9gHoAAAAJ:9pM33mqn1YgC', '9CC9gHoAAAAJ:0KyAp5RtaNEC', '9CC9gHoAAAAJ:XD-gHx7UXLsC', '9CC9gHoAAAAJ:ML0RJ9NH7IQC', '9CC9gHoAAAAJ:nZcligLrVowC', '9CC9gHoAAAAJ:ipzZ9siozwsC', '9CC9gHoAAAAJ:0N-VGjzr574C', '9CC9gHoAAAAJ:_OXeSy2IsFwC', '9CC9gHoAAAAJ:4MWp96NkSFoC', '9CC9gHoAAAAJ:tYavs44e6CUC', '9CC9gHoAAAAJ:q-HalDI95KYC', '9CC9gHoAAAAJ:KUbvn5osdkgC', '9CC9gHoAAAAJ:BwyfMAYsbu0C', '9CC9gHoAAAAJ:e_rmSamDkqQC', '9CC9gHoAAAAJ:-FonjvnnhkoC', '9CC9gHoAAAAJ:VaXvl8Fpj5cC', '9CC9gHoAAAAJ:ubry08Y2EpUC', '9CC9gHoAAAAJ:0CzhzZyukY4C', '9CC9gHoAAAAJ:BUYA1_V_uYcC', '9CC9gHoAAAAJ:t-hv7AR41mYC', '9CC9gHoAAAAJ:HtEfBTGE9r8C', '9CC9gHoAAAAJ:SpbeaW3--B0C', '9CC9gHoAAAAJ:uWiczbcajpAC', '9CC9gHoAAAAJ:uc_IGeMz5qoC', '9CC9gHoAAAAJ:FiytvqdAVhgC', '9CC9gHoAAAAJ:q3CdL3IzO_QC', '9CC9gHoAAAAJ:LGlY6t8CeOMC', '9CC9gHoAAAAJ:1yWc8FF-_SYC', '9CC9gHoAAAAJ:LK8CI43ZvvMC', '9CC9gHoAAAAJ:6ZxmRoH8BuwC', '9CC9gHoAAAAJ:URolC5Kub84C', '9CC9gHoAAAAJ:i2xiXl-TujoC', '9CC9gHoAAAAJ:Z5m8FVwuT1cC', '9CC9gHoAAAAJ:AvfA0Oy_GE0C', '9CC9gHoAAAAJ:lg2tdxc6qMwC', '9CC9gHoAAAAJ:epqYDVWIO7EC', '9CC9gHoAAAAJ:M7yex6snE4oC', '9CC9gHoAAAAJ:MLfJN-KU85MC', '9CC9gHoAAAAJ:5qfkUJPXOUwC', '9CC9gHoAAAAJ:kuK5TVdYjLIC', '9CC9gHoAAAAJ:TIZ-Mc8IlK0C', '9CC9gHoAAAAJ:ILKRHgRFtOwC', '9CC9gHoAAAAJ:fbc8zXXH2BUC', '9CC9gHoAAAAJ:u-coK7KVo8oC', '9CC9gHoAAAAJ:BOlwja0KXvYC', '9CC9gHoAAAAJ:hGdtkIFZdKAC', '9CC9gHoAAAAJ:CB2v5VPnA5kC', '9CC9gHoAAAAJ:GtLg2Ama23sC', '9CC9gHoAAAAJ:8Xgff_V0N9gC', '9CC9gHoAAAAJ:LI9QrySNdTsC', '9CC9gHoAAAAJ:gsN89kCJA0AC', '9CC9gHoAAAAJ:OP4eGU-M3BUC', '9CC9gHoAAAAJ:OTTXONDVkokC', '9CC9gHoAAAAJ:lmc2jWPfTJgC', '9CC9gHoAAAAJ:zUl2_INMlC4C', '9CC9gHoAAAAJ:k8Z6L05lTy4C', '9CC9gHoAAAAJ:vbGhcppDl1QC', '9CC9gHoAAAAJ:IUKN3-7HHlwC', '9CC9gHoAAAAJ:NXb4pA-qfm4C', '9CC9gHoAAAAJ:WZBGuue-350C', '9CC9gHoAAAAJ:Dem6FJhTUoYC', '9CC9gHoAAAAJ:wLxue7F8ec0C', '9CC9gHoAAAAJ:_5tno0g5mFcC', '9CC9gHoAAAAJ:s85pQhAUCrAC', '9CC9gHoAAAAJ:kz9GbA2Ns4gC', '9CC9gHoAAAAJ:L7CI7m0gUJcC', '9CC9gHoAAAAJ:yqoGN6RLRZoC', '9CC9gHoAAAAJ:hNSvKAmkeYkC', '9CC9gHoAAAAJ:jFemdcug13IC', '9CC9gHoAAAAJ:mlAyqtXpCwEC', '9CC9gHoAAAAJ:a9-T7VOCCH8C', '9CC9gHoAAAAJ:LPtt_HFRSbwC', '9CC9gHoAAAAJ:43bX7VzcjpAC', '9CC9gHoAAAAJ:edDO8Oi4QzsC', '9CC9gHoAAAAJ:kVjdVfd2voEC', '9CC9gHoAAAAJ:DUooU5lO8OsC', '9CC9gHoAAAAJ:FPJr55Dyh1AC', '9CC9gHoAAAAJ:-jrNzM816MMC', '9CC9gHoAAAAJ:BJbdYPG6LGMC', '9CC9gHoAAAAJ:uDGL6kOW6j0C', '9CC9gHoAAAAJ:w0F2JDEymm0C', '9CC9gHoAAAAJ:Ug5p-4gJ2f0C', '9CC9gHoAAAAJ:N4u4nq0IxgcC', '9CC9gHoAAAAJ:WwIwg2wKZ0QC', '9CC9gHoAAAAJ:ZzlSgRqYykMC', '9CC9gHoAAAAJ:RtRctb2lSbAC', '9CC9gHoAAAAJ:FAceZFleit8C', '9CC9gHoAAAAJ:PVjk1bu6vJQC', '9CC9gHoAAAAJ:ClCfbGk0d_YC', '9CC9gHoAAAAJ:xtoqd-5pKcoC', '9CC9gHoAAAAJ:foquWX3nUaYC', '9CC9gHoAAAAJ:8d8msizDQcsC', '9CC9gHoAAAAJ:YohjEiUPhakC', '9CC9gHoAAAAJ:ruyezt5ZtCIC', '9CC9gHoAAAAJ:7BrZ7Jt4UNcC', '9CC9gHoAAAAJ:Ri6SYOTghG4C', '9CC9gHoAAAAJ:4xDN1ZYqzskC', '9CC9gHoAAAAJ:ymY9cBF3mdcC', '9CC9gHoAAAAJ:_axFR9aDTf0C', '9CC9gHoAAAAJ:HbR8gkJAVGIC', '9CC9gHoAAAAJ:pYKElYtJMmwC', '9CC9gHoAAAAJ:sNmaIFBj_lkC', '9CC9gHoAAAAJ:hCrLmN-GePgC', '9CC9gHoAAAAJ:NMlhSUseqAsC', '9CC9gHoAAAAJ:1taIhTC69MYC', '9CC9gHoAAAAJ:6_hjMsCP8ZoC', '9CC9gHoAAAAJ:AXkvAH5U_nMC', '9CC9gHoAAAAJ:NyGDZy8z5eUC', '9CC9gHoAAAAJ:_FM0Bhl9EiAC', '9CC9gHoAAAAJ:raTqNPD5sRQC', '9CC9gHoAAAAJ:HGTzPopzzJcC', '9CC9gHoAAAAJ:7Hz3ACDFbsoC', '9CC9gHoAAAAJ:2tRrZ1ZAMYUC', '9CC9gHoAAAAJ:YTuZlYwrTOUC', '9CC9gHoAAAAJ:cWzG1nlazyYC', '9CC9gHoAAAAJ:XoXfffV-tXoC', '9CC9gHoAAAAJ:O0nohqN1r9EC', '9CC9gHoAAAAJ:RoXSNcbkSzsC', '9CC9gHoAAAAJ:MAUkC_7iAq8C', '9CC9gHoAAAAJ:jE2MZjpN3IcC', '9CC9gHoAAAAJ:zCSUwVk65WsC', '9CC9gHoAAAAJ:R-LXmdHK_14C', '9CC9gHoAAAAJ:4fGpz3EwCPoC', '9CC9gHoAAAAJ:anf4URPfarAC', '9CC9gHoAAAAJ:bz8QjSJIRt4C', '9CC9gHoAAAAJ:Vr2j17o0sqMC', '9CC9gHoAAAAJ:3NQIlFlcGxIC', '9CC9gHoAAAAJ:BJrgspguQaEC', '9CC9gHoAAAAJ:yY3RG6sOEgwC', '9CC9gHoAAAAJ:LO7wyVUgiFcC', '9CC9gHoAAAAJ:37UQlXuwjP4C', '9CC9gHoAAAAJ:lYAcb2jw7qUC', '9CC9gHoAAAAJ:Wq2b2clWBLsC', '9CC9gHoAAAAJ:AHdEip9mkN0C', '9CC9gHoAAAAJ:eGYfIraVYiQC', '9CC9gHoAAAAJ:DkZNVXde3BIC', '9CC9gHoAAAAJ:2VqYfGB8ITEC', '9CC9gHoAAAAJ:0izLItjtcgwC', '9CC9gHoAAAAJ:WJVC3Jt7v1AC', '9CC9gHoAAAAJ:kh2fBNsKQNwC', '9CC9gHoAAAAJ:a3BOlSfXSfwC', '9CC9gHoAAAAJ:c59VksA5Vz4C', '9CC9gHoAAAAJ:SjuI4pbJlxcC', '9CC9gHoAAAAJ:umqufdRvDiIC', '9CC9gHoAAAAJ:4Yq6kJLCcecC', '9CC9gHoAAAAJ:wSy_KLzO7YEC', '9CC9gHoAAAAJ:IsPWOBWtZBwC', '9CC9gHoAAAAJ:YB4bud6kWLwC', '9CC9gHoAAAAJ:HhcuHIWmDEUC', '9CC9gHoAAAAJ:GFxP56DSvIMC', '9CC9gHoAAAAJ:Aul-kAQHnToC', '9CC9gHoAAAAJ:QYdC8u9Cj1oC', '9CC9gHoAAAAJ:D_tqNUsBuKoC', '9CC9gHoAAAAJ:yFnVuubrUp4C', '9CC9gHoAAAAJ:9c2xU6iGI7YC', '9CC9gHoAAAAJ:HIFyuExEbWQC', '9CC9gHoAAAAJ:DXE8ND7PrJAC', '9CC9gHoAAAAJ:1r-w4gtu6w8C', '9CC9gHoAAAAJ:Og1tA8FjbJAC', '9CC9gHoAAAAJ:orDZ08hpP44C', '9CC9gHoAAAAJ:iyewoVqAXLQC', '9CC9gHoAAAAJ:wUn16MOA3RoC', '9CC9gHoAAAAJ:JWITY9-sCbMC', '9CC9gHoAAAAJ:pQTOvowfQioC', '9CC9gHoAAAAJ:4e5Qn2KL_jwC', '9CC9gHoAAAAJ:eI34FqJmdUoC', '9CC9gHoAAAAJ:jmjb1lOE9QIC', '9CC9gHoAAAAJ:QsKbpXNoaWkC', '9CC9gHoAAAAJ:C33y2ycGS3YC', '9CC9gHoAAAAJ:DBa1UEJaJKAC', '9CC9gHoAAAAJ:6bLC7aUMtPcC', '9CC9gHoAAAAJ:TlpoogIpr_IC', '9CC9gHoAAAAJ:s9ia6_kGH2AC', '9CC9gHoAAAAJ:qmtmRrLr0tkC', '9CC9gHoAAAAJ:7wO8s98CvbsC', '9CC9gHoAAAAJ:2vr6o8x5NLkC', '9CC9gHoAAAAJ:sfnaS5RM6jYC', '9CC9gHoAAAAJ:0aBXIfxlw9sC', '9CC9gHoAAAAJ:P7Ujq4OLJYoC', '9CC9gHoAAAAJ:aIdbFUkbNIkC', '9CC9gHoAAAAJ:G1UMdFYMoxkC', '9CC9gHoAAAAJ:Ic1VZgkJnDsC', '9CC9gHoAAAAJ:KWzIFqRkAKkC', '9CC9gHoAAAAJ:-DxkuPiZhfEC', '9CC9gHoAAAAJ:v6i8RKmR8ToC', '9CC9gHoAAAAJ:WC23djZS0W4C', '9CC9gHoAAAAJ:LdasjJ6CEcoC', '9CC9gHoAAAAJ:cK4Rrx0J3m0C', '9CC9gHoAAAAJ:sJPMR1oEGYQC', '9CC9gHoAAAAJ:SxCCDk4iOpsC', '9CC9gHoAAAAJ:8xutWZnSdmoC', '9CC9gHoAAAAJ:sA9dB-pw3HoC', '9CC9gHoAAAAJ:qwy9JoKyICEC', '9CC9gHoAAAAJ:jlhcAiayVhoC', '9CC9gHoAAAAJ:naSTrk-c4S8C', '9CC9gHoAAAAJ:n3vGvpFsckwC', '9CC9gHoAAAAJ:HJSXoJQnj-YC', '9CC9gHoAAAAJ:OzeSX8-yOCQC', '9CC9gHoAAAAJ:RuPIJ_LgqDgC', '9CC9gHoAAAAJ:9DLIHnF0jcYC', '9CC9gHoAAAAJ:ijdKiLOsEJMC', '9CC9gHoAAAAJ:c_xDhezhKKUC', '9CC9gHoAAAAJ:69ZgNCALVd0C', '9CC9gHoAAAAJ:kF1pexMAQbMC', '9CC9gHoAAAAJ:3bvyWxjaHKcC', '9CC9gHoAAAAJ:LhH-TYMQEocC', '9CC9gHoAAAAJ:-uzm3Y7AvW0C', '9CC9gHoAAAAJ:bKqednn6t2AC', '9CC9gHoAAAAJ:_AeoHAGD03cC', '9CC9gHoAAAAJ:8dzOF9BpDQoC', '9CC9gHoAAAAJ:4aZ_i-5WJEQC', '9CC9gHoAAAAJ:TaaCk18tZOkC', '9CC9gHoAAAAJ:hQUaER0FWQ4C', '9CC9gHoAAAAJ:BmWJbWwHJAwC', '9CC9gHoAAAAJ:Zh0EY9V9P6UC', '9CC9gHoAAAAJ:hvmnpdAuIbkC', '9CC9gHoAAAAJ:nqdriD65xNoC', '9CC9gHoAAAAJ:z8nqeaKD1nsC', '9CC9gHoAAAAJ:F9fV5C73w3QC', '9CC9gHoAAAAJ:UmS_249rOGwC', '9CC9gHoAAAAJ:__bU50VfleQC', '9CC9gHoAAAAJ:HtS1dXgVpQUC', '9CC9gHoAAAAJ:Hck25ST_3aIC', '9CC9gHoAAAAJ:ji7lAbPyDbYC', '9CC9gHoAAAAJ:m4fbC6XIj1kC', '9CC9gHoAAAAJ:nPT8s1NX_-sC', '9CC9gHoAAAAJ:ZqE1mSdD_DYC', '9CC9gHoAAAAJ:jSAVyFp_754C', '9CC9gHoAAAAJ:yMeIxYmEMEAC']), ('Brian D Taylor', ['rOvEiAYAAAAJ:dfsIfKJdRG4C', 'rOvEiAYAAAAJ:cFHS6HbyZ2cC', 'rOvEiAYAAAAJ:pyW8ca7W8N0C', 'rOvEiAYAAAAJ:a0OBvERweLwC', 'rOvEiAYAAAAJ:D03iK_w7-QYC', 'rOvEiAYAAAAJ:EUQCXRtRnyEC', 'rOvEiAYAAAAJ:abG-DnoFyZgC', 'rOvEiAYAAAAJ:bFI3QPDXJZMC', 'rOvEiAYAAAAJ:f2IySw72cVMC', 'rOvEiAYAAAAJ:5Ul4iDaHHb8C', 'rOvEiAYAAAAJ:CHSYGLWDkRkC', 'rOvEiAYAAAAJ:KxtntwgDAa4C', 'rOvEiAYAAAAJ:b0M2c_1WBrUC', 'rOvEiAYAAAAJ:_xSYboBqXhAC', 'rOvEiAYAAAAJ:XiSMed-E-HIC', 'rOvEiAYAAAAJ:NhqRSupF_l8C', 'rOvEiAYAAAAJ:1sJd4Hv_s6UC', 'rOvEiAYAAAAJ:xtRiw3GOFMkC', 'rOvEiAYAAAAJ:P5F9QuxV20EC', 'rOvEiAYAAAAJ:dshw04ExmUIC', 'rOvEiAYAAAAJ:VOx2b1Wkg3QC', 'rOvEiAYAAAAJ:UxriW0iASnsC', 'rOvEiAYAAAAJ:08ZZubdj9fEC', 'rOvEiAYAAAAJ:uWQEDVKXjbEC', 'rOvEiAYAAAAJ:nb7KW1ujOQ8C', 'rOvEiAYAAAAJ:Y0pCki6q_DkC', 'rOvEiAYAAAAJ:Tiz5es2fbqcC', 'rOvEiAYAAAAJ:OU6Ihb5iCvQC', 'rOvEiAYAAAAJ:u9iWguZQMMsC', 'rOvEiAYAAAAJ:tS2w5q8j5-wC', 'rOvEiAYAAAAJ:fQNAKQ3IYiAC', 'rOvEiAYAAAAJ:tOudhMTPpwUC', 'rOvEiAYAAAAJ:LPZeul_q3PIC', 'rOvEiAYAAAAJ:BrmTIyaxlBUC', 'rOvEiAYAAAAJ:p2g8aNsByqUC', 'rOvEiAYAAAAJ:vRqMK49ujn8C', 'rOvEiAYAAAAJ:SP6oXDckpogC', 'rOvEiAYAAAAJ:4fKUyHm3Qg0C', 'rOvEiAYAAAAJ:K3LRdlH-MEoC', 'rOvEiAYAAAAJ:isC4tDSrTZIC', 'rOvEiAYAAAAJ:nVrZBo8bIpAC', 'rOvEiAYAAAAJ:l7t_Zn2s7bgC', 'rOvEiAYAAAAJ:ipzZ9siozwsC', 'rOvEiAYAAAAJ:geHnlv5EZngC', 'rOvEiAYAAAAJ:B3FOqHPlNUQC', 'rOvEiAYAAAAJ:kRWSkSYxWN8C', 'rOvEiAYAAAAJ:D_sINldO8mEC', 'rOvEiAYAAAAJ:eJXPG6dFmWUC', 'rOvEiAYAAAAJ:LjlpjdlvIbIC', 'rOvEiAYAAAAJ:V3AGJWp-ZtQC', 'rOvEiAYAAAAJ:sSrBHYA8nusC', 'rOvEiAYAAAAJ:t6usbXjVLHcC', 'rOvEiAYAAAAJ:1qzjygNMrQYC', 'rOvEiAYAAAAJ:J-pR_7NvFogC', 'rOvEiAYAAAAJ:SdhP9T11ey4C', 'rOvEiAYAAAAJ:1yQoGdGgb4wC', 'rOvEiAYAAAAJ:u5HHmVD_uO8C', 'rOvEiAYAAAAJ:eflP2zaiRacC', 'rOvEiAYAAAAJ:bnK-pcrLprsC', 'rOvEiAYAAAAJ:5ugPr518TE4C', 'rOvEiAYAAAAJ:tH6gc1N1XXoC', 'rOvEiAYAAAAJ:olpn-zPbct0C', 'rOvEiAYAAAAJ:HE397vMXCloC', 'rOvEiAYAAAAJ:q3CdL3IzO_QC', 'rOvEiAYAAAAJ:WA5NYHcadZ8C', 'rOvEiAYAAAAJ:ldfaerwXgEUC', 'rOvEiAYAAAAJ:AXPGKjj_ei8C', 'rOvEiAYAAAAJ:RGFaLdJalmkC', 'rOvEiAYAAAAJ:_B80troHkn4C', 'rOvEiAYAAAAJ:9vf0nzSNQJEC', 'rOvEiAYAAAAJ:Ri6SYOTghG4C', 'rOvEiAYAAAAJ:rO6llkc54NcC', 'rOvEiAYAAAAJ:WqliGbK-hY8C', 'rOvEiAYAAAAJ:_Ybze24A_UAC', 'rOvEiAYAAAAJ:7T2F9Uy0os0C', 'rOvEiAYAAAAJ:JQOojiI6XY0C', 'rOvEiAYAAAAJ:eMMeJKvmdy0C', 'rOvEiAYAAAAJ:Mojj43d5GZwC', 'rOvEiAYAAAAJ:VL0QpB8kHFEC', 'rOvEiAYAAAAJ:kh2fBNsKQNwC', 'rOvEiAYAAAAJ:gsN89kCJA0AC', 'rOvEiAYAAAAJ:zLWjf1WUPmwC', 'rOvEiAYAAAAJ:5MTHONV0fEkC', 'rOvEiAYAAAAJ:PELIpwtuRlgC', 'rOvEiAYAAAAJ:dQ2og3OwTAUC', 'rOvEiAYAAAAJ:tkaPQYYpVKoC', 'rOvEiAYAAAAJ:LkGwnXOMwfcC', 'rOvEiAYAAAAJ:JoZmwDi-zQgC', 'rOvEiAYAAAAJ:5awf1xo2G04C', 'rOvEiAYAAAAJ:5nxA0vEk-isC', 'rOvEiAYAAAAJ:dTyEYWd-f8wC', 'rOvEiAYAAAAJ:4fGpz3EwCPoC', 'rOvEiAYAAAAJ:WZBGuue-350C', 'rOvEiAYAAAAJ:kzcrU_BdoSEC', 'rOvEiAYAAAAJ:IjCSPb-OGe4C', 'rOvEiAYAAAAJ:hkOj_22Ku90C', 'rOvEiAYAAAAJ:PR6Y55bgFSsC', 'rOvEiAYAAAAJ:qjMakFHDy7sC', 'rOvEiAYAAAAJ:9yKSN-GCB0IC', 'rOvEiAYAAAAJ:UHK10RUVsp4C', 'rOvEiAYAAAAJ:VaXvl8Fpj5cC', 'rOvEiAYAAAAJ:uLbwQdceFCQC', 'rOvEiAYAAAAJ:ODE9OILHJdcC', 'rOvEiAYAAAAJ:cWzG1nlazyYC', 'rOvEiAYAAAAJ:YohjEiUPhakC', 'rOvEiAYAAAAJ:e_rmSamDkqQC', 'rOvEiAYAAAAJ:anf4URPfarAC', 'rOvEiAYAAAAJ:LO7wyVUgiFcC', 'rOvEiAYAAAAJ:tKAzc9rXhukC', 'rOvEiAYAAAAJ:YsMSGLbcyi4C', 'rOvEiAYAAAAJ:tzM49s52ZIMC', 'rOvEiAYAAAAJ:eQOLeE2rZwMC', 'rOvEiAYAAAAJ:_Re3VWB3Y0AC', 'rOvEiAYAAAAJ:TQgYirikUcIC', 'rOvEiAYAAAAJ:RHpTSmoSYBkC', 'rOvEiAYAAAAJ:URolC5Kub84C', 'rOvEiAYAAAAJ:sNmaIFBj_lkC', 'rOvEiAYAAAAJ:QYdC8u9Cj1oC', 'rOvEiAYAAAAJ:NJ774b8OgUMC', 'rOvEiAYAAAAJ:gVv57TyPmFsC', 'rOvEiAYAAAAJ:9c2xU6iGI7YC', 'rOvEiAYAAAAJ:_5tno0g5mFcC', 'rOvEiAYAAAAJ:DUooU5lO8OsC', 'rOvEiAYAAAAJ:PVjk1bu6vJQC', 'rOvEiAYAAAAJ:_Qo2XoVZTnwC', 'rOvEiAYAAAAJ:Ug5p-4gJ2f0C', 'rOvEiAYAAAAJ:k8Z6L05lTy4C', 'rOvEiAYAAAAJ:MLfJN-KU85MC', 'rOvEiAYAAAAJ:Z5m8FVwuT1cC', 'rOvEiAYAAAAJ:5qfkUJPXOUwC', 'rOvEiAYAAAAJ:UeHWp8X0CEIC', 'rOvEiAYAAAAJ:ufrVoPGSRksC', 'rOvEiAYAAAAJ:XvxMoLDsR5gC', 'rOvEiAYAAAAJ:Zph67rFs4hoC', 'rOvEiAYAAAAJ:lvd772isFD0C', 'rOvEiAYAAAAJ:L8Ckcad2t8MC', 'rOvEiAYAAAAJ:Tyk-4Ss8FVUC', 'rOvEiAYAAAAJ:TIZ-Mc8IlK0C', 'rOvEiAYAAAAJ:roLk4NBRz8UC', 'rOvEiAYAAAAJ:zYLM7Y9cAGgC', 'rOvEiAYAAAAJ:4vMrXwiscB8C', 'rOvEiAYAAAAJ:dBIO0h50nwkC', 'rOvEiAYAAAAJ:tuHXwOkdijsC', 'rOvEiAYAAAAJ:3s1wT3WcHBgC', 'rOvEiAYAAAAJ:HtS1dXgVpQUC', 'rOvEiAYAAAAJ:Bg7qf7VwUHIC', 'rOvEiAYAAAAJ:BJbdYPG6LGMC', 'rOvEiAYAAAAJ:vDZJ-YLwNdEC', 'rOvEiAYAAAAJ:g3aElNc5_aQC', 'rOvEiAYAAAAJ:OTTXONDVkokC', 'rOvEiAYAAAAJ:xtoqd-5pKcoC', 'rOvEiAYAAAAJ:_axFR9aDTf0C', 'rOvEiAYAAAAJ:NXb4pA-qfm4C', 'rOvEiAYAAAAJ:XoXfffV-tXoC', 'rOvEiAYAAAAJ:ruyezt5ZtCIC', 'rOvEiAYAAAAJ:HbR8gkJAVGIC', 'rOvEiAYAAAAJ:kz9GbA2Ns4gC', 'rOvEiAYAAAAJ:p__nRnzSRKYC', 'rOvEiAYAAAAJ:BwyfMAYsbu0C', 'rOvEiAYAAAAJ:4MWp96NkSFoC', 'rOvEiAYAAAAJ:ML0RJ9NH7IQC', 'rOvEiAYAAAAJ:L7CI7m0gUJcC', 'rOvEiAYAAAAJ:EYYDruWGBe4C', 'rOvEiAYAAAAJ:OP4eGU-M3BUC', 'rOvEiAYAAAAJ:dhFuZR0502QC', 'rOvEiAYAAAAJ:Wp0gIr-vW9MC', 'rOvEiAYAAAAJ:Dip1O2bNi0gC', 'rOvEiAYAAAAJ:O3NaXMp0MMsC', 'rOvEiAYAAAAJ:Aul-kAQHnToC', 'rOvEiAYAAAAJ:gKiMpY-AVTkC', 'rOvEiAYAAAAJ:hqOjcs7Dif8C', 'rOvEiAYAAAAJ:M05iB0D1s5AC', 'rOvEiAYAAAAJ:k_IJM867U9cC', 'rOvEiAYAAAAJ:JV2RwH3_ST0C', 'rOvEiAYAAAAJ:hC7cP41nSMkC', 'rOvEiAYAAAAJ:3fE2CSJIrl8C', 'rOvEiAYAAAAJ:uJ-U7cs_P_0C', 'rOvEiAYAAAAJ:oNZyr7d5Mn4C', 'rOvEiAYAAAAJ:u_35RYKgDlwC', 'rOvEiAYAAAAJ:iH-uZ7U-co4C', 'rOvEiAYAAAAJ:R3hNpaxXUhUC', 'rOvEiAYAAAAJ:5icHVeHT4IsC', 'rOvEiAYAAAAJ:j8SEvjWlNXcC', 'rOvEiAYAAAAJ:35r97b3x0nAC', 'rOvEiAYAAAAJ:j3f4tGmQtD8C', 'rOvEiAYAAAAJ:qUcmZB5y_30C', 'rOvEiAYAAAAJ:vV6vV6tmYwMC', 'rOvEiAYAAAAJ:M3ejUd6NZC8C', 'rOvEiAYAAAAJ:ns9cj8rnVeAC', 'rOvEiAYAAAAJ:kuK5TVdYjLIC', 'rOvEiAYAAAAJ:IWHjjKOFINEC', 'rOvEiAYAAAAJ:0KyAp5RtaNEC', 'rOvEiAYAAAAJ:XD-gHx7UXLsC', 'rOvEiAYAAAAJ:738O_yMBCRsC', 'rOvEiAYAAAAJ:aqlVkmm33-oC', 'rOvEiAYAAAAJ:4JMBOYKVnBMC', 'rOvEiAYAAAAJ:NaGl4SEjCO4C', 'rOvEiAYAAAAJ:HoB7MX3m0LUC', 'rOvEiAYAAAAJ:0izLItjtcgwC', 'rOvEiAYAAAAJ:yB1At4FlUx8C', 'rOvEiAYAAAAJ:mVmsd5A6BfQC', 'rOvEiAYAAAAJ:artPoR2Yc-kC', 'rOvEiAYAAAAJ:r_AWSJRzSzQC', 'rOvEiAYAAAAJ:RYcK_YlVTxYC', 'rOvEiAYAAAAJ:QIV2ME_5wuYC', 'rOvEiAYAAAAJ:umqufdRvDiIC', 'rOvEiAYAAAAJ:35N4QoGY0k4C', 'rOvEiAYAAAAJ:4OULZ7Gr8RgC', 'rOvEiAYAAAAJ:g5m5HwL7SMYC', 'rOvEiAYAAAAJ:YFjsv_pBGBYC', 'rOvEiAYAAAAJ:mB3voiENLucC', 'rOvEiAYAAAAJ:FPJr55Dyh1AC', 'rOvEiAYAAAAJ:e5wmG9Sq2KIC', 'rOvEiAYAAAAJ:70eg2SAEIzsC', 'rOvEiAYAAAAJ:maZDTaKrznsC', 'rOvEiAYAAAAJ:GnPB-g6toBAC', 'rOvEiAYAAAAJ:7PzlFSSx8tAC', 'rOvEiAYAAAAJ:AvfA0Oy_GE0C', 'rOvEiAYAAAAJ:NMxIlDl6LWMC', 'rOvEiAYAAAAJ:SpbeaW3--B0C', 'rOvEiAYAAAAJ:foquWX3nUaYC', 'rOvEiAYAAAAJ:u-coK7KVo8oC', 'rOvEiAYAAAAJ:fbc8zXXH2BUC', 'rOvEiAYAAAAJ:6ZxmRoH8BuwC', 'rOvEiAYAAAAJ:-FonjvnnhkoC', 'rOvEiAYAAAAJ:epqYDVWIO7EC', 'rOvEiAYAAAAJ:zA6iFVUQeVQC', 'rOvEiAYAAAAJ:BqipwSGYUEgC', 'rOvEiAYAAAAJ:hFOr9nPyWt4C', 'rOvEiAYAAAAJ:qxL8FJ1GzNcC', 'rOvEiAYAAAAJ:_kc_bZDykSQC', 'rOvEiAYAAAAJ:YOwf2qJgpHMC', 'rOvEiAYAAAAJ:KlAtU1dfN6UC']), ('Richard Wirz', ['GVYNtNsAAAAJ:u5HHmVD_uO8C', 'GVYNtNsAAAAJ:9yKSN-GCB0IC', 'GVYNtNsAAAAJ:u-x6o8ySG0sC', 'GVYNtNsAAAAJ:d1gkVwhDpl0C', 'GVYNtNsAAAAJ:qjMakFHDy7sC', 'GVYNtNsAAAAJ:2osOgNQ5qMEC', 'GVYNtNsAAAAJ:UeHWp8X0CEIC', 'GVYNtNsAAAAJ:Y0pCki6q_DkC', 'GVYNtNsAAAAJ:mVmsd5A6BfQC', 'GVYNtNsAAAAJ:3fE2CSJIrl8C', 'GVYNtNsAAAAJ:zYLM7Y9cAGgC', 'GVYNtNsAAAAJ:ufrVoPGSRksC', 'GVYNtNsAAAAJ:QIV2ME_5wuYC', 'GVYNtNsAAAAJ:Se3iqnhoufwC', 'GVYNtNsAAAAJ:Tyk-4Ss8FVUC', 'GVYNtNsAAAAJ:LkGwnXOMwfcC', 'GVYNtNsAAAAJ:eQOLeE2rZwMC', 'GVYNtNsAAAAJ:8k81kl-MbHgC', 'GVYNtNsAAAAJ:IjCSPb-OGe4C', 'GVYNtNsAAAAJ:W7OEmFMy1HYC', 'GVYNtNsAAAAJ:WF5omc3nYNoC', 'GVYNtNsAAAAJ:IWHjjKOFINEC', 'GVYNtNsAAAAJ:aqlVkmm33-oC', 'GVYNtNsAAAAJ:YsMSGLbcyi4C', 'GVYNtNsAAAAJ:roLk4NBRz8UC', 'GVYNtNsAAAAJ:_FxGoFyzp5QC', 'GVYNtNsAAAAJ:hqOjcs7Dif8C', 'GVYNtNsAAAAJ:r0BpntZqJG4C', 'GVYNtNsAAAAJ:hFOr9nPyWt4C', 'GVYNtNsAAAAJ:_kc_bZDykSQC', 'GVYNtNsAAAAJ:UebtZRa9Y70C', 'GVYNtNsAAAAJ:kNdYIx-mwKoC', 'GVYNtNsAAAAJ:BCdnXsLIVDwC', 'GVYNtNsAAAAJ:L8Ckcad2t8MC', 'GVYNtNsAAAAJ:0EnyYjriUFMC', 'GVYNtNsAAAAJ:5nxA0vEk-isC', 'GVYNtNsAAAAJ:L7vk9XBBNxgC', 'GVYNtNsAAAAJ:RHpTSmoSYBkC', 'GVYNtNsAAAAJ:4E1Y8I9HL1wC', 'GVYNtNsAAAAJ:TQgYirikUcIC', 'GVYNtNsAAAAJ:9ZlFYXVOiuMC', 'GVYNtNsAAAAJ:MXK_kJrjxJIC', 'GVYNtNsAAAAJ:YOwf2qJgpHMC', 'GVYNtNsAAAAJ:M3ejUd6NZC8C', 'GVYNtNsAAAAJ:U5uP8zs9lfgC', 'GVYNtNsAAAAJ:qUcmZB5y_30C', 'GVYNtNsAAAAJ:Wp0gIr-vW9MC', 'GVYNtNsAAAAJ:dhFuZR0502QC', 'GVYNtNsAAAAJ:4DMP91E08xMC', 'GVYNtNsAAAAJ:ULOm3_A8WrAC', 'GVYNtNsAAAAJ:KlAtU1dfN6UC', 'GVYNtNsAAAAJ:xa5BkEQK8BgC', 'GVYNtNsAAAAJ:Ul_CLA4dPeMC', 'GVYNtNsAAAAJ:cF7EPgIk0B4C', 'GVYNtNsAAAAJ:ZeXyd9-uunAC', 'GVYNtNsAAAAJ:qxL8FJ1GzNcC', 'GVYNtNsAAAAJ:GHsHDPAyICYC', 'GVYNtNsAAAAJ:3s1wT3WcHBgC', 'GVYNtNsAAAAJ:SeFeTyx0c_EC', 'GVYNtNsAAAAJ:tgTmbKTkO1IC', 'GVYNtNsAAAAJ:4TOpqqG69KYC', 'GVYNtNsAAAAJ:-f6ydRqryjwC', 'GVYNtNsAAAAJ:hC7cP41nSMkC', 'GVYNtNsAAAAJ:7PzlFSSx8tAC', 'GVYNtNsAAAAJ:feST4K8J0scC', 'GVYNtNsAAAAJ:_IsBomjs8bsC', 'GVYNtNsAAAAJ:2Q0AJrNhS-QC', 'GVYNtNsAAAAJ:nOiSByfp82kC', 'GVYNtNsAAAAJ:1xBWf43XMUgC', 'GVYNtNsAAAAJ:GtqhT-R7ZnwC', 'GVYNtNsAAAAJ:j3f4tGmQtD8C', 'GVYNtNsAAAAJ:isC4tDSrTZIC', 'GVYNtNsAAAAJ:hMod-77fHWUC', 'GVYNtNsAAAAJ:mB3voiENLucC', 'GVYNtNsAAAAJ:nU66GSXDKhoC', 'GVYNtNsAAAAJ:Zph67rFs4hoC', 'GVYNtNsAAAAJ:5VjbC5aozO0C', 'GVYNtNsAAAAJ:E8ajGqO0XoUC', 'GVYNtNsAAAAJ:HKviVsUxM5wC', 'GVYNtNsAAAAJ:lSLTfruPkqcC', 'GVYNtNsAAAAJ:_Qo2XoVZTnwC', 'GVYNtNsAAAAJ:HDshCWvjkbEC', 'GVYNtNsAAAAJ:cFHS6HbyZ2cC', 'GVYNtNsAAAAJ:R3hNpaxXUhUC', 'GVYNtNsAAAAJ:DGzKIA18-3YC', 'GVYNtNsAAAAJ:rpSJNIKeXWsC', 'GVYNtNsAAAAJ:XeErXHja3Z8C', 'GVYNtNsAAAAJ:ehoypfNsBj8C', 'GVYNtNsAAAAJ:KqnX2w3egDsC', 'GVYNtNsAAAAJ:vV6vV6tmYwMC', 'GVYNtNsAAAAJ:dFKc6_kCK1wC', 'GVYNtNsAAAAJ:5rMqqAh47xYC', 'GVYNtNsAAAAJ:J4E9jCG1tHUC', 'GVYNtNsAAAAJ:VjBpw8Hezy4C', 'GVYNtNsAAAAJ:Cvh0bltMcLgC', 'GVYNtNsAAAAJ:blknAaTinKkC', 'GVYNtNsAAAAJ:k_IJM867U9cC', 'GVYNtNsAAAAJ:70eg2SAEIzsC', 'GVYNtNsAAAAJ:4JMBOYKVnBMC', 'GVYNtNsAAAAJ:bEWYMUwI8FkC', 'GVYNtNsAAAAJ:f2IySw72cVMC', 'GVYNtNsAAAAJ:e5wmG9Sq2KIC', 'GVYNtNsAAAAJ:iH-uZ7U-co4C', 'GVYNtNsAAAAJ:za7pDTvVV8kC', 'GVYNtNsAAAAJ:rzmi0EmCOGEC', 'GVYNtNsAAAAJ:x2hKVfJWtf0C', 'GVYNtNsAAAAJ:MNNNGtAgD4EC', 'GVYNtNsAAAAJ:8gBurD7jEYQC', 'GVYNtNsAAAAJ:bFI3QPDXJZMC', 'GVYNtNsAAAAJ:vjZqxyZ7hS4C', 'GVYNtNsAAAAJ:e3CVSTJ63dQC', 'GVYNtNsAAAAJ:g5m5HwL7SMYC', 'GVYNtNsAAAAJ:35N4QoGY0k4C', 'GVYNtNsAAAAJ:NaGl4SEjCO4C', 'GVYNtNsAAAAJ:RGFaLdJalmkC', 'GVYNtNsAAAAJ:4OULZ7Gr8RgC', 'GVYNtNsAAAAJ:ldfaerwXgEUC', 'GVYNtNsAAAAJ:RYcK_YlVTxYC', 'GVYNtNsAAAAJ:BqipwSGYUEgC', 'GVYNtNsAAAAJ:NMxIlDl6LWMC', 'GVYNtNsAAAAJ:maZDTaKrznsC', 'GVYNtNsAAAAJ:D03iK_w7-QYC', 'GVYNtNsAAAAJ:pqnbT2bcN3wC', 'GVYNtNsAAAAJ:fPk4N6BV_jEC', 'GVYNtNsAAAAJ:2P1L_qKh6hAC', 'GVYNtNsAAAAJ:zA6iFVUQeVQC', 'GVYNtNsAAAAJ:ns9cj8rnVeAC', 'GVYNtNsAAAAJ:M05iB0D1s5AC', 'GVYNtNsAAAAJ:J_g5lzvAfSwC', 'GVYNtNsAAAAJ:HoB7MX3m0LUC', 'GVYNtNsAAAAJ:ZHo1McVdvXMC', 'GVYNtNsAAAAJ:pyW8ca7W8N0C', 'GVYNtNsAAAAJ:u_35RYKgDlwC', 'GVYNtNsAAAAJ:YFjsv_pBGBYC', 'GVYNtNsAAAAJ:u_mOZUIutIEC', 'GVYNtNsAAAAJ:a0OBvERweLwC', 'GVYNtNsAAAAJ:GnPB-g6toBAC', 'GVYNtNsAAAAJ:yD5IFk8b50cC', 'GVYNtNsAAAAJ:O3NaXMp0MMsC', 'GVYNtNsAAAAJ:M3NEmzRMIkIC']), ('Yang Yang (楊陽）', ['ceCfTvcAAAAJ:u5HHmVD_uO8C', 'ceCfTvcAAAAJ:Fu2w8maKXqMC', 'ceCfTvcAAAAJ:u-x6o8ySG0sC', 'ceCfTvcAAAAJ:2osOgNQ5qMEC', 'ceCfTvcAAAAJ:IjCSPb-OGe4C', 'ceCfTvcAAAAJ:9yKSN-GCB0IC', 'ceCfTvcAAAAJ:d1gkVwhDpl0C', 'ceCfTvcAAAAJ:RYcK_YlVTxYC', 'ceCfTvcAAAAJ:Y0pCki6q_DkC', 'ceCfTvcAAAAJ:qjMakFHDy7sC', 'ceCfTvcAAAAJ:zYLM7Y9cAGgC', 'ceCfTvcAAAAJ:Tyk-4Ss8FVUC', 'ceCfTvcAAAAJ:_FxGoFyzp5QC', 'ceCfTvcAAAAJ:WF5omc3nYNoC', 'ceCfTvcAAAAJ:W7OEmFMy1HYC', 'ceCfTvcAAAAJ:UeHWp8X0CEIC', 'ceCfTvcAAAAJ:XiSMed-E-HIC', 'ceCfTvcAAAAJ:8k81kl-MbHgC', 'ceCfTvcAAAAJ:eQOLeE2rZwMC', 'ceCfTvcAAAAJ:Se3iqnhoufwC', 'ceCfTvcAAAAJ:ufrVoPGSRksC', 'ceCfTvcAAAAJ:YsMSGLbcyi4C', 'ceCfTvcAAAAJ:0EnyYjriUFMC', 'ceCfTvcAAAAJ:a0OBvERweLwC', 'ceCfTvcAAAAJ:roLk4NBRz8UC', 'ceCfTvcAAAAJ:3fE2CSJIrl8C', 'ceCfTvcAAAAJ:Aul-kAQHnToC', 'ceCfTvcAAAAJ:kNdYIx-mwKoC', 'ceCfTvcAAAAJ:ULOm3_A8WrAC', 'ceCfTvcAAAAJ:aqlVkmm33-oC', 'ceCfTvcAAAAJ:9ZlFYXVOiuMC', 'ceCfTvcAAAAJ:LkGwnXOMwfcC', 'ceCfTvcAAAAJ:UebtZRa9Y70C', 'ceCfTvcAAAAJ:JTqpx9DYBaYC', 'ceCfTvcAAAAJ:MXK_kJrjxJIC', 'ceCfTvcAAAAJ:hqOjcs7Dif8C', 'ceCfTvcAAAAJ:dTyEYWd-f8wC', 'ceCfTvcAAAAJ:KlAtU1dfN6UC', 'ceCfTvcAAAAJ:5nxA0vEk-isC', 'ceCfTvcAAAAJ:4TOpqqG69KYC', 'ceCfTvcAAAAJ:IWHjjKOFINEC', 'ceCfTvcAAAAJ:2l5NCbZemmgC', 'ceCfTvcAAAAJ:M3ejUd6NZC8C', 'ceCfTvcAAAAJ:mUJArPsKIAAC', 'ceCfTvcAAAAJ:_Qo2XoVZTnwC', 'ceCfTvcAAAAJ:YOwf2qJgpHMC', 'ceCfTvcAAAAJ:qxL8FJ1GzNcC', 'ceCfTvcAAAAJ:L8Ckcad2t8MC', 'ceCfTvcAAAAJ:_kc_bZDykSQC', 'ceCfTvcAAAAJ:RGFaLdJalmkC', 'ceCfTvcAAAAJ:Wp0gIr-vW9MC', 'ceCfTvcAAAAJ:4JMBOYKVnBMC', 'ceCfTvcAAAAJ:QIV2ME_5wuYC', 'ceCfTvcAAAAJ:7PzlFSSx8tAC', 'ceCfTvcAAAAJ:mVmsd5A6BfQC', 'ceCfTvcAAAAJ:-f6ydRqryjwC', 'ceCfTvcAAAAJ:dhFuZR0502QC', 'ceCfTvcAAAAJ:qUcmZB5y_30C', 'ceCfTvcAAAAJ:hC7cP41nSMkC', 'ceCfTvcAAAAJ:kWvqk_afx_IC', 'ceCfTvcAAAAJ:HDshCWvjkbEC', 'ceCfTvcAAAAJ:mB3voiENLucC', 'ceCfTvcAAAAJ:TlpoogIpr_IC', 'ceCfTvcAAAAJ:RHpTSmoSYBkC', 'ceCfTvcAAAAJ:M05iB0D1s5AC', 'ceCfTvcAAAAJ:e5wmG9Sq2KIC', 'ceCfTvcAAAAJ:ZeXyd9-uunAC', 'ceCfTvcAAAAJ:uWQEDVKXjbEC', 'ceCfTvcAAAAJ:r0BpntZqJG4C', 'ceCfTvcAAAAJ:M3NEmzRMIkIC', 'ceCfTvcAAAAJ:hFOr9nPyWt4C', 'ceCfTvcAAAAJ:isC4tDSrTZIC', 'ceCfTvcAAAAJ:f2IySw72cVMC', 'ceCfTvcAAAAJ:Tiz5es2fbqcC', 'ceCfTvcAAAAJ:j3f4tGmQtD8C', 'ceCfTvcAAAAJ:4OULZ7Gr8RgC', 'ceCfTvcAAAAJ:TQgYirikUcIC', 'ceCfTvcAAAAJ:p2g8aNsByqUC', 'ceCfTvcAAAAJ:k_IJM867U9cC', 'ceCfTvcAAAAJ:cFHS6HbyZ2cC', 'ceCfTvcAAAAJ:TFP_iSt0sucC', 'ceCfTvcAAAAJ:R3hNpaxXUhUC', 'ceCfTvcAAAAJ:iH-uZ7U-co4C', 'ceCfTvcAAAAJ:XiVPGOgt02cC', 'ceCfTvcAAAAJ:bEWYMUwI8FkC', 'ceCfTvcAAAAJ:YFjsv_pBGBYC', 'ceCfTvcAAAAJ:BqipwSGYUEgC', 'ceCfTvcAAAAJ:DyXnQzXoVgIC', 'ceCfTvcAAAAJ:maZDTaKrznsC', 'ceCfTvcAAAAJ:_axFR9aDTf0C', 'ceCfTvcAAAAJ:HoB7MX3m0LUC', 'ceCfTvcAAAAJ:4fKUyHm3Qg0C', 'ceCfTvcAAAAJ:K3LRdlH-MEoC', 'ceCfTvcAAAAJ:rO6llkc54NcC', 'ceCfTvcAAAAJ:ns9cj8rnVeAC', 'ceCfTvcAAAAJ:pyW8ca7W8N0C', 'ceCfTvcAAAAJ:mWEH9CqjF64C', 'ceCfTvcAAAAJ:0N-VGjzr574C', 'ceCfTvcAAAAJ:70eg2SAEIzsC', 'ceCfTvcAAAAJ:NMxIlDl6LWMC', 'ceCfTvcAAAAJ:u9iWguZQMMsC', 'ceCfTvcAAAAJ:hMod-77fHWUC', 'ceCfTvcAAAAJ:vV6vV6tmYwMC', 'ceCfTvcAAAAJ:D03iK_w7-QYC', 'ceCfTvcAAAAJ:WA5NYHcadZ8C', 'ceCfTvcAAAAJ:blknAaTinKkC', 'ceCfTvcAAAAJ:u_35RYKgDlwC', 'ceCfTvcAAAAJ:O3NaXMp0MMsC', 'ceCfTvcAAAAJ:oPLKW5k6eA4C', 'ceCfTvcAAAAJ:SIv7DqKytYAC', 'ceCfTvcAAAAJ:NaGl4SEjCO4C', 'ceCfTvcAAAAJ:JV2RwH3_ST0C', 'ceCfTvcAAAAJ:b0M2c_1WBrUC', 'ceCfTvcAAAAJ:fPk4N6BV_jEC', 'ceCfTvcAAAAJ:69ZgNCALVd0C', 'ceCfTvcAAAAJ:ldfaerwXgEUC', 'ceCfTvcAAAAJ:738O_yMBCRsC', 'ceCfTvcAAAAJ:bFI3QPDXJZMC', 'ceCfTvcAAAAJ:2P1L_qKh6hAC', 'ceCfTvcAAAAJ:tOudhMTPpwUC', 'ceCfTvcAAAAJ:CHSYGLWDkRkC', 'ceCfTvcAAAAJ:5ugPr518TE4C', 'ceCfTvcAAAAJ:3s1wT3WcHBgC', 'ceCfTvcAAAAJ:qe6vwMD2xtsC', 'ceCfTvcAAAAJ:dfsIfKJdRG4C', 'ceCfTvcAAAAJ:35N4QoGY0k4C', 'ceCfTvcAAAAJ:nb7KW1ujOQ8C', 'ceCfTvcAAAAJ:abG-DnoFyZgC', 'ceCfTvcAAAAJ:SeFeTyx0c_EC', 'ceCfTvcAAAAJ:pqnbT2bcN3wC', 'ceCfTvcAAAAJ:HE397vMXCloC', 'ceCfTvcAAAAJ:NJ774b8OgUMC', 'ceCfTvcAAAAJ:35r97b3x0nAC', 'ceCfTvcAAAAJ:_xSYboBqXhAC', 'ceCfTvcAAAAJ:EUQCXRtRnyEC', 'ceCfTvcAAAAJ:CYCckWUYoCcC', 'ceCfTvcAAAAJ:EPG8bYD4jVwC', 'ceCfTvcAAAAJ:ZHo1McVdvXMC', 'ceCfTvcAAAAJ:sA9dB-pw3HoC', 'ceCfTvcAAAAJ:g5m5HwL7SMYC', 'ceCfTvcAAAAJ:zdX0sdgBH_kC', 'ceCfTvcAAAAJ:xtRiw3GOFMkC', 'ceCfTvcAAAAJ:zA6iFVUQeVQC', 'ceCfTvcAAAAJ:D_sINldO8mEC', 'ceCfTvcAAAAJ:OU6Ihb5iCvQC', 'ceCfTvcAAAAJ:wE-fMHVdjMkC', 'ceCfTvcAAAAJ:65Yg0jNCQDAC', 'ceCfTvcAAAAJ:silx2ntsSuwC', 'ceCfTvcAAAAJ:P5F9QuxV20EC', 'ceCfTvcAAAAJ:tS2w5q8j5-wC', 'ceCfTvcAAAAJ:hsZV8lGYWTMC', 'ceCfTvcAAAAJ:eFf2swCANGcC', 'ceCfTvcAAAAJ:dshw04ExmUIC', 'ceCfTvcAAAAJ:yD5IFk8b50cC', 'ceCfTvcAAAAJ:geHnlv5EZngC', 'ceCfTvcAAAAJ:BrmTIyaxlBUC', 'ceCfTvcAAAAJ:F2UWTTQJPOcC', 'ceCfTvcAAAAJ:EYYDruWGBe4C', 'ceCfTvcAAAAJ:vRqMK49ujn8C', 'ceCfTvcAAAAJ:a3BOlSfXSfwC', 'ceCfTvcAAAAJ:t-hv7AR41mYC', 'ceCfTvcAAAAJ:WbkHhVStYXYC', 'ceCfTvcAAAAJ:PELIpwtuRlgC', 'ceCfTvcAAAAJ:eflP2zaiRacC', 'ceCfTvcAAAAJ:mvPsJ3kp5DgC', 'ceCfTvcAAAAJ:OR75R8vi5nAC', 'ceCfTvcAAAAJ:_5tno0g5mFcC', 'ceCfTvcAAAAJ:LPZeul_q3PIC', 'ceCfTvcAAAAJ:5Ul4iDaHHb8C', 'ceCfTvcAAAAJ:8AbLer7MMksC', 'ceCfTvcAAAAJ:kz9GbA2Ns4gC', 'ceCfTvcAAAAJ:VLnqNzywnoUC', 'ceCfTvcAAAAJ:SP6oXDckpogC', 'ceCfTvcAAAAJ:kO05sadLmrgC', 'ceCfTvcAAAAJ:V3AGJWp-ZtQC', 'ceCfTvcAAAAJ:B3FOqHPlNUQC', 'ceCfTvcAAAAJ:q3oQSFYPqjQC', 'ceCfTvcAAAAJ:7T2F9Uy0os0C', 'ceCfTvcAAAAJ:Xl6nMSl579sC', 'ceCfTvcAAAAJ:NXYAu82O0W8C', 'ceCfTvcAAAAJ:AvfA0Oy_GE0C', 'ceCfTvcAAAAJ:bz8QjSJIRt4C', 'ceCfTvcAAAAJ:9pM33mqn1YgC', 'ceCfTvcAAAAJ:1yWc8FF-_SYC', 'ceCfTvcAAAAJ:sSrBHYA8nusC', 'ceCfTvcAAAAJ:eMMeJKvmdy0C', 'ceCfTvcAAAAJ:UHK10RUVsp4C', 'ceCfTvcAAAAJ:t6usbXjVLHcC', 'ceCfTvcAAAAJ:IsPWOBWtZBwC', 'ceCfTvcAAAAJ:Y5dfb0dijaUC', 'ceCfTvcAAAAJ:tkaPQYYpVKoC', 'ceCfTvcAAAAJ:ziOE8S1-AIUC', 'ceCfTvcAAAAJ:KUbvn5osdkgC', 'ceCfTvcAAAAJ:AXPGKjj_ei8C', 'ceCfTvcAAAAJ:kRWSkSYxWN8C', 'ceCfTvcAAAAJ:wbdj-CoPYUoC', 'ceCfTvcAAAAJ:GtLg2Ama23sC', 'ceCfTvcAAAAJ:uLbwQdceFCQC', 'ceCfTvcAAAAJ:kF1pexMAQbMC', 'ceCfTvcAAAAJ:N5tVd3kTz84C', 'ceCfTvcAAAAJ:SpbeaW3--B0C', 'ceCfTvcAAAAJ:-_dYPAW6P2MC', 'ceCfTvcAAAAJ:hkOj_22Ku90C', 'ceCfTvcAAAAJ:eq2jaN3J8jMC', 'ceCfTvcAAAAJ:3BvdIg-l-ZAC', 'ceCfTvcAAAAJ:SdhP9T11ey4C', 'ceCfTvcAAAAJ:gVv57TyPmFsC', 'ceCfTvcAAAAJ:1yQoGdGgb4wC', 'ceCfTvcAAAAJ:0KyAp5RtaNEC', 'ceCfTvcAAAAJ:5awf1xo2G04C', 'ceCfTvcAAAAJ:IRz6iEL74y4C', 'ceCfTvcAAAAJ:PR6Y55bgFSsC', 'ceCfTvcAAAAJ:uWiczbcajpAC', 'ceCfTvcAAAAJ:W5xh706n7nkC', 'ceCfTvcAAAAJ:2KloaMYe4IUC', 'ceCfTvcAAAAJ:uc_IGeMz5qoC', 'ceCfTvcAAAAJ:JoZmwDi-zQgC', 'ceCfTvcAAAAJ:VL0QpB8kHFEC', 'ceCfTvcAAAAJ:EkHepimYqZsC', 'ceCfTvcAAAAJ:a2necdfpwlEC', 'ceCfTvcAAAAJ:LjlpjdlvIbIC', 'ceCfTvcAAAAJ:nZcligLrVowC', 'ceCfTvcAAAAJ:ZfRJV9d4-WMC', 'ceCfTvcAAAAJ:LXmCCkuhhTsC', 'ceCfTvcAAAAJ:dQ2og3OwTAUC', 'ceCfTvcAAAAJ:sNmaIFBj_lkC', 'ceCfTvcAAAAJ:vbGhcppDl1QC', 'ceCfTvcAAAAJ:tzM49s52ZIMC', 'ceCfTvcAAAAJ:LK8CI43ZvvMC', 'ceCfTvcAAAAJ:SnGPuo6Feq8C', 'ceCfTvcAAAAJ:SGW5VrABaM0C', 'ceCfTvcAAAAJ:fEOibwPWpKIC', 'ceCfTvcAAAAJ:oi2SiIJ9l4AC', 'ceCfTvcAAAAJ:t7zJ5fGR-2UC', 'ceCfTvcAAAAJ:-95Q15plzcUC', 'ceCfTvcAAAAJ:xtoqd-5pKcoC', 'ceCfTvcAAAAJ:XD-gHx7UXLsC', 'ceCfTvcAAAAJ:BrOSOlqYqPUC', 'ceCfTvcAAAAJ:kJDgFkosVoMC', 'ceCfTvcAAAAJ:S16KYo8Pm5AC', 'ceCfTvcAAAAJ:isU91gLudPYC', 'ceCfTvcAAAAJ:8d8msizDQcsC', 'ceCfTvcAAAAJ:umqufdRvDiIC', 'ceCfTvcAAAAJ:FPJr55Dyh1AC', 'ceCfTvcAAAAJ:QUX0mv85b1cC', 'ceCfTvcAAAAJ:FiDNX6EVdGUC', 'ceCfTvcAAAAJ:UuEBAcK4md4C', 'ceCfTvcAAAAJ:rmuvC79q63oC', 'ceCfTvcAAAAJ:L7CI7m0gUJcC', 'ceCfTvcAAAAJ:ruyezt5ZtCIC', 'ceCfTvcAAAAJ:BwyfMAYsbu0C', 'ceCfTvcAAAAJ:DkZNVXde3BIC', 'ceCfTvcAAAAJ:kh2fBNsKQNwC', 'ceCfTvcAAAAJ:SWgZeABleR0C', 'ceCfTvcAAAAJ:lmc2jWPfTJgC', 'ceCfTvcAAAAJ:Dip1O2bNi0gC', 'ceCfTvcAAAAJ:foquWX3nUaYC', 'ceCfTvcAAAAJ:q3CdL3IzO_QC', 'ceCfTvcAAAAJ:-nhnvRiOwuoC', 'ceCfTvcAAAAJ:0aBXIfxlw9sC', 'ceCfTvcAAAAJ:Xz60mAmATU4C', 'ceCfTvcAAAAJ:hCrLmN-GePgC', 'ceCfTvcAAAAJ:LI9QrySNdTsC', 'ceCfTvcAAAAJ:Hck25ST_3aIC', 'ceCfTvcAAAAJ:MLfJN-KU85MC', 'ceCfTvcAAAAJ:HJSXoJQnj-YC', 'ceCfTvcAAAAJ:LhH-TYMQEocC', 'ceCfTvcAAAAJ:YlPif8NxrbYC', 'ceCfTvcAAAAJ:gsN89kCJA0AC', 'ceCfTvcAAAAJ:oYLFIHfuHKwC', 'ceCfTvcAAAAJ:kzcSZmkxUKAC', 'ceCfTvcAAAAJ:k_7cPK9k7w8C', 'ceCfTvcAAAAJ:PVjk1bu6vJQC', 'ceCfTvcAAAAJ:hMsQuOkrut0C', 'ceCfTvcAAAAJ:37UQlXuwjP4C', 'ceCfTvcAAAAJ:BOlwja0KXvYC', 'ceCfTvcAAAAJ:PkcyUWeTMh0C', 'ceCfTvcAAAAJ:QsaTk4IG4EwC', 'ceCfTvcAAAAJ:eAlLMO4JVmQC', 'ceCfTvcAAAAJ:XtJa11BXPS4C', 'ceCfTvcAAAAJ:O0nohqN1r9EC', 'ceCfTvcAAAAJ:r_AWSJRzSzQC', 'ceCfTvcAAAAJ:eO3_k5sD8BwC', 'ceCfTvcAAAAJ:-6RzNnnwWf8C', 'ceCfTvcAAAAJ:w1MjKQ0l0TYC', 'ceCfTvcAAAAJ:5bg8sr1QxYwC', 'ceCfTvcAAAAJ:fbc8zXXH2BUC', 'ceCfTvcAAAAJ:s85pQhAUCrAC', 'ceCfTvcAAAAJ:fFSKOagxvKUC', 'ceCfTvcAAAAJ:PoWvk5oyLR8C', 'ceCfTvcAAAAJ:edDO8Oi4QzsC', 'ceCfTvcAAAAJ:WJVC3Jt7v1AC', 'ceCfTvcAAAAJ:q0uBw5dMOAkC', 'ceCfTvcAAAAJ:3_LpOwP6eMYC', 'ceCfTvcAAAAJ:_OXeSy2IsFwC', 'ceCfTvcAAAAJ:RJOyoaXV5v8C', 'ceCfTvcAAAAJ:Vztgr1qGG8IC', 'ceCfTvcAAAAJ:m92CDrhVnKEC', 'ceCfTvcAAAAJ:9c2xU6iGI7YC', 'ceCfTvcAAAAJ:WzTVkKNmPSkC', 'ceCfTvcAAAAJ:2VqYfGB8ITEC', 'ceCfTvcAAAAJ:hQUaER0FWQ4C', 'ceCfTvcAAAAJ:rTD5ala9j4wC', 'ceCfTvcAAAAJ:aIdbFUkbNIkC', 'ceCfTvcAAAAJ:HtS1dXgVpQUC', 'ceCfTvcAAAAJ:ODE9OILHJdcC', 'ceCfTvcAAAAJ:dBIO0h50nwkC', 'ceCfTvcAAAAJ:mel-f30kHHgC', 'ceCfTvcAAAAJ:0izLItjtcgwC', 'ceCfTvcAAAAJ:rbGdIwl2e6cC', 'ceCfTvcAAAAJ:hSRAE-fF4OAC', 'ceCfTvcAAAAJ:RtRctb2lSbAC', 'ceCfTvcAAAAJ:nPT8s1NX_-sC', 'ceCfTvcAAAAJ:Kqc1aDSOPooC', 'ceCfTvcAAAAJ:mNrWkgRL2YcC', 'ceCfTvcAAAAJ:yqoGN6RLRZoC', 'ceCfTvcAAAAJ:YTuZlYwrTOUC', 'ceCfTvcAAAAJ:z6xuaG2dYH0C', 'ceCfTvcAAAAJ:wUn16MOA3RoC', 'ceCfTvcAAAAJ:P7Ujq4OLJYoC', 'ceCfTvcAAAAJ:wvYxNZNCP7wC', 'ceCfTvcAAAAJ:ji7lAbPyDbYC', 'ceCfTvcAAAAJ:YB4bud6kWLwC', 'ceCfTvcAAAAJ:RfUwGJFMQ-0C', 'ceCfTvcAAAAJ:RJNGbXJAtMsC', 'ceCfTvcAAAAJ:RuPIJ_LgqDgC', 'ceCfTvcAAAAJ:Og1tA8FjbJAC', 'ceCfTvcAAAAJ:uVUOdF_882EC', 'ceCfTvcAAAAJ:WwIwg2wKZ0QC', 'ceCfTvcAAAAJ:uAPFzskPt0AC', 'ceCfTvcAAAAJ:eH23hyXCXa4C', 'ceCfTvcAAAAJ:4n0clTBhZ78C', 'ceCfTvcAAAAJ:as0KMg8qHbkC', 'ceCfTvcAAAAJ:idthP5jqfYAC', 'ceCfTvcAAAAJ:eI34FqJmdUoC', 'ceCfTvcAAAAJ:rCNdntzdTkkC', 'ceCfTvcAAAAJ:g8uWPOAv7ggC', 'ceCfTvcAAAAJ:3NQIlFlcGxIC', 'ceCfTvcAAAAJ:zUl2_INMlC4C', 'ceCfTvcAAAAJ:rbm3iO8VlycC', 'ceCfTvcAAAAJ:qmtmRrLr0tkC', 'ceCfTvcAAAAJ:m4fbC6XIj1kC', 'ceCfTvcAAAAJ:g_UdREhPGEoC', 'ceCfTvcAAAAJ:R-LXmdHK_14C', 'ceCfTvcAAAAJ:AZju0d2GQJ0C', 'ceCfTvcAAAAJ:v_tt_AnqfNMC', 'ceCfTvcAAAAJ:nVrZBo8bIpAC', 'ceCfTvcAAAAJ:NtCmTCuxid4C', 'ceCfTvcAAAAJ:yCjxvIMm6_oC', 'ceCfTvcAAAAJ:N4u4nq0IxgcC', 'ceCfTvcAAAAJ:lYAcb2jw7qUC', 'ceCfTvcAAAAJ:iyewoVqAXLQC', 'ceCfTvcAAAAJ:LPtt_HFRSbwC', 'ceCfTvcAAAAJ:9LpHyFPp1DQC', 'ceCfTvcAAAAJ:sJPMR1oEGYQC', 'ceCfTvcAAAAJ:wLxue7F8ec0C', 'ceCfTvcAAAAJ:SjuI4pbJlxcC', 'ceCfTvcAAAAJ:OP4eGU-M3BUC', 'ceCfTvcAAAAJ:DrR-2ekChdkC', 'ceCfTvcAAAAJ:MIg0yeAD4ggC', 'ceCfTvcAAAAJ:rHJHxKgnXwkC', 'ceCfTvcAAAAJ:A8cqit5AE6sC', 'ceCfTvcAAAAJ:__bU50VfleQC', 'ceCfTvcAAAAJ:NnTm98qLMbgC', 'ceCfTvcAAAAJ:DquSII9TDu4C', 'ceCfTvcAAAAJ:SxCCDk4iOpsC', 'ceCfTvcAAAAJ:KNjnJ3z-R6IC', 'ceCfTvcAAAAJ:c_xDhezhKKUC', 'ceCfTvcAAAAJ:c1e4I3QdEKYC', 'ceCfTvcAAAAJ:dAp6zn-oMfAC', 'ceCfTvcAAAAJ:n3vGvpFsckwC', 'ceCfTvcAAAAJ:WC23djZS0W4C', 'ceCfTvcAAAAJ:Nufq_to8ts0C', 'ceCfTvcAAAAJ:rzmi0EmCOGEC', 'ceCfTvcAAAAJ:FsLZdJ3BAzkC', 'ceCfTvcAAAAJ:yY3RG6sOEgwC', 'ceCfTvcAAAAJ:BJtnxTr0fRcC', 'ceCfTvcAAAAJ:H7nrzBkawXsC', 'ceCfTvcAAAAJ:cB__R-XWw9UC', 'ceCfTvcAAAAJ:L24QuVWYgZ0C', 'ceCfTvcAAAAJ:Ade32sEp0pkC', 'ceCfTvcAAAAJ:TiIbgCYny7sC', 'ceCfTvcAAAAJ:xm0LlTxljI0C', 'ceCfTvcAAAAJ:cNe27ouKFcQC', 'ceCfTvcAAAAJ:pAkWuXOU-OoC', 'ceCfTvcAAAAJ:yIeBiWEAh44C', 'ceCfTvcAAAAJ:naSTrk-c4S8C', 'ceCfTvcAAAAJ:Y9VhQm-5nPIC', 'ceCfTvcAAAAJ:e84hm74t-eoC', 'ceCfTvcAAAAJ:XeErXHja3Z8C', 'ceCfTvcAAAAJ:hGdtkIFZdKAC', 'ceCfTvcAAAAJ:unp9ATQDT5gC', 'ceCfTvcAAAAJ:V_vSwabWVtYC', 'ceCfTvcAAAAJ:NtGNdKbuCngC', 'ceCfTvcAAAAJ:-yGd096yOn8C', 'ceCfTvcAAAAJ:wSy_KLzO7YEC', 'ceCfTvcAAAAJ:XDrR66g3YHsC', 'ceCfTvcAAAAJ:mKu_rENv82IC', 'ceCfTvcAAAAJ:txeM2kYbVNMC', 'ceCfTvcAAAAJ:feST4K8J0scC', 'ceCfTvcAAAAJ:6ZzL7HXColQC', 'ceCfTvcAAAAJ:EsEWqaRxkBgC', 'ceCfTvcAAAAJ:In6cVmBjs0IC', 'ceCfTvcAAAAJ:IyxfXMz2bNAC', 'ceCfTvcAAAAJ:VN7nJs4JPk0C', 'ceCfTvcAAAAJ:c59VksA5Vz4C', 'ceCfTvcAAAAJ:ymY9cBF3mdcC', 'ceCfTvcAAAAJ:pxXbYLTb8EgC', 'ceCfTvcAAAAJ:c1AJUTjuCtUC', 'ceCfTvcAAAAJ:j7XjBeKFbTsC', 'ceCfTvcAAAAJ:BJrgspguQaEC', 'ceCfTvcAAAAJ:ndLnGcHYRF0C', 'ceCfTvcAAAAJ:AzKEL7Gb_04C', 'ceCfTvcAAAAJ:NMlhSUseqAsC', 'ceCfTvcAAAAJ:jFemdcug13IC', 'ceCfTvcAAAAJ:x2hKVfJWtf0C', 'ceCfTvcAAAAJ:bCjgOgSFrM0C', 'ceCfTvcAAAAJ:CMvovTBb2okC', 'ceCfTvcAAAAJ:BmWJbWwHJAwC', 'ceCfTvcAAAAJ:s9ia6_kGH2AC', 'ceCfTvcAAAAJ:LGlY6t8CeOMC', 'ceCfTvcAAAAJ:zwpXiJ37cpgC', 'ceCfTvcAAAAJ:NxmKEeNBbOMC', 'ceCfTvcAAAAJ:7Frjd3zlGBUC', 'ceCfTvcAAAAJ:sfnaS5RM6jYC', 'ceCfTvcAAAAJ:CNPyR2KL9-0C', 'ceCfTvcAAAAJ:W2uZP3ddy8sC', 'ceCfTvcAAAAJ:nqdriD65xNoC', 'ceCfTvcAAAAJ:rFyVMFCKTwsC', 'ceCfTvcAAAAJ:hHIA4WEVY-EC', 'ceCfTvcAAAAJ:vofGIMt6cyEC', 'ceCfTvcAAAAJ:oqD4_j7ulsYC', 'ceCfTvcAAAAJ:oTdOBqtIf_kC', 'ceCfTvcAAAAJ:bXQfdp6S9ecC', 'ceCfTvcAAAAJ:X4-KO54GjGYC', 'ceCfTvcAAAAJ:PyEswDtIyv0C', 'ceCfTvcAAAAJ:nPTYJWkExTIC', 'ceCfTvcAAAAJ:ukw-9cB-YDkC', 'ceCfTvcAAAAJ:1paMEeroeoQC', 'ceCfTvcAAAAJ:w7CBUyPWg-0C', 'ceCfTvcAAAAJ:s1ouQE5r0WUC', 'ceCfTvcAAAAJ:o9ULDYDKYbIC', 'ceCfTvcAAAAJ:oursBaop5wYC', 'ceCfTvcAAAAJ:lK9BDNCuzFgC', 'ceCfTvcAAAAJ:6_hjMsCP8ZoC', 'ceCfTvcAAAAJ:qCpRzq7zkD8C', 'ceCfTvcAAAAJ:i_7YvbSbtFEC', 'ceCfTvcAAAAJ:0ngZmJvimKcC', 'ceCfTvcAAAAJ:1r-w4gtu6w8C', 'ceCfTvcAAAAJ:EBV337fEn3EC', 'ceCfTvcAAAAJ:MDX3w3dAD3YC', 'ceCfTvcAAAAJ:WAzi4Gm8nLoC', 'ceCfTvcAAAAJ:AYInfyleIOsC', 'ceCfTvcAAAAJ:ijdKiLOsEJMC', 'ceCfTvcAAAAJ:KaMxkj08jr0C', 'ceCfTvcAAAAJ:Zh0EY9V9P6UC', 'ceCfTvcAAAAJ:-uzm3Y7AvW0C', 'ceCfTvcAAAAJ:ojlX30-wUrgC', 'ceCfTvcAAAAJ:jlhcAiayVhoC', 'ceCfTvcAAAAJ:4Yq6kJLCcecC', 'ceCfTvcAAAAJ:6VlyvFCUEfcC', 'ceCfTvcAAAAJ:QoJ_w57xiyAC', 'ceCfTvcAAAAJ:7H_jS4BsgvYC', 'ceCfTvcAAAAJ:JWITY9-sCbMC', 'ceCfTvcAAAAJ:X0DADzN9RKwC', 'ceCfTvcAAAAJ:M0leSnx2MbUC', 'ceCfTvcAAAAJ:8dzOF9BpDQoC', 'ceCfTvcAAAAJ:S2WlVNSe3u4C', 'ceCfTvcAAAAJ:K4-iKlO5MD4C', 'ceCfTvcAAAAJ:-jrNzM816MMC', 'ceCfTvcAAAAJ:wBLCggQE-ToC', 'ceCfTvcAAAAJ:3MwzVuqRcA0C', 'ceCfTvcAAAAJ:SpPTWFSNUtQC', 'ceCfTvcAAAAJ:Ic1VZgkJnDsC', 'ceCfTvcAAAAJ:pUxgyZctzPYC', 'ceCfTvcAAAAJ:_AeoHAGD03cC', 'ceCfTvcAAAAJ:pYKElYtJMmwC', 'ceCfTvcAAAAJ:4e5Qn2KL_jwC', 'ceCfTvcAAAAJ:jmjb1lOE9QIC', 'ceCfTvcAAAAJ:zdjWy_NXXwUC', 'ceCfTvcAAAAJ:qwy9JoKyICEC', 'ceCfTvcAAAAJ:ce2CqMG-AY4C', 'ceCfTvcAAAAJ:vxA22ZmNLkoC', 'ceCfTvcAAAAJ:2vr6o8x5NLkC', 'ceCfTvcAAAAJ:2ywjKiB__4kC', 'ceCfTvcAAAAJ:g5Ck-dwhA_QC']), ('Yifang Zhu', ['kvSIKM8AAAAJ:vRqMK49ujn8C', 'kvSIKM8AAAAJ:tS2w5q8j5-wC', 'kvSIKM8AAAAJ:4fKUyHm3Qg0C', 'kvSIKM8AAAAJ:B3FOqHPlNUQC', 'kvSIKM8AAAAJ:UeHWp8X0CEIC', 'kvSIKM8AAAAJ:Y0pCki6q_DkC', 'kvSIKM8AAAAJ:zYLM7Y9cAGgC', 'kvSIKM8AAAAJ:Tyk-4Ss8FVUC', 'kvSIKM8AAAAJ:YsMSGLbcyi4C', 'kvSIKM8AAAAJ:W7OEmFMy1HYC', 'kvSIKM8AAAAJ:eQOLeE2rZwMC', 'kvSIKM8AAAAJ:UebtZRa9Y70C', 'kvSIKM8AAAAJ:Se3iqnhoufwC', 'kvSIKM8AAAAJ:_FxGoFyzp5QC', 'kvSIKM8AAAAJ:0EnyYjriUFMC', 'kvSIKM8AAAAJ:3fE2CSJIrl8C', 'kvSIKM8AAAAJ:5nxA0vEk-isC', 'kvSIKM8AAAAJ:MXK_kJrjxJIC', 'kvSIKM8AAAAJ:hqOjcs7Dif8C', 'kvSIKM8AAAAJ:roLk4NBRz8UC', 'kvSIKM8AAAAJ:8k81kl-MbHgC', 'kvSIKM8AAAAJ:Zph67rFs4hoC', 'kvSIKM8AAAAJ:KlAtU1dfN6UC', 'kvSIKM8AAAAJ:mvPsJ3kp5DgC', 'kvSIKM8AAAAJ:mVmsd5A6BfQC', 'kvSIKM8AAAAJ:kNdYIx-mwKoC', 'kvSIKM8AAAAJ:4TOpqqG69KYC', 'kvSIKM8AAAAJ:YOwf2qJgpHMC', 'kvSIKM8AAAAJ:ULOm3_A8WrAC', 'kvSIKM8AAAAJ:_kc_bZDykSQC', 'kvSIKM8AAAAJ:M3ejUd6NZC8C', 'kvSIKM8AAAAJ:QIV2ME_5wuYC', 'kvSIKM8AAAAJ:_Qo2XoVZTnwC', 'kvSIKM8AAAAJ:4DMP91E08xMC', 'kvSIKM8AAAAJ:Wp0gIr-vW9MC', 'kvSIKM8AAAAJ:J_g5lzvAfSwC', 'kvSIKM8AAAAJ:RHpTSmoSYBkC', 'kvSIKM8AAAAJ:YFjsv_pBGBYC', 'kvSIKM8AAAAJ:k_IJM867U9cC', 'kvSIKM8AAAAJ:hC7cP41nSMkC', 'kvSIKM8AAAAJ:qUcmZB5y_30C', 'kvSIKM8AAAAJ:V3AGJWp-ZtQC', 'kvSIKM8AAAAJ:L8Ckcad2t8MC', 'kvSIKM8AAAAJ:Y5dfb0dijaUC', 'kvSIKM8AAAAJ:tKAzc9rXhukC', 'kvSIKM8AAAAJ:7PzlFSSx8tAC', 'kvSIKM8AAAAJ:fQNAKQ3IYiAC', 'kvSIKM8AAAAJ:ZeXyd9-uunAC', 'kvSIKM8AAAAJ:VOx2b1Wkg3QC', 'kvSIKM8AAAAJ:blknAaTinKkC', 'kvSIKM8AAAAJ:bEWYMUwI8FkC', 'kvSIKM8AAAAJ:mB3voiENLucC', 'kvSIKM8AAAAJ:R3hNpaxXUhUC', 'kvSIKM8AAAAJ:-f6ydRqryjwC', 'kvSIKM8AAAAJ:e5wmG9Sq2KIC', 'kvSIKM8AAAAJ:N5tVd3kTz84C', 'kvSIKM8AAAAJ:kRWSkSYxWN8C', 'kvSIKM8AAAAJ:HDshCWvjkbEC', 'kvSIKM8AAAAJ:TQgYirikUcIC', 'kvSIKM8AAAAJ:JoZmwDi-zQgC', 'kvSIKM8AAAAJ:1yQoGdGgb4wC', 'kvSIKM8AAAAJ:BrmTIyaxlBUC', 'kvSIKM8AAAAJ:ZfRJV9d4-WMC', 'kvSIKM8AAAAJ:J-pR_7NvFogC', 'kvSIKM8AAAAJ:TFP_iSt0sucC', 'kvSIKM8AAAAJ:UHK10RUVsp4C', 'kvSIKM8AAAAJ:sSrBHYA8nusC', 'kvSIKM8AAAAJ:maZDTaKrznsC', 'kvSIKM8AAAAJ:ns9cj8rnVeAC', 'kvSIKM8AAAAJ:isC4tDSrTZIC', 'kvSIKM8AAAAJ:M3NEmzRMIkIC', 'kvSIKM8AAAAJ:D_sINldO8mEC', 'kvSIKM8AAAAJ:5ugPr518TE4C', 'kvSIKM8AAAAJ:RGFaLdJalmkC', 'kvSIKM8AAAAJ:BqipwSGYUEgC', 'kvSIKM8AAAAJ:fEOibwPWpKIC', 'kvSIKM8AAAAJ:8AbLer7MMksC', 'kvSIKM8AAAAJ:JQOojiI6XY0C', 'kvSIKM8AAAAJ:z_wVstp3MssC', 'kvSIKM8AAAAJ:hMod-77fHWUC', 'kvSIKM8AAAAJ:EkHepimYqZsC', 'kvSIKM8AAAAJ:ipzZ9siozwsC', 'kvSIKM8AAAAJ:uJ-U7cs_P_0C', 'kvSIKM8AAAAJ:nrtMV_XWKgEC', 'kvSIKM8AAAAJ:9Nmd_mFXekcC', 'kvSIKM8AAAAJ:t7zJ5fGR-2UC', 'kvSIKM8AAAAJ:VLnqNzywnoUC', 'kvSIKM8AAAAJ:XD-gHx7UXLsC', 'kvSIKM8AAAAJ:NaGl4SEjCO4C', 'kvSIKM8AAAAJ:tkaPQYYpVKoC', 'kvSIKM8AAAAJ:uc_IGeMz5qoC', 'kvSIKM8AAAAJ:yB1At4FlUx8C', 'kvSIKM8AAAAJ:eflP2zaiRacC', 'kvSIKM8AAAAJ:q3oQSFYPqjQC', 'kvSIKM8AAAAJ:GnPB-g6toBAC', 'kvSIKM8AAAAJ:0KyAp5RtaNEC', 'kvSIKM8AAAAJ:j8SEvjWlNXcC', 'kvSIKM8AAAAJ:wbdj-CoPYUoC'])]\n"
     ]
    }
   ],
   "source": [
    "with open ('outfile', 'rb') as fp:\n",
    "    authors_cid = pickle.load(fp)\n",
    "print(authors_cid)"
   ]
  },
  {
   "cell_type": "code",
   "execution_count": 501,
   "metadata": {
    "collapsed": true
   },
   "outputs": [],
   "source": [
    "driver.quit()"
   ]
  },
  {
   "cell_type": "code",
   "execution_count": 312,
   "metadata": {
    "collapsed": true
   },
   "outputs": [],
   "source": [
    "keywords_to_include = ['renewable energy', 'electric vehicles', 'battery', 'energy storage', 'EV', 'solar power',\n",
    "'urban', 'North America', 'avian', 'biodiversity', 'environment', 'climate', 'solar energy', 'thermal energy', \n",
    "'electronics', 'photonics', 'batteries', 'solar', 'energy', 'urban*', 'development'] \n",
    "\n",
    "include_words = '''los angeles, california, environment, water\n",
    "renewable, energy, algal, biofuels, biomass, fuel\n",
    "climate, california, biodiversity, north america*, native\n",
    "avian, biodiversity, environment, climate\n",
    "transportation networks, ZEV, zero emission vehicles, public transit\n",
    "thermal, battery, storage, energy, solar, wind\n",
    "solar, film, transparent, power, energy, photovoltaic\n",
    "aerosols, air pollution, ultrafine particles, air quality, PM2.5, PM10, ambient'''"
   ]
  },
  {
   "cell_type": "code",
   "execution_count": 213,
   "metadata": {
    "collapsed": true
   },
   "outputs": [],
   "source": [
    "import re\n",
    "regex = re.compile('th.s')\n",
    "l = ['this', 'is', 'just', 'a', 'test']"
   ]
  },
  {
   "cell_type": "code",
   "execution_count": 214,
   "metadata": {
    "collapsed": true
   },
   "outputs": [],
   "source": [
    "matches = [string for string in l if re.match(regex, string)]"
   ]
  },
  {
   "cell_type": "code",
   "execution_count": 6,
   "metadata": {},
   "outputs": [],
   "source": [
    "r = requests.get('https://scholar.google.com/citations?user=gkygJ18AAAAJ&hl=en&oi=ao')"
   ]
  },
  {
   "cell_type": "code",
   "execution_count": 7,
   "metadata": {},
   "outputs": [
    {
     "data": {
      "text/plain": [
       "'https://scholar.google.com/citations?user=gkygJ18AAAAJ&hl=en&oi=ao'"
      ]
     },
     "execution_count": 7,
     "metadata": {},
     "output_type": "execute_result"
    }
   ],
   "source": [
    "r.url"
   ]
  },
  {
   "cell_type": "code",
   "execution_count": 10,
   "metadata": {},
   "outputs": [],
   "source": [
    "csoup = BeautifulSoup(r.text, 'lxml')"
   ]
  },
  {
   "cell_type": "code",
   "execution_count": 168,
   "metadata": {},
   "outputs": [],
   "source": [
    "citations = []\n",
    "for cite in csoup.select('td.gsc_a_t'):\n",
    "    citation = {}\n",
    "    citation['title'] = cite.a.text\n",
    "    citation['gchol_citation_url'] = BASE_URL+cite.a['data-href']\n",
    "    citation['aid'] = cite.a['data-href'].split('&')[3].split('=')[1]\n",
    "    citation['cid'] = cite.a['data-href'].split('&')[4].split('=')[1]\n",
    "    citation['authors'] = cite.find_all('div')[0].text\n",
    "    citation['pub'] = cite.find_all('div')[1].text\n",
    "    citation['year'] = item.find_all('td')[2].text\n",
    "    citation['sla_author'] = csoup.select_one('div#gsc_prf_in').text\n",
    "    citations.append(citation)"
   ]
  },
  {
   "cell_type": "code",
   "execution_count": 171,
   "metadata": {},
   "outputs": [
    {
     "name": "stdout",
     "output_type": "stream",
     "text": [
      "[{'aid': 'gkygJ18AAAAJ',\n",
      "  'authors': 'M Chester, S Pincetl, Z Elizabeth, W Eisenstein, J Matute',\n",
      "  'cid': 'gkygJ18AAAAJ:roLk4NBRz8UC',\n",
      "  'gchol_citation_url': 'https://scholar.google.com/citations/citations?view_op=view_citation&hl=en&oe=ASCII&user=gkygJ18AAAAJ&citation_for_view=gkygJ18AAAAJ:roLk4NBRz8UC',\n",
      "  'pub': 'Environmental Research Letters 8 (1), 015041, 2013',\n",
      "  'sla_author': 'Juan Matute',\n",
      "  'title': 'Infrastructure and automobile shifts: positioning transit to '\n",
      "           'reduce life-cycle environmental impacts for urban sustainability '\n",
      "           'goals',\n",
      "  'year': ''},\n",
      " {'aid': 'gkygJ18AAAAJ',\n",
      "  'authors': 'M Chester, A Fraser, J Matute, C Flower, R Pendyala',\n",
      "  'cid': 'gkygJ18AAAAJ:u-x6o8ySG0sC',\n",
      "  'gchol_citation_url': 'https://scholar.google.com/citations/citations?view_op=view_citation&hl=en&oe=ASCII&user=gkygJ18AAAAJ&citation_for_view=gkygJ18AAAAJ:u-x6o8ySG0sC',\n",
      "  'pub': 'Journal of the American Planning Association 81 (4), 268-286, 2015',\n",
      "  'sla_author': 'Juan Matute',\n",
      "  'title': 'Parking infrastructure: A constraint on or opportunity for urban '\n",
      "           'redevelopment? A study of Los Angeles County parking supply and '\n",
      "           'growth',\n",
      "  'year': ''},\n",
      " {'aid': 'gkygJ18AAAAJ',\n",
      "  'authors': 'JM Matute, MV Chester',\n",
      "  'cid': 'gkygJ18AAAAJ:UeHWp8X0CEIC',\n",
      "  'gchol_citation_url': 'https://scholar.google.com/citations/citations?view_op=view_citation&hl=en&oe=ASCII&user=gkygJ18AAAAJ&citation_for_view=gkygJ18AAAAJ:UeHWp8X0CEIC',\n",
      "  'pub': 'Transportation Research Part D: Transport and Environment 40, '\n",
      "         '104-113, 2015',\n",
      "  'sla_author': 'Juan Matute',\n",
      "  'title': 'Cost-effectiveness of reductions in greenhouse gas emissions from '\n",
      "           'High-Speed Rail and urban transportation projects in California',\n",
      "  'year': ''},\n",
      " {'aid': 'gkygJ18AAAAJ',\n",
      "  'authors': 'JR DeShazo, J Matute',\n",
      "  'cid': 'gkygJ18AAAAJ:d1gkVwhDpl0C',\n",
      "  'gchol_citation_url': 'https://scholar.google.com/citations/citations?view_op=view_citation&hl=en&oe=ASCII&user=gkygJ18AAAAJ&citation_for_view=gkygJ18AAAAJ:d1gkVwhDpl0C',\n",
      "  'pub': 'The Oxford Handbook of Urban Planning, 455-476, 2012',\n",
      "  'sla_author': 'Juan Matute',\n",
      "  'title': 'The local regulation of climate change',\n",
      "  'year': ''},\n",
      " {'aid': 'gkygJ18AAAAJ',\n",
      "  'authors': 'M Chester, W Eisenstein, S Pincetl, Z Elizabeth, J Matute, P '\n",
      "             'Bunje',\n",
      "  'cid': 'gkygJ18AAAAJ:_FxGoFyzp5QC',\n",
      "  'gchol_citation_url': 'https://scholar.google.com/citations/citations?view_op=view_citation&hl=en&oe=ASCII&user=gkygJ18AAAAJ&citation_for_view=gkygJ18AAAAJ:_FxGoFyzp5QC',\n",
      "  'pub': 'Phoenix, AZ, USA, 2012',\n",
      "  'sla_author': 'Juan Matute',\n",
      "  'title': 'Environmental Life-cycle Assessment of Los Angeles Metro’s Orange '\n",
      "           'Bus Rapid Transit and Gold Light Rail Transit Lines',\n",
      "  'year': ''},\n",
      " {'aid': 'gkygJ18AAAAJ',\n",
      "  'authors': 'JM Matute, S Pincetl',\n",
      "  'cid': 'gkygJ18AAAAJ:qjMakFHDy7sC',\n",
      "  'gchol_citation_url': 'https://scholar.google.com/citations/citations?view_op=view_citation&hl=en&oe=ASCII&user=gkygJ18AAAAJ&citation_for_view=gkygJ18AAAAJ:qjMakFHDy7sC',\n",
      "  'pub': '',\n",
      "  'sla_author': 'Juan Matute',\n",
      "  'title': \"Unraveling Ties to Petroleum: How Policy Drives California's \"\n",
      "           'Demand for Oil',\n",
      "  'year': ''},\n",
      " {'aid': 'gkygJ18AAAAJ',\n",
      "  'authors': 'M Chester, J Matute, P Bunje, W Eisenstein, S Pincetl, Z '\n",
      "             'Elizabeth, ...',\n",
      "  'cid': 'gkygJ18AAAAJ:YsMSGLbcyi4C',\n",
      "  'gchol_citation_url': 'https://scholar.google.com/citations/citations?view_op=view_citation&hl=en&oe=ASCII&user=gkygJ18AAAAJ&citation_for_view=gkygJ18AAAAJ:YsMSGLbcyi4C',\n",
      "  'pub': 'UCLA Institute of the Environment and Sustainability, 2012',\n",
      "  'sla_author': 'Juan Matute',\n",
      "  'title': 'Life-Cycle Assessment for Transportation Decision-Making',\n",
      "  'year': ''},\n",
      " {'aid': 'gkygJ18AAAAJ',\n",
      "  'authors': 'J Matute',\n",
      "  'cid': 'gkygJ18AAAAJ:W7OEmFMy1HYC',\n",
      "  'gchol_citation_url': 'https://scholar.google.com/citations/citations?view_op=view_citation&hl=en&oe=ASCII&user=gkygJ18AAAAJ&citation_for_view=gkygJ18AAAAJ:W7OEmFMy1HYC',\n",
      "  'pub': 'UCLA Luskin, 2011',\n",
      "  'sla_author': 'Juan Matute',\n",
      "  'title': 'Measuring progress toward transportation GHG goals',\n",
      "  'year': ''},\n",
      " {'aid': 'gkygJ18AAAAJ',\n",
      "  'authors': 'KH Huff, J Matute, A Garcia, D Zhao',\n",
      "  'cid': 'gkygJ18AAAAJ:2osOgNQ5qMEC',\n",
      "  'gchol_citation_url': 'https://scholar.google.com/citations/citations?view_op=view_citation&hl=en&oe=ASCII&user=gkygJ18AAAAJ&citation_for_view=gkygJ18AAAAJ:2osOgNQ5qMEC',\n",
      "  'pub': 'Transportation Research Board 94th Annual MeetingTransportation '\n",
      "         'Research Board, 2015',\n",
      "  'sla_author': 'Juan Matute',\n",
      "  'title': 'Transit applications of vehicle-to-vehicle and '\n",
      "           'vehicle-to-infrastructure technology',\n",
      "  'year': ''},\n",
      " {'aid': 'gkygJ18AAAAJ',\n",
      "  'authors': 'JM Matute, M Chester, W Eisenstein, S Pincetl',\n",
      "  'cid': 'gkygJ18AAAAJ:eQOLeE2rZwMC',\n",
      "  'gchol_citation_url': 'https://scholar.google.com/citations/citations?view_op=view_citation&hl=en&oe=ASCII&user=gkygJ18AAAAJ&citation_for_view=gkygJ18AAAAJ:eQOLeE2rZwMC',\n",
      "  'pub': 'Transportation Research Board 93rd Annual MeetingTransportation '\n",
      "         'Research Board, 2014',\n",
      "  'sla_author': 'Juan Matute',\n",
      "  'title': 'Life-Cycle Assessment for Transportation Decision Making',\n",
      "  'year': ''},\n",
      " {'aid': 'gkygJ18AAAAJ',\n",
      "  'authors': 'J Matute, J Lederman, H Huff',\n",
      "  'cid': 'gkygJ18AAAAJ:ufrVoPGSRksC',\n",
      "  'gchol_citation_url': 'https://scholar.google.com/citations/citations?view_op=view_citation&hl=en&oe=ASCII&user=gkygJ18AAAAJ&citation_for_view=gkygJ18AAAAJ:ufrVoPGSRksC',\n",
      "  'pub': 'Transportation Research Board 97th Annual MeetingTransportation '\n",
      "         'Research Board, 2018',\n",
      "  'sla_author': 'Juan Matute',\n",
      "  'title': 'Estimating Greenhouse Gas Reductions from Prospective Bikeway '\n",
      "           'Projects',\n",
      "  'year': ''},\n",
      " {'aid': 'gkygJ18AAAAJ',\n",
      "  'authors': 'J Matute, H Huff, J Lederman, D Peza, K Johnson',\n",
      "  'cid': 'gkygJ18AAAAJ:9yKSN-GCB0IC',\n",
      "  'gchol_citation_url': 'https://scholar.google.com/citations/citations?view_op=view_citation&hl=en&oe=ASCII&user=gkygJ18AAAAJ&citation_for_view=gkygJ18AAAAJ:9yKSN-GCB0IC',\n",
      "  'pub': '',\n",
      "  'sla_author': 'Juan Matute',\n",
      "  'title': 'Toward Accurate and Valid Estimates of Greenhouse Gas Reductions '\n",
      "           'From Bikeway Projects',\n",
      "  'year': ''},\n",
      " {'aid': 'gkygJ18AAAAJ',\n",
      "  'authors': 'A Spiro, J Matute',\n",
      "  'cid': 'gkygJ18AAAAJ:WF5omc3nYNoC',\n",
      "  'gchol_citation_url': 'https://scholar.google.com/citations/citations?view_op=view_citation&hl=en&oe=ASCII&user=gkygJ18AAAAJ&citation_for_view=gkygJ18AAAAJ:WF5omc3nYNoC',\n",
      "  'pub': '',\n",
      "  'sla_author': 'Juan Matute',\n",
      "  'title': 'Transition Challenges and Business Models for Green City '\n",
      "           'Architecture Integration',\n",
      "  'year': ''},\n",
      " {'aid': 'gkygJ18AAAAJ',\n",
      "  'authors': 'JM Matute, MV Chester',\n",
      "  'cid': 'gkygJ18AAAAJ:Tyk-4Ss8FVUC',\n",
      "  'gchol_citation_url': 'https://scholar.google.com/citations/citations?view_op=view_citation&hl=en&oe=ASCII&user=gkygJ18AAAAJ&citation_for_view=gkygJ18AAAAJ:Tyk-4Ss8FVUC',\n",
      "  'pub': 'Institute of Transportation Studies, University of California, Los '\n",
      "         'Angeles, 2014',\n",
      "  'sla_author': 'Juan Matute',\n",
      "  'title': 'Cost-Effectiveness of Reductions in Greenhouse Gas Emissions from '\n",
      "           'California High-Speed Rail and Urban Transportation Projects',\n",
      "  'year': ''},\n",
      " {'aid': 'gkygJ18AAAAJ',\n",
      "  'authors': 'JM Matute',\n",
      "  'cid': 'gkygJ18AAAAJ:IjCSPb-OGe4C',\n",
      "  'gchol_citation_url': 'https://scholar.google.com/citations/citations?view_op=view_citation&hl=en&oe=ASCII&user=gkygJ18AAAAJ&citation_for_view=gkygJ18AAAAJ:IjCSPb-OGe4C',\n",
      "  'pub': 'Transportation Research Board 93rd Annual MeetingTransportation '\n",
      "         'Research Board, 2014',\n",
      "  'sla_author': 'Juan Matute',\n",
      "  'title': 'Measuring Progress Toward Passenger Vehicle Greenhouse Gas Goals',\n",
      "  'year': ''},\n",
      " {'aid': 'gkygJ18AAAAJ',\n",
      "  'authors': 'J Matute',\n",
      "  'cid': 'gkygJ18AAAAJ:zYLM7Y9cAGgC',\n",
      "  'gchol_citation_url': 'https://scholar.google.com/citations/citations?view_op=view_citation&hl=en&oe=ASCII&user=gkygJ18AAAAJ&citation_for_view=gkygJ18AAAAJ:zYLM7Y9cAGgC',\n",
      "  'pub': '',\n",
      "  'sla_author': 'Juan Matute',\n",
      "  'title': 'Greenhouse Gas Management: Local Efforts to Curb a Global '\n",
      "           'Phenomenon',\n",
      "  'year': ''},\n",
      " {'aid': 'gkygJ18AAAAJ',\n",
      "  'authors': 'J Matute, D Peterson',\n",
      "  'cid': 'gkygJ18AAAAJ:Se3iqnhoufwC',\n",
      "  'gchol_citation_url': 'https://scholar.google.com/citations/citations?view_op=view_citation&hl=en&oe=ASCII&user=gkygJ18AAAAJ&citation_for_view=gkygJ18AAAAJ:Se3iqnhoufwC',\n",
      "  'pub': 'EVS26 International Battery, Hybrid and Fuel Cell Electric Vehicle '\n",
      "         'Symposium\\xa0…, 2012',\n",
      "  'sla_author': 'Juan Matute',\n",
      "  'title': 'Electric Vehicle Service Provider Networks and Market Distortions',\n",
      "  'year': ''},\n",
      " {'aid': 'gkygJ18AAAAJ',\n",
      "  'authors': 'J Matute',\n",
      "  'cid': 'gkygJ18AAAAJ:LkGwnXOMwfcC',\n",
      "  'gchol_citation_url': 'https://scholar.google.com/citations/citations?view_op=view_citation&hl=en&oe=ASCII&user=gkygJ18AAAAJ&citation_for_view=gkygJ18AAAAJ:LkGwnXOMwfcC',\n",
      "  'pub': '',\n",
      "  'sla_author': 'Juan Matute',\n",
      "  'title': \"Measurement Management: Improving Local Governments' Capacity to \"\n",
      "           'Measure Greenhouse Gas Emissions from Transportation, Facility, '\n",
      "           'and Utility Operations',\n",
      "  'year': ''},\n",
      " {'aid': 'gkygJ18AAAAJ',\n",
      "  'authors': 'JR DESHAZO, J MATUTE',\n",
      "  'cid': 'gkygJ18AAAAJ:Y0pCki6q_DkC',\n",
      "  'gchol_citation_url': 'https://scholar.google.com/citations/citations?view_op=view_citation&hl=en&oe=ASCII&user=gkygJ18AAAAJ&citation_for_view=gkygJ18AAAAJ:Y0pCki6q_DkC',\n",
      "  'pub': '',\n",
      "  'sla_author': 'Juan Matute',\n",
      "  'title': 'TOWARD ACCURATE AND VALID MEASUREMENT OF GREENHOUSE GAS EMISSIONS '\n",
      "           'FOR LOCAL GOVERNMENTS',\n",
      "  'year': ''}]\n",
      "None\n"
     ]
    }
   ],
   "source": [
    "print(pprint(citations))"
   ]
  },
  {
   "cell_type": "code",
   "execution_count": null,
   "metadata": {
    "collapsed": true
   },
   "outputs": [],
   "source": []
  }
 ],
 "metadata": {
  "kernelspec": {
   "display_name": "Python [conda env:anaconda3]",
   "language": "python",
   "name": "conda-env-anaconda3-py"
  },
  "language_info": {
   "codemirror_mode": {
    "name": "ipython",
    "version": 3
   },
   "file_extension": ".py",
   "mimetype": "text/x-python",
   "name": "python",
   "nbconvert_exporter": "python",
   "pygments_lexer": "ipython3",
   "version": "3.5.3"
  }
 },
 "nbformat": 4,
 "nbformat_minor": 2
}
