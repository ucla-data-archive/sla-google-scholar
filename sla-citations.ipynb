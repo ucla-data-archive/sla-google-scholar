{
 "cells": [
  {
   "cell_type": "code",
   "execution_count": 85,
   "metadata": {},
   "outputs": [
    {
     "name": "stdout",
     "output_type": "stream",
     "text": [
      "Collecting urlparse\n",
      "\u001b[31m  Could not find a version that satisfies the requirement urlparse (from versions: )\u001b[0m\n",
      "\u001b[31mNo matching distribution found for urlparse\u001b[0m\n"
     ]
    }
   ],
   "source": [
    "#!pip install selenium\n",
    "#!pip install bs4"
   ]
  },
  {
   "cell_type": "code",
   "execution_count": 179,
   "metadata": {},
   "outputs": [],
   "source": [
    "import requests\n",
    "from bs4 import BeautifulSoup\n",
    "from selenium import webdriver\n",
    "from selenium.common.exceptions import InvalidElementStateException\n",
    "import time\n",
    "import pprint\n",
    "import re\n",
    "import csv"
   ]
  },
  {
   "cell_type": "code",
   "execution_count": 167,
   "metadata": {
    "collapsed": true
   },
   "outputs": [],
   "source": [
    "BASE_URL = 'https://scholar.google.com/citations'"
   ]
  },
  {
   "cell_type": "code",
   "execution_count": 216,
   "metadata": {},
   "outputs": [],
   "source": [
    "def get_users(): \n",
    "    \n",
    "    #links from spreadsheet, next time we can grab \n",
    "    sla_authors = ['https://scholar.google.com/citations?user=v9rIqPQAAAAJ&hl=en',\n",
    "    'https://scholar.google.com/citations?hl=en&user=igIKOZcAAAAJ&view_op=list_works&sortby=pubdate',\n",
    "    'https://scholar.google.com/scholar?hl=en&as_sdt=0%2C5&q=timothy+malloy+ucla&btnG=',\n",
    "    'https://scholar.google.com/citations?user=gkygJ18AAAAJ&hl=en&oi=ao',\n",
    "    'https://scholar.google.com/citations?user=1AG9uzsAAAAJ&hl=en',\n",
    "    'https://scholar.google.com/citations?user=Rl5xhgwAAAAJ&hl=en&oi=ao',\n",
    "    'https://scholar.google.com/citations?user=AfHMFccAAAAJ&hl=en&oi=ao',\n",
    "    'https://scholar.google.com/citations?user=VXvek_AAAAAJ&hl=en&oi=sra',\n",
    "    'https://scholar.google.com/citations?user=9CC9gHoAAAAJ&hl=en&oi=ao',\n",
    "    'https://scholar.google.com/citations?user=rOvEiAYAAAAJ&hl=en',\n",
    "    'https://scholar.google.com/citations?user=GVYNtNsAAAAJ&hl=en',\n",
    "    'https://scholar.google.com/scholar?hl=en&as_sdt=0%2C5&q=CW+Wong+ucla&btnG=',\n",
    "    'https://scholar.google.com/citations?user=ceCfTvcAAAAJ&hl=en&oi=ao',\n",
    "    'https://scholar.google.com/citations?user=kvSIKM8AAAAJ&hl=en&oi=ao']\n",
    "\n",
    "    user_id_regex = re.compile(\"user=(.{12})&\")\n",
    "\n",
    "    user_id = [m.group(1) for a in sla_authors for m in [user_id_regex.search(a)] if m]\n",
    "    #[au in au for sla_authors]\n",
    "\n",
    "    #print(user_id)\n",
    "    return user_id"
   ]
  },
  {
   "cell_type": "code",
   "execution_count": 218,
   "metadata": {
    "collapsed": true
   },
   "outputs": [],
   "source": [
    "def get_full_user_page(user):\n",
    "    \"\"\"\n",
    "    Will click to show all of the articles.\n",
    "    \n",
    "    :param user: an ID for a google scholar user\n",
    "    :returns: returns a list of articles\n",
    "    \n",
    "    \"\"\"\n",
    "    \n",
    "    url = BASE_URL + \"?user=\" + user\n",
    "    \n",
    "    driver.get(url)\n",
    "\n",
    "    pages_remaining = True\n",
    "\n",
    "    while pages_remaining:\n",
    "\n",
    "        try:\n",
    "            #Checks if there are more pages with links\n",
    "            driver.find_element_by_id('gsc_bpf_more').click()         \n",
    "            time.sleep(1)\n",
    "            #print('pages_remaining ', pages_remaining)\n",
    "        except InvalidElementStateException:\n",
    "            gscholar_citations = driver.page_source\n",
    "            pages_remaining = False\n",
    "            #print('pages_remaining ', pages_remaining)\n",
    "    \n",
    "    #driver.quit()\n",
    "    \n",
    "    return gscholar_citations\n"
   ]
  },
  {
   "cell_type": "code",
   "execution_count": 208,
   "metadata": {
    "collapsed": true
   },
   "outputs": [],
   "source": [
    "def get_author_citations_links(page):\n",
    "    \"\"\"\n",
    "    Will take a google sholar profile page and convert to BeautifulSoup object, \n",
    "    then extract the author & citation links. Then returns as a list. \n",
    "    \n",
    "    :param page: a google scholar author page\n",
    "    :returns: returns a list that contains the name of the author and the citation links\n",
    "    \n",
    "    \"\"\"\n",
    "    #make a soup object\n",
    "    gscholar_soup = BeautifulSoup(page, 'lxml')\n",
    "    \n",
    "   \n",
    "    author = gscholar_soup.find(id=\"gsc_prf_in\").get_text()\n",
    "    #author_cite_links.append(author)\n",
    "    citation_links = [link['data-href'] for link in gscholar_soup.select(\"a.gsc_a_at\")]\n",
    "    \n",
    "    #get the IDs from the author_cite_lists \n",
    "    citation_id_regex = re.compile(\"citation_for_view=(.{25})\")\n",
    "    citation_ids = [m.group(1) for c in citation_links for m in [citation_id_regex.search(c)] if m]\n",
    "    \n",
    "    return author, citation_ids"
   ]
  },
  {
   "cell_type": "code",
   "execution_count": 209,
   "metadata": {},
   "outputs": [],
   "source": [
    "author, citation_list = get_author_citations_links(page)"
   ]
  },
  {
   "cell_type": "code",
   "execution_count": 303,
   "metadata": {},
   "outputs": [
    {
     "data": {
      "text/plain": [
       "[{'Authors': 'N Shyamsundar, Rajit Gadh',\n",
       "  'Issue': '9',\n",
       "  'Journal': 'Computer-aided design',\n",
       "  'Pages': '637-651',\n",
       "  'Publication date': '2001/8/1',\n",
       "  'Volume': '33',\n",
       "  'sla_author': 'Rajit Gadh',\n",
       "  'title': 'Internet-based collaborative product design with assembly features and virtual design spaces',\n",
       "  'url': 'https://www.sciencedirect.com/science/article/pii/S0010448501000690'},\n",
       " {'Authors': 'N Shyamsundar, Rajit Gadh',\n",
       "  'Issue': '10',\n",
       "  'Journal': 'Computer-Aided Design',\n",
       "  'Pages': '755-768',\n",
       "  'Publication date': '2002/9/1',\n",
       "  'Volume': '34',\n",
       "  'sla_author': 'Rajit Gadh',\n",
       "  'title': 'Collaborative virtual prototyping of product assemblies over the Internet',\n",
       "  'url': 'https://www.sciencedirect.com/science/article/pii/S0010448501002044'},\n",
       " {'Application number': '09409569',\n",
       "  'Inventors': 'Rajit Gadh, Tushar H Dani',\n",
       "  'Patent number': '6629065',\n",
       "  'Patent office': 'US',\n",
       "  'Publication date': '2003/9/30',\n",
       "  'sla_author': 'Rajit Gadh',\n",
       "  'title': 'Methods and apparata for rapid computer-aided design of objects in virtual reality and other environments',\n",
       "  'url': 'https://patents.google.com/patent/US6629065B1/en'}]"
      ]
     },
     "execution_count": 303,
     "metadata": {},
     "output_type": "execute_result"
    }
   ],
   "source": [
    "get_citations(author, citation_list[:3])"
   ]
  },
  {
   "cell_type": "code",
   "execution_count": 300,
   "metadata": {},
   "outputs": [
    {
     "data": {
      "text/plain": [
       "['v9rIqPQAAAAJ:u5HHmVD_uO8C',\n",
       " 'v9rIqPQAAAAJ:u-x6o8ySG0sC',\n",
       " 'v9rIqPQAAAAJ:d1gkVwhDpl0C',\n",
       " 'v9rIqPQAAAAJ:9yKSN-GCB0IC',\n",
       " 'v9rIqPQAAAAJ:2osOgNQ5qMEC',\n",
       " 'v9rIqPQAAAAJ:UeHWp8X0CEIC',\n",
       " 'v9rIqPQAAAAJ:qjMakFHDy7sC',\n",
       " 'v9rIqPQAAAAJ:LkGwnXOMwfcC',\n",
       " 'v9rIqPQAAAAJ:IjCSPb-OGe4C',\n",
       " 'v9rIqPQAAAAJ:zYLM7Y9cAGgC',\n",
       " 'v9rIqPQAAAAJ:Y0pCki6q_DkC',\n",
       " 'v9rIqPQAAAAJ:Tyk-4Ss8FVUC',\n",
       " 'v9rIqPQAAAAJ:W7OEmFMy1HYC',\n",
       " 'v9rIqPQAAAAJ:YsMSGLbcyi4C',\n",
       " 'v9rIqPQAAAAJ:eQOLeE2rZwMC',\n",
       " 'v9rIqPQAAAAJ:lmc2jWPfTJgC',\n",
       " 'v9rIqPQAAAAJ:WF5omc3nYNoC',\n",
       " 'v9rIqPQAAAAJ:3fE2CSJIrl8C',\n",
       " 'v9rIqPQAAAAJ:0EnyYjriUFMC',\n",
       " 'v9rIqPQAAAAJ:ufrVoPGSRksC',\n",
       " 'v9rIqPQAAAAJ:_FxGoFyzp5QC',\n",
       " 'v9rIqPQAAAAJ:Se3iqnhoufwC',\n",
       " 'v9rIqPQAAAAJ:UebtZRa9Y70C',\n",
       " 'v9rIqPQAAAAJ:roLk4NBRz8UC',\n",
       " 'v9rIqPQAAAAJ:5nxA0vEk-isC',\n",
       " 'v9rIqPQAAAAJ:hqOjcs7Dif8C',\n",
       " 'v9rIqPQAAAAJ:pqnbT2bcN3wC',\n",
       " 'v9rIqPQAAAAJ:MXK_kJrjxJIC',\n",
       " 'v9rIqPQAAAAJ:8k81kl-MbHgC',\n",
       " 'v9rIqPQAAAAJ:kNdYIx-mwKoC',\n",
       " 'v9rIqPQAAAAJ:Zph67rFs4hoC',\n",
       " 'v9rIqPQAAAAJ:KlAtU1dfN6UC',\n",
       " 'v9rIqPQAAAAJ:YOwf2qJgpHMC',\n",
       " 'v9rIqPQAAAAJ:4TOpqqG69KYC',\n",
       " 'v9rIqPQAAAAJ:URolC5Kub84C',\n",
       " 'v9rIqPQAAAAJ:_kc_bZDykSQC',\n",
       " 'v9rIqPQAAAAJ:ULOm3_A8WrAC',\n",
       " 'v9rIqPQAAAAJ:zLWjf1WUPmwC',\n",
       " 'v9rIqPQAAAAJ:qxL8FJ1GzNcC',\n",
       " 'v9rIqPQAAAAJ:epqYDVWIO7EC',\n",
       " 'v9rIqPQAAAAJ:ldfaerwXgEUC',\n",
       " 'v9rIqPQAAAAJ:isC4tDSrTZIC',\n",
       " 'v9rIqPQAAAAJ:ZeXyd9-uunAC',\n",
       " 'v9rIqPQAAAAJ:M3ejUd6NZC8C',\n",
       " 'v9rIqPQAAAAJ:IWHjjKOFINEC',\n",
       " 'v9rIqPQAAAAJ:BqipwSGYUEgC',\n",
       " 'v9rIqPQAAAAJ:mVmsd5A6BfQC',\n",
       " 'v9rIqPQAAAAJ:Wp0gIr-vW9MC',\n",
       " 'v9rIqPQAAAAJ:4DMP91E08xMC',\n",
       " 'v9rIqPQAAAAJ:aqlVkmm33-oC',\n",
       " 'v9rIqPQAAAAJ:dhFuZR0502QC',\n",
       " 'v9rIqPQAAAAJ:JV2RwH3_ST0C',\n",
       " 'v9rIqPQAAAAJ:_Qo2XoVZTnwC',\n",
       " 'v9rIqPQAAAAJ:R3hNpaxXUhUC',\n",
       " 'v9rIqPQAAAAJ:r0BpntZqJG4C',\n",
       " 'v9rIqPQAAAAJ:9ZlFYXVOiuMC',\n",
       " 'v9rIqPQAAAAJ:QIV2ME_5wuYC',\n",
       " 'v9rIqPQAAAAJ:L8Ckcad2t8MC',\n",
       " 'v9rIqPQAAAAJ:hFOr9nPyWt4C',\n",
       " 'v9rIqPQAAAAJ:mB3voiENLucC',\n",
       " 'v9rIqPQAAAAJ:EYYDruWGBe4C',\n",
       " 'v9rIqPQAAAAJ:7PzlFSSx8tAC',\n",
       " 'v9rIqPQAAAAJ:TQgYirikUcIC',\n",
       " 'v9rIqPQAAAAJ:HDshCWvjkbEC',\n",
       " 'v9rIqPQAAAAJ:-f6ydRqryjwC',\n",
       " 'v9rIqPQAAAAJ:qUcmZB5y_30C',\n",
       " 'v9rIqPQAAAAJ:blknAaTinKkC',\n",
       " 'v9rIqPQAAAAJ:TFP_iSt0sucC',\n",
       " 'v9rIqPQAAAAJ:BUYA1_V_uYcC',\n",
       " 'v9rIqPQAAAAJ:4MWp96NkSFoC',\n",
       " 'v9rIqPQAAAAJ:e5wmG9Sq2KIC',\n",
       " 'v9rIqPQAAAAJ:NaGl4SEjCO4C',\n",
       " 'v9rIqPQAAAAJ:j3f4tGmQtD8C',\n",
       " 'v9rIqPQAAAAJ:O3NaXMp0MMsC',\n",
       " 'v9rIqPQAAAAJ:RYcK_YlVTxYC',\n",
       " 'v9rIqPQAAAAJ:k_IJM867U9cC',\n",
       " 'v9rIqPQAAAAJ:bEWYMUwI8FkC',\n",
       " 'v9rIqPQAAAAJ:RHpTSmoSYBkC',\n",
       " 'v9rIqPQAAAAJ:4JMBOYKVnBMC',\n",
       " 'v9rIqPQAAAAJ:hMod-77fHWUC',\n",
       " 'v9rIqPQAAAAJ:70eg2SAEIzsC',\n",
       " 'v9rIqPQAAAAJ:iH-uZ7U-co4C',\n",
       " 'v9rIqPQAAAAJ:M3NEmzRMIkIC',\n",
       " 'v9rIqPQAAAAJ:NMxIlDl6LWMC',\n",
       " 'v9rIqPQAAAAJ:kuK5TVdYjLIC',\n",
       " 'v9rIqPQAAAAJ:YFjsv_pBGBYC',\n",
       " 'v9rIqPQAAAAJ:maZDTaKrznsC',\n",
       " 'v9rIqPQAAAAJ:GnPB-g6toBAC',\n",
       " 'v9rIqPQAAAAJ:lSLTfruPkqcC',\n",
       " 'v9rIqPQAAAAJ:ns9cj8rnVeAC',\n",
       " 'v9rIqPQAAAAJ:xtRiw3GOFMkC',\n",
       " 'v9rIqPQAAAAJ:RGFaLdJalmkC',\n",
       " 'v9rIqPQAAAAJ:vV6vV6tmYwMC',\n",
       " 'v9rIqPQAAAAJ:2P1L_qKh6hAC',\n",
       " 'v9rIqPQAAAAJ:35N4QoGY0k4C',\n",
       " 'v9rIqPQAAAAJ:J_g5lzvAfSwC',\n",
       " 'v9rIqPQAAAAJ:WbkHhVStYXYC',\n",
       " 'v9rIqPQAAAAJ:g5m5HwL7SMYC',\n",
       " 'v9rIqPQAAAAJ:M05iB0D1s5AC',\n",
       " 'v9rIqPQAAAAJ:SeFeTyx0c_EC',\n",
       " 'v9rIqPQAAAAJ:TIZ-Mc8IlK0C',\n",
       " 'v9rIqPQAAAAJ:VL0QpB8kHFEC',\n",
       " 'v9rIqPQAAAAJ:LPZeul_q3PIC',\n",
       " 'v9rIqPQAAAAJ:u_35RYKgDlwC',\n",
       " 'v9rIqPQAAAAJ:cFHS6HbyZ2cC',\n",
       " 'v9rIqPQAAAAJ:HoB7MX3m0LUC',\n",
       " 'v9rIqPQAAAAJ:fPk4N6BV_jEC',\n",
       " 'v9rIqPQAAAAJ:yD5IFk8b50cC',\n",
       " 'v9rIqPQAAAAJ:pyW8ca7W8N0C',\n",
       " 'v9rIqPQAAAAJ:ZHo1McVdvXMC',\n",
       " 'v9rIqPQAAAAJ:KUbvn5osdkgC',\n",
       " 'v9rIqPQAAAAJ:dfsIfKJdRG4C',\n",
       " 'v9rIqPQAAAAJ:geHnlv5EZngC',\n",
       " 'v9rIqPQAAAAJ:Tiz5es2fbqcC',\n",
       " 'v9rIqPQAAAAJ:_xSYboBqXhAC',\n",
       " 'v9rIqPQAAAAJ:D03iK_w7-QYC',\n",
       " 'v9rIqPQAAAAJ:a0OBvERweLwC',\n",
       " 'v9rIqPQAAAAJ:tYavs44e6CUC',\n",
       " 'v9rIqPQAAAAJ:4OULZ7Gr8RgC',\n",
       " 'v9rIqPQAAAAJ:3s1wT3WcHBgC',\n",
       " 'v9rIqPQAAAAJ:zA6iFVUQeVQC',\n",
       " 'v9rIqPQAAAAJ:uc_IGeMz5qoC',\n",
       " 'v9rIqPQAAAAJ:hMsQuOkrut0C',\n",
       " 'v9rIqPQAAAAJ:738O_yMBCRsC',\n",
       " 'v9rIqPQAAAAJ:nb7KW1ujOQ8C',\n",
       " 'v9rIqPQAAAAJ:f2IySw72cVMC',\n",
       " 'v9rIqPQAAAAJ:CHSYGLWDkRkC',\n",
       " 'v9rIqPQAAAAJ:b0M2c_1WBrUC',\n",
       " 'v9rIqPQAAAAJ:EUQCXRtRnyEC',\n",
       " 'v9rIqPQAAAAJ:rO6llkc54NcC',\n",
       " 'v9rIqPQAAAAJ:bFI3QPDXJZMC',\n",
       " 'v9rIqPQAAAAJ:XiSMed-E-HIC',\n",
       " 'v9rIqPQAAAAJ:N5tVd3kTz84C',\n",
       " 'v9rIqPQAAAAJ:p2g8aNsByqUC',\n",
       " 'v9rIqPQAAAAJ:SP6oXDckpogC',\n",
       " 'v9rIqPQAAAAJ:l7t_Zn2s7bgC',\n",
       " 'v9rIqPQAAAAJ:4fKUyHm3Qg0C',\n",
       " 'v9rIqPQAAAAJ:NhqRSupF_l8C',\n",
       " 'v9rIqPQAAAAJ:abG-DnoFyZgC',\n",
       " 'v9rIqPQAAAAJ:1sJd4Hv_s6UC',\n",
       " 'v9rIqPQAAAAJ:UxriW0iASnsC',\n",
       " 'v9rIqPQAAAAJ:KxtntwgDAa4C',\n",
       " 'v9rIqPQAAAAJ:P5F9QuxV20EC',\n",
       " 'v9rIqPQAAAAJ:dshw04ExmUIC',\n",
       " 'v9rIqPQAAAAJ:uWQEDVKXjbEC',\n",
       " 'v9rIqPQAAAAJ:Y5dfb0dijaUC',\n",
       " 'v9rIqPQAAAAJ:BrmTIyaxlBUC',\n",
       " 'v9rIqPQAAAAJ:OU6Ihb5iCvQC',\n",
       " 'v9rIqPQAAAAJ:K3LRdlH-MEoC',\n",
       " 'v9rIqPQAAAAJ:sSrBHYA8nusC',\n",
       " 'v9rIqPQAAAAJ:uWiczbcajpAC',\n",
       " 'v9rIqPQAAAAJ:u9iWguZQMMsC',\n",
       " 'v9rIqPQAAAAJ:8AbLer7MMksC',\n",
       " 'v9rIqPQAAAAJ:L7CI7m0gUJcC',\n",
       " 'v9rIqPQAAAAJ:dQ2og3OwTAUC',\n",
       " 'v9rIqPQAAAAJ:08ZZubdj9fEC',\n",
       " 'v9rIqPQAAAAJ:mvPsJ3kp5DgC',\n",
       " 'v9rIqPQAAAAJ:VOx2b1Wkg3QC',\n",
       " 'v9rIqPQAAAAJ:tS2w5q8j5-wC',\n",
       " 'v9rIqPQAAAAJ:vRqMK49ujn8C',\n",
       " 'v9rIqPQAAAAJ:vDijr-p_gm4C',\n",
       " 'v9rIqPQAAAAJ:EkHepimYqZsC',\n",
       " 'v9rIqPQAAAAJ:tOudhMTPpwUC',\n",
       " 'v9rIqPQAAAAJ:B3FOqHPlNUQC',\n",
       " 'v9rIqPQAAAAJ:fQNAKQ3IYiAC',\n",
       " 'v9rIqPQAAAAJ:HE397vMXCloC',\n",
       " 'v9rIqPQAAAAJ:UHK10RUVsp4C',\n",
       " 'v9rIqPQAAAAJ:wbdj-CoPYUoC',\n",
       " 'v9rIqPQAAAAJ:J-pR_7NvFogC',\n",
       " 'v9rIqPQAAAAJ:q3oQSFYPqjQC',\n",
       " 'v9rIqPQAAAAJ:V3AGJWp-ZtQC',\n",
       " 'v9rIqPQAAAAJ:eflP2zaiRacC',\n",
       " 'v9rIqPQAAAAJ:eJXPG6dFmWUC',\n",
       " 'v9rIqPQAAAAJ:1qzjygNMrQYC',\n",
       " 'v9rIqPQAAAAJ:BwyfMAYsbu0C',\n",
       " 'v9rIqPQAAAAJ:5Ul4iDaHHb8C',\n",
       " 'v9rIqPQAAAAJ:D_sINldO8mEC',\n",
       " 'v9rIqPQAAAAJ:kRWSkSYxWN8C',\n",
       " 'v9rIqPQAAAAJ:MLfJN-KU85MC',\n",
       " 'v9rIqPQAAAAJ:g3aElNc5_aQC',\n",
       " 'v9rIqPQAAAAJ:ILKRHgRFtOwC',\n",
       " 'v9rIqPQAAAAJ:p__nRnzSRKYC',\n",
       " 'v9rIqPQAAAAJ:_Ybze24A_UAC',\n",
       " 'v9rIqPQAAAAJ:35r97b3x0nAC',\n",
       " 'v9rIqPQAAAAJ:bnK-pcrLprsC',\n",
       " 'v9rIqPQAAAAJ:7T2F9Uy0os0C',\n",
       " 'v9rIqPQAAAAJ:b1wdh0AR-JQC',\n",
       " 'v9rIqPQAAAAJ:tzM49s52ZIMC',\n",
       " 'v9rIqPQAAAAJ:PELIpwtuRlgC',\n",
       " 'v9rIqPQAAAAJ:evX43VCCuoAC',\n",
       " 'v9rIqPQAAAAJ:j8SEvjWlNXcC',\n",
       " 'v9rIqPQAAAAJ:_Re3VWB3Y0AC',\n",
       " 'v9rIqPQAAAAJ:Fu2w8maKXqMC',\n",
       " 'v9rIqPQAAAAJ:dTyEYWd-f8wC',\n",
       " 'v9rIqPQAAAAJ:t6usbXjVLHcC',\n",
       " 'v9rIqPQAAAAJ:kzcrU_BdoSEC',\n",
       " 'v9rIqPQAAAAJ:W5xh706n7nkC',\n",
       " 'v9rIqPQAAAAJ:AXPGKjj_ei8C',\n",
       " 'v9rIqPQAAAAJ:WA5NYHcadZ8C',\n",
       " 'v9rIqPQAAAAJ:eMMeJKvmdy0C',\n",
       " 'v9rIqPQAAAAJ:XiVPGOgt02cC',\n",
       " 'v9rIqPQAAAAJ:gsN89kCJA0AC',\n",
       " 'v9rIqPQAAAAJ:JoZmwDi-zQgC',\n",
       " 'v9rIqPQAAAAJ:z_wVstp3MssC',\n",
       " 'v9rIqPQAAAAJ:_B80troHkn4C',\n",
       " 'v9rIqPQAAAAJ:0KyAp5RtaNEC',\n",
       " 'v9rIqPQAAAAJ:9Nmd_mFXekcC',\n",
       " 'v9rIqPQAAAAJ:ZuybSZzF8UAC',\n",
       " 'v9rIqPQAAAAJ:LI9QrySNdTsC',\n",
       " 'v9rIqPQAAAAJ:uLbwQdceFCQC',\n",
       " 'v9rIqPQAAAAJ:5awf1xo2G04C',\n",
       " 'v9rIqPQAAAAJ:SdhP9T11ey4C',\n",
       " 'v9rIqPQAAAAJ:LjlpjdlvIbIC',\n",
       " 'v9rIqPQAAAAJ:uJ-U7cs_P_0C',\n",
       " 'v9rIqPQAAAAJ:tuHXwOkdijsC',\n",
       " 'v9rIqPQAAAAJ:vbGhcppDl1QC',\n",
       " 'v9rIqPQAAAAJ:ipzZ9siozwsC',\n",
       " 'v9rIqPQAAAAJ:yB1At4FlUx8C',\n",
       " 'v9rIqPQAAAAJ:nrtMV_XWKgEC',\n",
       " 'v9rIqPQAAAAJ:XD-gHx7UXLsC',\n",
       " 'v9rIqPQAAAAJ:t7zJ5fGR-2UC',\n",
       " 'v9rIqPQAAAAJ:VLnqNzywnoUC',\n",
       " 'v9rIqPQAAAAJ:fEOibwPWpKIC',\n",
       " 'v9rIqPQAAAAJ:-_dYPAW6P2MC',\n",
       " 'v9rIqPQAAAAJ:JQOojiI6XY0C',\n",
       " 'v9rIqPQAAAAJ:hkOj_22Ku90C',\n",
       " 'v9rIqPQAAAAJ:PR6Y55bgFSsC',\n",
       " 'v9rIqPQAAAAJ:1yQoGdGgb4wC',\n",
       " 'v9rIqPQAAAAJ:WqliGbK-hY8C',\n",
       " 'v9rIqPQAAAAJ:eq2jaN3J8jMC',\n",
       " 'v9rIqPQAAAAJ:tkaPQYYpVKoC',\n",
       " 'v9rIqPQAAAAJ:olpn-zPbct0C',\n",
       " 'v9rIqPQAAAAJ:5ugPr518TE4C']"
      ]
     },
     "execution_count": 300,
     "metadata": {},
     "output_type": "execute_result"
    }
   ],
   "source": [
    "citation_list"
   ]
  },
  {
   "cell_type": "code",
   "execution_count": 304,
   "metadata": {},
   "outputs": [],
   "source": [
    "def get_citations(author, cids):\n",
    "    \"\"\"\n",
    "    Takes a list that contains the author and her citation page links. Opens and scrapes\n",
    "    citation pages and builds a dictionary of the author and citations. Returns the dict.\n",
    "    \n",
    "    :param links: a list containing author and another list of citation pages.\n",
    "    :returns: returns a dictionary with the author and their citations.\n",
    "    \"\"\"\n",
    "        \n",
    "    author_bib = []\n",
    "    \n",
    "    for l in cids: \n",
    "        #citation_for_view=igIKOZcAAAAJ:tntj4plCNvAC\n",
    "        search_params = {'view_op': 'view_citation',\n",
    "                         'h1': 'en',\n",
    "                         'citation_for_view':l}\n",
    "        cite_page = requests.get(BASE_URL, params=search_params)\n",
    "        #print(cite_page.url)\n",
    "        cpage_soup = BeautifulSoup(cite_page.text, 'lxml')\n",
    "        #link & title = a gsc_vcd_title_link\n",
    "        #authors = div gsc_vcd_value\n",
    "        #date = div gsc_vcd_value\n",
    "        citation = {}\n",
    "        citation['title'] = cpage_soup.select_one(\"a.gsc_vcd_title_link\").text\n",
    "        citation['url'] = cpage_soup.select_one(\"a.gsc_vcd_title_link\")['href']\n",
    "        citation['sla_author'] = author\n",
    "        for ele in cpage_soup.select('div.gsc_vcd_field'):\n",
    "            if ele.text in [\"Description\", \"Total citations\", \"Scholar articles\", \"Publisher\", \"Application number\"]:\n",
    "                continue\n",
    "            else: \n",
    "                citation[ele.text] = ele.next_sibling.text\n",
    "        author_bib.append(citation)\n",
    "    return author_bib"
   ]
  },
  {
   "cell_type": "code",
   "execution_count": 305,
   "metadata": {
    "collapsed": true
   },
   "outputs": [],
   "source": [
    "def write_out_csv(author, citations):\n",
    "    pass\n",
    "    "
   ]
  },
  {
   "cell_type": "markdown",
   "metadata": {},
   "source": [
    "### run the code below\n",
    "1. start webdriver, it will stay active till you driver.quit() \n",
    "  * TODO: run headless \n",
    "2. run loop that will grab uids from list"
   ]
  },
  {
   "cell_type": "code",
   "execution_count": 230,
   "metadata": {},
   "outputs": [],
   "source": [
    "driver = webdriver.Firefox()"
   ]
  },
  {
   "cell_type": "code",
   "execution_count": 231,
   "metadata": {},
   "outputs": [
    {
     "name": "stdout",
     "output_type": "stream",
     "text": [
      "v9rIqPQAAAAJ\n"
     ]
    }
   ],
   "source": [
    "for uid in get_users()[:1]:\n",
    "    print(uid)\n",
    "    page = get_full_user_page(uid)\n",
    "    #show_all_articles on profile page\n",
    "    #full_page = show_all_articles(uid)\n",
    "    #sla_author_name, citations = get_citations(get_author_citations_links(full_page))\n",
    "    #TODO\n",
    "    #save out in csv"
   ]
  },
  {
   "cell_type": "code",
   "execution_count": 232,
   "metadata": {},
   "outputs": [
    {
     "data": {
      "text/plain": [
       "str"
      ]
     },
     "execution_count": 232,
     "metadata": {},
     "output_type": "execute_result"
    }
   ],
   "source": []
  },
  {
   "cell_type": "code",
   "execution_count": 220,
   "metadata": {
    "collapsed": true
   },
   "outputs": [
    {
     "ename": "SessionNotCreatedException",
     "evalue": "Message: Tried to run command without establishing a connection\n",
     "output_type": "error",
     "traceback": [
      "\u001b[0;31m---------------------------------------------------------------------------\u001b[0m",
      "\u001b[0;31mSessionNotCreatedException\u001b[0m                Traceback (most recent call last)",
      "\u001b[0;32m<ipython-input-220-1735c510a44b>\u001b[0m in \u001b[0;36m<module>\u001b[0;34m()\u001b[0m\n\u001b[1;32m      1\u001b[0m \u001b[0;32mif\u001b[0m \u001b[0mdriver\u001b[0m\u001b[0;34m:\u001b[0m\u001b[0;34m\u001b[0m\u001b[0m\n\u001b[0;32m----> 2\u001b[0;31m     \u001b[0mdriver\u001b[0m\u001b[0;34m.\u001b[0m\u001b[0mquit\u001b[0m\u001b[0;34m(\u001b[0m\u001b[0;34m)\u001b[0m\u001b[0;34m\u001b[0m\u001b[0m\n\u001b[0m",
      "\u001b[0;32m/Users/timdennis/anaconda3/lib/python3.5/site-packages/selenium/webdriver/firefox/webdriver.py\u001b[0m in \u001b[0;36mquit\u001b[0;34m(self)\u001b[0m\n\u001b[1;32m    189\u001b[0m         \u001b[0;34m\"\"\"Quits the driver and close every associated window.\"\"\"\u001b[0m\u001b[0;34m\u001b[0m\u001b[0m\n\u001b[1;32m    190\u001b[0m         \u001b[0;32mtry\u001b[0m\u001b[0;34m:\u001b[0m\u001b[0;34m\u001b[0m\u001b[0m\n\u001b[0;32m--> 191\u001b[0;31m             \u001b[0mRemoteWebDriver\u001b[0m\u001b[0;34m.\u001b[0m\u001b[0mquit\u001b[0m\u001b[0;34m(\u001b[0m\u001b[0mself\u001b[0m\u001b[0;34m)\u001b[0m\u001b[0;34m\u001b[0m\u001b[0m\n\u001b[0m\u001b[1;32m    192\u001b[0m         \u001b[0;32mexcept\u001b[0m \u001b[0;34m(\u001b[0m\u001b[0mhttp_client\u001b[0m\u001b[0;34m.\u001b[0m\u001b[0mBadStatusLine\u001b[0m\u001b[0;34m,\u001b[0m \u001b[0msocket\u001b[0m\u001b[0;34m.\u001b[0m\u001b[0merror\u001b[0m\u001b[0;34m)\u001b[0m\u001b[0;34m:\u001b[0m\u001b[0;34m\u001b[0m\u001b[0m\n\u001b[1;32m    193\u001b[0m             \u001b[0;31m# Happens if Firefox shutsdown before we've read the response from\u001b[0m\u001b[0;34m\u001b[0m\u001b[0;34m\u001b[0m\u001b[0m\n",
      "\u001b[0;32m/Users/timdennis/anaconda3/lib/python3.5/site-packages/selenium/webdriver/remote/webdriver.py\u001b[0m in \u001b[0;36mquit\u001b[0;34m(self)\u001b[0m\n\u001b[1;32m    687\u001b[0m         \"\"\"\n\u001b[1;32m    688\u001b[0m         \u001b[0;32mtry\u001b[0m\u001b[0;34m:\u001b[0m\u001b[0;34m\u001b[0m\u001b[0m\n\u001b[0;32m--> 689\u001b[0;31m             \u001b[0mself\u001b[0m\u001b[0;34m.\u001b[0m\u001b[0mexecute\u001b[0m\u001b[0;34m(\u001b[0m\u001b[0mCommand\u001b[0m\u001b[0;34m.\u001b[0m\u001b[0mQUIT\u001b[0m\u001b[0;34m)\u001b[0m\u001b[0;34m\u001b[0m\u001b[0m\n\u001b[0m\u001b[1;32m    690\u001b[0m         \u001b[0;32mfinally\u001b[0m\u001b[0;34m:\u001b[0m\u001b[0;34m\u001b[0m\u001b[0m\n\u001b[1;32m    691\u001b[0m             \u001b[0mself\u001b[0m\u001b[0;34m.\u001b[0m\u001b[0mstop_client\u001b[0m\u001b[0;34m(\u001b[0m\u001b[0;34m)\u001b[0m\u001b[0;34m\u001b[0m\u001b[0m\n",
      "\u001b[0;32m/Users/timdennis/anaconda3/lib/python3.5/site-packages/selenium/webdriver/remote/webdriver.py\u001b[0m in \u001b[0;36mexecute\u001b[0;34m(self, driver_command, params)\u001b[0m\n\u001b[1;32m    310\u001b[0m         \u001b[0mresponse\u001b[0m \u001b[0;34m=\u001b[0m \u001b[0mself\u001b[0m\u001b[0;34m.\u001b[0m\u001b[0mcommand_executor\u001b[0m\u001b[0;34m.\u001b[0m\u001b[0mexecute\u001b[0m\u001b[0;34m(\u001b[0m\u001b[0mdriver_command\u001b[0m\u001b[0;34m,\u001b[0m \u001b[0mparams\u001b[0m\u001b[0;34m)\u001b[0m\u001b[0;34m\u001b[0m\u001b[0m\n\u001b[1;32m    311\u001b[0m         \u001b[0;32mif\u001b[0m \u001b[0mresponse\u001b[0m\u001b[0;34m:\u001b[0m\u001b[0;34m\u001b[0m\u001b[0m\n\u001b[0;32m--> 312\u001b[0;31m             \u001b[0mself\u001b[0m\u001b[0;34m.\u001b[0m\u001b[0merror_handler\u001b[0m\u001b[0;34m.\u001b[0m\u001b[0mcheck_response\u001b[0m\u001b[0;34m(\u001b[0m\u001b[0mresponse\u001b[0m\u001b[0;34m)\u001b[0m\u001b[0;34m\u001b[0m\u001b[0m\n\u001b[0m\u001b[1;32m    313\u001b[0m             response['value'] = self._unwrap_value(\n\u001b[1;32m    314\u001b[0m                 response.get('value', None))\n",
      "\u001b[0;32m/Users/timdennis/anaconda3/lib/python3.5/site-packages/selenium/webdriver/remote/errorhandler.py\u001b[0m in \u001b[0;36mcheck_response\u001b[0;34m(self, response)\u001b[0m\n\u001b[1;32m    240\u001b[0m                 \u001b[0malert_text\u001b[0m \u001b[0;34m=\u001b[0m \u001b[0mvalue\u001b[0m\u001b[0;34m[\u001b[0m\u001b[0;34m'alert'\u001b[0m\u001b[0;34m]\u001b[0m\u001b[0;34m.\u001b[0m\u001b[0mget\u001b[0m\u001b[0;34m(\u001b[0m\u001b[0;34m'text'\u001b[0m\u001b[0;34m)\u001b[0m\u001b[0;34m\u001b[0m\u001b[0m\n\u001b[1;32m    241\u001b[0m             \u001b[0;32mraise\u001b[0m \u001b[0mexception_class\u001b[0m\u001b[0;34m(\u001b[0m\u001b[0mmessage\u001b[0m\u001b[0;34m,\u001b[0m \u001b[0mscreen\u001b[0m\u001b[0;34m,\u001b[0m \u001b[0mstacktrace\u001b[0m\u001b[0;34m,\u001b[0m \u001b[0malert_text\u001b[0m\u001b[0;34m)\u001b[0m\u001b[0;34m\u001b[0m\u001b[0m\n\u001b[0;32m--> 242\u001b[0;31m         \u001b[0;32mraise\u001b[0m \u001b[0mexception_class\u001b[0m\u001b[0;34m(\u001b[0m\u001b[0mmessage\u001b[0m\u001b[0;34m,\u001b[0m \u001b[0mscreen\u001b[0m\u001b[0;34m,\u001b[0m \u001b[0mstacktrace\u001b[0m\u001b[0;34m)\u001b[0m\u001b[0;34m\u001b[0m\u001b[0m\n\u001b[0m\u001b[1;32m    243\u001b[0m \u001b[0;34m\u001b[0m\u001b[0m\n\u001b[1;32m    244\u001b[0m     \u001b[0;32mdef\u001b[0m \u001b[0m_value_or_default\u001b[0m\u001b[0;34m(\u001b[0m\u001b[0mself\u001b[0m\u001b[0;34m,\u001b[0m \u001b[0mobj\u001b[0m\u001b[0;34m,\u001b[0m \u001b[0mkey\u001b[0m\u001b[0;34m,\u001b[0m \u001b[0mdefault\u001b[0m\u001b[0;34m)\u001b[0m\u001b[0;34m:\u001b[0m\u001b[0;34m\u001b[0m\u001b[0m\n",
      "\u001b[0;31mSessionNotCreatedException\u001b[0m: Message: Tried to run command without establishing a connection\n"
     ]
    }
   ],
   "source": [
    "driver.quit()"
   ]
  },
  {
   "cell_type": "code",
   "execution_count": 213,
   "metadata": {
    "collapsed": true
   },
   "outputs": [],
   "source": [
    "import re\n",
    "regex = re.compile('th.s')\n",
    "l = ['this', 'is', 'just', 'a', 'test']"
   ]
  },
  {
   "cell_type": "code",
   "execution_count": 214,
   "metadata": {
    "collapsed": true
   },
   "outputs": [],
   "source": [
    "matches = [string for string in l if re.match(regex, string)]"
   ]
  },
  {
   "cell_type": "code",
   "execution_count": 215,
   "metadata": {},
   "outputs": [
    {
     "data": {
      "text/plain": [
       "['this']"
      ]
     },
     "execution_count": 215,
     "metadata": {},
     "output_type": "execute_result"
    }
   ],
   "source": [
    "matches"
   ]
  },
  {
   "cell_type": "code",
   "execution_count": 291,
   "metadata": {
    "collapsed": true
   },
   "outputs": [],
   "source": [
    "search_params = {'view_op': 'view_citation',\n",
    "                         'h1': 'en',\n",
    "                         'citation_for_view':'igIKOZcAAAAJ:tntj4plCNvAC'}\n",
    "cpage = requests.get(BASE_URL, params=search_params)"
   ]
  },
  {
   "cell_type": "code",
   "execution_count": 286,
   "metadata": {
    "collapsed": true
   },
   "outputs": [],
   "source": [
    "cpage = requests.get('https://scholar.google.com/citations?view_op=view_citation&hl=en&citation_for_view=igIKOZcAAAAJ:tntj4plCNvAC')"
   ]
  },
  {
   "cell_type": "code",
   "execution_count": 292,
   "metadata": {},
   "outputs": [
    {
     "data": {
      "text/plain": [
       "'https://scholar.google.com/citations?citation_for_view=igIKOZcAAAAJ%3Atntj4plCNvAC&view_op=view_citation&h1=en'"
      ]
     },
     "execution_count": 292,
     "metadata": {},
     "output_type": "execute_result"
    }
   ],
   "source": [
    "cpage.url"
   ]
  },
  {
   "cell_type": "code",
   "execution_count": 293,
   "metadata": {},
   "outputs": [],
   "source": [
    "c_page_soup = BeautifulSoup(cpage.text, 'lxml')"
   ]
  },
  {
   "cell_type": "code",
   "execution_count": 294,
   "metadata": {},
   "outputs": [
    {
     "data": {
      "text/plain": [
       "'Ge/Si nanowire heterostructures as high-performance field-effect transistors'"
      ]
     },
     "execution_count": 294,
     "metadata": {},
     "output_type": "execute_result"
    }
   ],
   "source": [
    "c_page_soup.select('a.gsc_vcd_title_link')[0].text"
   ]
  },
  {
   "cell_type": "code",
   "execution_count": 295,
   "metadata": {},
   "outputs": [
    {
     "data": {
      "text/plain": [
       "'https://www.nature.com/articles/nature04796'"
      ]
     },
     "execution_count": 295,
     "metadata": {},
     "output_type": "execute_result"
    }
   ],
   "source": [
    "c_page_soup.select_one('a.gsc_vcd_title_link')['href']"
   ]
  },
  {
   "cell_type": "code",
   "execution_count": null,
   "metadata": {
    "collapsed": true
   },
   "outputs": [],
   "source": [
    "https://scholar.google.com/citations?view_op=view_citation&hl=en&user=igIKOZcAAAAJ&citation_for_view=igIKOZcAAAAJ:tntj4plCNvAC"
   ]
  }
 ],
 "metadata": {
  "kernelspec": {
   "display_name": "Python [conda env:anaconda3]",
   "language": "python",
   "name": "conda-env-anaconda3-py"
  },
  "language_info": {
   "codemirror_mode": {
    "name": "ipython",
    "version": 3
   },
   "file_extension": ".py",
   "mimetype": "text/x-python",
   "name": "python",
   "nbconvert_exporter": "python",
   "pygments_lexer": "ipython3",
   "version": "3.5.3"
  }
 },
 "nbformat": 4,
 "nbformat_minor": 2
}
